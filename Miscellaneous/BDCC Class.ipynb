{
 "cells": [
  {
   "cell_type": "markdown",
   "id": "ffeaba67-867c-400c-8da8-c04320545a03",
   "metadata": {},
   "source": [
    "This notebook was created by Donna Faith Go."
   ]
  },
  {
   "cell_type": "markdown",
   "id": "1abe81fb-bdad-44a1-9d58-77ebbd1af0bc",
   "metadata": {},
   "source": [
    "## Imports"
   ]
  },
  {
   "cell_type": "code",
   "execution_count": 1,
   "id": "97407af8-5791-4fde-8753-ca974b552ed1",
   "metadata": {},
   "outputs": [],
   "source": [
    "from typing import List, Optional\n",
    "import math\n",
    "from collections import deque"
   ]
  },
  {
   "cell_type": "markdown",
   "id": "3ff2b897-d4d7-4877-ab76-0bcf2670bca3",
   "metadata": {},
   "source": [
    "### BDCC Class\n",
    "I tried to apply dynamic programming to our BDCC class work. \n",
    "Here, we were tasked to list down all the possible combinations of subsets from a list, and tally the number of times this pair appears in a given dataframe.\n",
    "During this class, our professor was trying to prove a point where the brute force method for looking at frequent itemsets is tedious."
   ]
  },
  {
   "cell_type": "markdown",
   "id": "4cb92f4a-5de5-4143-af24-8b1d7a13fdbf",
   "metadata": {},
   "source": [
    "This is the given dataframe."
   ]
  },
  {
   "cell_type": "code",
   "execution_count": 2,
   "id": "03979137-8b29-40f1-a0cf-e534001e29fe",
   "metadata": {},
   "outputs": [],
   "source": [
    "db = [{\"bread\", \"butter\", \"milk\"},\n",
    "      {\"eggs\", \"milk\", \"yogurt\"},\n",
    "      {\"bread\", \"cheese\", \"eggs\", \"milk\"},\n",
    "      {\"eggs\", \"milk\", \"yogurt\"},\n",
    "      {\"cheese\", \"milk\", \"yogurt\"}]\n",
    "\n",
    "items = ['bread', 'butter', 'milk', 'yogurt', 'eggs', 'cheese']"
   ]
  },
  {
   "cell_type": "markdown",
   "id": "46562892-f7c0-4380-a1d3-86ad0d18d7f8",
   "metadata": {},
   "source": [
    "Here, I tried to list down all the possible combinations using a dynamic programming approach called backtracking. In backtracking, you list down the possible combinations taking into account what would happen if an element was added or not."
   ]
  },
  {
   "cell_type": "code",
   "execution_count": 3,
   "id": "aad35821-0ecb-4f44-b441-9b47ccb55601",
   "metadata": {
    "scrolled": true
   },
   "outputs": [
    {
     "data": {
      "text/plain": [
       "[['cheese'],\n",
       " ['eggs'],\n",
       " ['eggs', 'cheese'],\n",
       " ['yogurt'],\n",
       " ['yogurt', 'cheese'],\n",
       " ['yogurt', 'eggs'],\n",
       " ['yogurt', 'eggs', 'cheese'],\n",
       " ['milk'],\n",
       " ['milk', 'cheese'],\n",
       " ['milk', 'eggs'],\n",
       " ['milk', 'eggs', 'cheese'],\n",
       " ['milk', 'yogurt'],\n",
       " ['milk', 'yogurt', 'cheese'],\n",
       " ['milk', 'yogurt', 'eggs'],\n",
       " ['milk', 'yogurt', 'eggs', 'cheese'],\n",
       " ['butter'],\n",
       " ['butter', 'cheese'],\n",
       " ['butter', 'eggs'],\n",
       " ['butter', 'eggs', 'cheese'],\n",
       " ['butter', 'yogurt'],\n",
       " ['butter', 'yogurt', 'cheese'],\n",
       " ['butter', 'yogurt', 'eggs'],\n",
       " ['butter', 'yogurt', 'eggs', 'cheese'],\n",
       " ['butter', 'milk'],\n",
       " ['butter', 'milk', 'cheese'],\n",
       " ['butter', 'milk', 'eggs'],\n",
       " ['butter', 'milk', 'eggs', 'cheese'],\n",
       " ['butter', 'milk', 'yogurt'],\n",
       " ['butter', 'milk', 'yogurt', 'cheese'],\n",
       " ['butter', 'milk', 'yogurt', 'eggs'],\n",
       " ['butter', 'milk', 'yogurt', 'eggs', 'cheese'],\n",
       " ['bread'],\n",
       " ['bread', 'cheese'],\n",
       " ['bread', 'eggs'],\n",
       " ['bread', 'eggs', 'cheese'],\n",
       " ['bread', 'yogurt'],\n",
       " ['bread', 'yogurt', 'cheese'],\n",
       " ['bread', 'yogurt', 'eggs'],\n",
       " ['bread', 'yogurt', 'eggs', 'cheese'],\n",
       " ['bread', 'milk'],\n",
       " ['bread', 'milk', 'cheese'],\n",
       " ['bread', 'milk', 'eggs'],\n",
       " ['bread', 'milk', 'eggs', 'cheese'],\n",
       " ['bread', 'milk', 'yogurt'],\n",
       " ['bread', 'milk', 'yogurt', 'cheese'],\n",
       " ['bread', 'milk', 'yogurt', 'eggs'],\n",
       " ['bread', 'milk', 'yogurt', 'eggs', 'cheese'],\n",
       " ['bread', 'butter'],\n",
       " ['bread', 'butter', 'cheese'],\n",
       " ['bread', 'butter', 'eggs'],\n",
       " ['bread', 'butter', 'eggs', 'cheese'],\n",
       " ['bread', 'butter', 'yogurt'],\n",
       " ['bread', 'butter', 'yogurt', 'cheese'],\n",
       " ['bread', 'butter', 'yogurt', 'eggs'],\n",
       " ['bread', 'butter', 'yogurt', 'eggs', 'cheese'],\n",
       " ['bread', 'butter', 'milk'],\n",
       " ['bread', 'butter', 'milk', 'cheese'],\n",
       " ['bread', 'butter', 'milk', 'eggs'],\n",
       " ['bread', 'butter', 'milk', 'eggs', 'cheese'],\n",
       " ['bread', 'butter', 'milk', 'yogurt'],\n",
       " ['bread', 'butter', 'milk', 'yogurt', 'cheese'],\n",
       " ['bread', 'butter', 'milk', 'yogurt', 'eggs'],\n",
       " ['bread', 'butter', 'milk', 'yogurt', 'eggs', 'cheese']]"
      ]
     },
     "execution_count": 3,
     "metadata": {},
     "output_type": "execute_result"
    }
   ],
   "source": [
    "class Solution():\n",
    "    def subsets(self, nums):\n",
    "        sol = []\n",
    "        ret = []\n",
    "        n = len(nums)\n",
    "\n",
    "        def backtrack(i=0):\n",
    "            if i == n:\n",
    "                ret.append(sol[:])\n",
    "                return\n",
    "            \n",
    "            backtrack(i+1)\n",
    "            sol.append(nums[i])\n",
    "            backtrack(i+1)\n",
    "            sol.pop()\n",
    "        \n",
    "        backtrack()\n",
    "        ret2 = list(filter(None, ret))\n",
    "        return ret2\n",
    "\n",
    "s = Solution()\n",
    "\n",
    "lst = s.subsets(items)\n",
    "lst1 = [tuple(x) for x in lst]\n",
    "lst"
   ]
  },
  {
   "cell_type": "code",
   "execution_count": 4,
   "id": "9b5ac0eb-40bd-4b3d-a0cb-0897cba04acf",
   "metadata": {
    "jupyter": {
     "source_hidden": true
    }
   },
   "outputs": [],
   "source": [
    "# temp = []\n",
    "# lst2 = []\n",
    "# for i1 in items:\n",
    "#     temp = [x for x in items if x != i1]\n",
    "#     for i2 in temp:\n",
    "#         lst2.append((i1, i2))"
   ]
  },
  {
   "cell_type": "markdown",
   "id": "5db444f0-e1aa-458c-b6a2-8807dfa15578",
   "metadata": {},
   "source": [
    "After getting all the possible combinations, I ran this through a counter."
   ]
  },
  {
   "cell_type": "code",
   "execution_count": 5,
   "id": "e86cb392-e5a9-4b57-a44e-6fdc010d7df6",
   "metadata": {},
   "outputs": [
    {
     "data": {
      "text/plain": [
       "{('cheese',): 2,\n",
       " ('eggs',): 3,\n",
       " ('eggs', 'cheese'): 1,\n",
       " ('yogurt',): 3,\n",
       " ('yogurt', 'cheese'): 1,\n",
       " ('yogurt', 'eggs'): 2,\n",
       " ('milk',): 5,\n",
       " ('milk', 'cheese'): 2,\n",
       " ('milk', 'eggs'): 3,\n",
       " ('milk', 'eggs', 'cheese'): 1,\n",
       " ('milk', 'yogurt'): 3,\n",
       " ('milk', 'yogurt', 'cheese'): 1,\n",
       " ('milk', 'yogurt', 'eggs'): 2,\n",
       " ('butter',): 1,\n",
       " ('butter', 'milk'): 1,\n",
       " ('bread',): 2,\n",
       " ('bread', 'cheese'): 1,\n",
       " ('bread', 'eggs'): 1,\n",
       " ('bread', 'eggs', 'cheese'): 1,\n",
       " ('bread', 'milk'): 2,\n",
       " ('bread', 'milk', 'cheese'): 1,\n",
       " ('bread', 'milk', 'eggs'): 1,\n",
       " ('bread', 'milk', 'eggs', 'cheese'): 1,\n",
       " ('bread', 'butter'): 1,\n",
       " ('bread', 'butter', 'milk'): 1}"
      ]
     },
     "execution_count": 5,
     "metadata": {},
     "output_type": "execute_result"
    }
   ],
   "source": [
    "support = {}\n",
    "for l in lst1:\n",
    "    for d in db:\n",
    "        if all(x in d for x in l):\n",
    "            if l in support:\n",
    "                support[l] += 1\n",
    "            else:\n",
    "                support[l] = 1\n",
    "\n",
    "support"
   ]
  },
  {
   "cell_type": "markdown",
   "id": "39c58f7c-8080-46ca-acdc-1d8a559560b0",
   "metadata": {},
   "source": [
    "Here, I showed that the brute force method isn't so bad as long as you can code it yourself and the computer can handle all the computational burden for you. \n",
    "Manually computing this, however, took the entire class 20 minutes to finish."
   ]
  },
  {
   "cell_type": "code",
   "execution_count": null,
   "id": "ae8e9bf0-9f6a-4de6-93a4-bfe871dd325f",
   "metadata": {},
   "outputs": [],
   "source": []
  }
 ],
 "metadata": {
  "kernelspec": {
   "display_name": "Python 3 (ipykernel)",
   "language": "python",
   "name": "python3"
  },
  "language_info": {
   "codemirror_mode": {
    "name": "ipython",
    "version": 3
   },
   "file_extension": ".py",
   "mimetype": "text/x-python",
   "name": "python",
   "nbconvert_exporter": "python",
   "pygments_lexer": "ipython3",
   "version": "3.13.6"
  }
 },
 "nbformat": 4,
 "nbformat_minor": 5
}
