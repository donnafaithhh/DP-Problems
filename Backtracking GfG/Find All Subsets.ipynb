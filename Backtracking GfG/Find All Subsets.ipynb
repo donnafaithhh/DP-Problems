{
 "cells": [
  {
   "cell_type": "markdown",
   "id": "b3d47ba3-58c3-4100-8c4b-c4792c38f493",
   "metadata": {},
   "source": [
    "This notebook was created by Donna Faith Go."
   ]
  },
  {
   "cell_type": "markdown",
   "id": "ecedef1e-e997-48e0-99f2-f19fd88496c7",
   "metadata": {},
   "source": [
    "## Imports"
   ]
  },
  {
   "cell_type": "code",
   "execution_count": 1,
   "id": "97963d34-988a-4579-bb29-2e03221cb7cf",
   "metadata": {},
   "outputs": [],
   "source": [
    "from typing import List, Optional\n",
    "import math\n",
    "from collections import deque, Counter"
   ]
  },
  {
   "cell_type": "markdown",
   "id": "52f82248-596e-4ecb-b88e-153cdd420ca5",
   "metadata": {},
   "source": [
    "### Find all Subsets\n",
    "**Description**\n",
    "\n",
    "Given an array arr of size n, your task is to print all the subsets of the array  in lexicographical order.\n",
    "\n",
    "A subset is any selection of elements from an array, where the order does not matter, and no element appears more than once. It can include any number of elements, from none (the empty subset) to all the elements of the array.\n",
    "\n",
    "**Example 1**\n",
    "\n",
    "Input: arr[] = [1, 2, 3]\n",
    "\n",
    "Output: [[], [1], [1, 2], [1, 2, 3], [1, 3], [2], [2, 3], [3]]\n",
    "\n",
    "**Example 2**\n",
    "\n",
    "Input: arr[] = [2, 4]\n",
    "\n",
    "Output: [[], [2], [2, 4], [4]]"
   ]
  },
  {
   "cell_type": "code",
   "execution_count": 4,
   "id": "4e964b9c-23a2-4039-a922-caec25374b68",
   "metadata": {},
   "outputs": [
    {
     "data": {
      "text/plain": [
       "[[], [3], [2], [2, 3], [1], [1, 3], [1, 2], [1, 2, 3]]"
      ]
     },
     "execution_count": 4,
     "metadata": {},
     "output_type": "execute_result"
    }
   ],
   "source": [
    "class Solution():\n",
    "    def subsets(self, nums):\n",
    "        sol = []\n",
    "        ret = []\n",
    "        n = len(nums)\n",
    "\n",
    "        def backtrack(i=0):\n",
    "            if i == n:\n",
    "                ret.append(sol[:])\n",
    "                return\n",
    "            \n",
    "            backtrack(i+1)\n",
    "            sol.append(nums[i])\n",
    "            backtrack(i+1)\n",
    "            sol.pop()\n",
    "        \n",
    "        backtrack()\n",
    "        return ret\n",
    "\n",
    "s = Solution()\n",
    "inpt = [1, 2, 3]\n",
    "s.subsets(inpt)"
   ]
  },
  {
   "cell_type": "code",
   "execution_count": null,
   "id": "59042f19-397e-4fb6-90be-a79c67bbdb60",
   "metadata": {},
   "outputs": [],
   "source": []
  }
 ],
 "metadata": {
  "kernelspec": {
   "display_name": "Python 3 (ipykernel)",
   "language": "python",
   "name": "python3"
  },
  "language_info": {
   "codemirror_mode": {
    "name": "ipython",
    "version": 3
   },
   "file_extension": ".py",
   "mimetype": "text/x-python",
   "name": "python",
   "nbconvert_exporter": "python",
   "pygments_lexer": "ipython3",
   "version": "3.13.6"
  }
 },
 "nbformat": 4,
 "nbformat_minor": 5
}
