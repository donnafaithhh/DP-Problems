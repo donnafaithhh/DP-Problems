{
 "cells": [
  {
   "cell_type": "markdown",
   "id": "b3d47ba3-58c3-4100-8c4b-c4792c38f493",
   "metadata": {},
   "source": [
    "This notebook was created by Donna Faith Go."
   ]
  },
  {
   "cell_type": "markdown",
   "id": "ecedef1e-e997-48e0-99f2-f19fd88496c7",
   "metadata": {},
   "source": [
    "## Imports"
   ]
  },
  {
   "cell_type": "code",
   "execution_count": 1,
   "id": "97963d34-988a-4579-bb29-2e03221cb7cf",
   "metadata": {},
   "outputs": [],
   "source": [
    "from typing import List, Optional\n",
    "import math\n",
    "from collections import deque, Counter"
   ]
  },
  {
   "cell_type": "markdown",
   "id": "52f82248-596e-4ecb-b88e-153cdd420ca5",
   "metadata": {},
   "source": [
    "### Check for Sum-string\n",
    "**Description**\n",
    "\n",
    "Given a string s, the task is to determine whether it can be classified as a sum-string.\n",
    "\n",
    "A string is a sum-string if it can be split into more than two substring such that, the rightmost substring is equal to the sum of the two substrings immediately before it.\n",
    "\n",
    "This rule must recursively apply to the substring before it.\n",
    "\n",
    "Note: The rightmost substring should not contain leading zeroes.\n",
    "\n",
    "**Example 1**\n",
    "\n",
    "Input: s = \"12243660\"\n",
    "\n",
    "Output: true\n",
    "\n",
    "**Example 2**\n",
    "\n",
    "Input: s = \"1111112223\"\n",
    "\n",
    "Output: true"
   ]
  },
  {
   "cell_type": "markdown",
   "id": "34aa6ffc-040c-486a-940d-40fa9c69b030",
   "metadata": {},
   "source": [
    "Pseudocode\n",
    "\n",
    "def check_sumstring(self, inpt):\n",
    "    lst = list(inpt)\n",
    "    sol = []\n",
    "    ret = []\n",
    "    n = len(lst)\n",
    "    j = 0\n",
    "\n",
    "    for i in range(1, n+1):\n",
    "        while j <= n:\n",
    "            print(lst[:n + 1])\n",
    "            print(lst[n + 1:j])\n",
    "            j += 1     \n",
    "        j = 0"
   ]
  },
  {
   "cell_type": "code",
   "execution_count": 12,
   "id": "73cc4cc9-8f99-437d-9bae-1a2178cff055",
   "metadata": {
    "scrolled": true
   },
   "outputs": [
    {
     "name": "stdout",
     "output_type": "stream",
     "text": [
      "['1'] ['2', '2', '4', '3', '6', '6', '0']\n",
      "['1', '2'] ['2', '4', '3', '6', '6', '0']\n",
      "['1', '2', '2'] ['4', '3', '6', '6', '0']\n",
      "['1', '2', '2', '4'] ['3', '6', '6', '0']\n",
      "['1', '2', '2', '4', '3'] ['6', '6', '0']\n",
      "['1', '2', '2', '4', '3', '6'] ['6', '0']\n",
      "['1', '2', '2', '4', '3', '6', '6'] ['0']\n",
      "['1', '2', '2', '4', '3', '6', '6', '0'] []\n",
      "['1', '2', '2', '4', '3', '6', '6', '0'] []\n",
      "\n",
      "['1'] ['2', '2', '4', '3', '6', '6', '0']\n",
      "['1', '2'] ['2', '4', '3', '6', '6', '0']\n",
      "['1', '2', '2'] ['4', '3', '6', '6', '0']\n",
      "['1', '2', '2', '4'] ['3', '6', '6', '0']\n",
      "['1', '2', '2', '4', '3'] ['6', '6', '0']\n",
      "['1', '2', '2', '4', '3', '6'] ['6', '0']\n",
      "['1', '2', '2', '4', '3', '6', '6'] ['0']\n",
      "['1', '2', '2', '4', '3', '6', '6', '0'] []\n",
      "['1', '2', '2', '4', '3', '6', '6', '0'] []\n",
      "\n",
      "['1'] ['2', '2', '4', '3', '6', '6', '0']\n",
      "['1', '2'] ['2', '4', '3', '6', '6', '0']\n",
      "['1', '2', '2'] ['4', '3', '6', '6', '0']\n",
      "['1', '2', '2', '4'] ['3', '6', '6', '0']\n",
      "['1', '2', '2', '4', '3'] ['6', '6', '0']\n",
      "['1', '2', '2', '4', '3', '6'] ['6', '0']\n",
      "['1', '2', '2', '4', '3', '6', '6'] ['0']\n",
      "['1', '2', '2', '4', '3', '6', '6', '0'] []\n",
      "['1', '2', '2', '4', '3', '6', '6', '0'] []\n",
      "\n",
      "['1'] ['2', '2', '4', '3', '6', '6', '0']\n",
      "['1', '2'] ['2', '4', '3', '6', '6', '0']\n",
      "['1', '2', '2'] ['4', '3', '6', '6', '0']\n",
      "['1', '2', '2', '4'] ['3', '6', '6', '0']\n",
      "['1', '2', '2', '4', '3'] ['6', '6', '0']\n",
      "['1', '2', '2', '4', '3', '6'] ['6', '0']\n",
      "['1', '2', '2', '4', '3', '6', '6'] ['0']\n",
      "['1', '2', '2', '4', '3', '6', '6', '0'] []\n",
      "['1', '2', '2', '4', '3', '6', '6', '0'] []\n",
      "\n",
      "['1'] ['2', '2', '4', '3', '6', '6', '0']\n",
      "['1', '2'] ['2', '4', '3', '6', '6', '0']\n",
      "['1', '2', '2'] ['4', '3', '6', '6', '0']\n",
      "['1', '2', '2', '4'] ['3', '6', '6', '0']\n",
      "['1', '2', '2', '4', '3'] ['6', '6', '0']\n",
      "['1', '2', '2', '4', '3', '6'] ['6', '0']\n",
      "['1', '2', '2', '4', '3', '6', '6'] ['0']\n",
      "['1', '2', '2', '4', '3', '6', '6', '0'] []\n",
      "['1', '2', '2', '4', '3', '6', '6', '0'] []\n",
      "\n",
      "['1'] ['2', '2', '4', '3', '6', '6', '0']\n",
      "['1', '2'] ['2', '4', '3', '6', '6', '0']\n",
      "['1', '2', '2'] ['4', '3', '6', '6', '0']\n",
      "['1', '2', '2', '4'] ['3', '6', '6', '0']\n",
      "['1', '2', '2', '4', '3'] ['6', '6', '0']\n",
      "['1', '2', '2', '4', '3', '6'] ['6', '0']\n",
      "['1', '2', '2', '4', '3', '6', '6'] ['0']\n",
      "['1', '2', '2', '4', '3', '6', '6', '0'] []\n",
      "['1', '2', '2', '4', '3', '6', '6', '0'] []\n",
      "\n",
      "['1'] ['2', '2', '4', '3', '6', '6', '0']\n",
      "['1', '2'] ['2', '4', '3', '6', '6', '0']\n",
      "['1', '2', '2'] ['4', '3', '6', '6', '0']\n",
      "['1', '2', '2', '4'] ['3', '6', '6', '0']\n",
      "['1', '2', '2', '4', '3'] ['6', '6', '0']\n",
      "['1', '2', '2', '4', '3', '6'] ['6', '0']\n",
      "['1', '2', '2', '4', '3', '6', '6'] ['0']\n",
      "['1', '2', '2', '4', '3', '6', '6', '0'] []\n",
      "['1', '2', '2', '4', '3', '6', '6', '0'] []\n",
      "\n"
     ]
    }
   ],
   "source": [
    "lst = list('12243660')\n",
    "n = len(lst)\n",
    "j = 0\n",
    "\n",
    "for i in range(1, n):\n",
    "    while j <= n:\n",
    "        print(lst[:j + 1], lst[j + 1:])\n",
    "        j += 1     \n",
    "    print()\n",
    "    j = 0"
   ]
  },
  {
   "cell_type": "code",
   "execution_count": 3,
   "id": "4e964b9c-23a2-4039-a922-caec25374b68",
   "metadata": {},
   "outputs": [
    {
     "data": {
      "text/plain": [
       "[[], [3], [2], [2, 3], [1], [1, 3], [1, 2], [1, 2, 3]]"
      ]
     },
     "execution_count": 3,
     "metadata": {},
     "output_type": "execute_result"
    }
   ],
   "source": [
    "class Solution():\n",
    "    def subsets(self, nums):\n",
    "        sol = []\n",
    "        ret = []\n",
    "        n = len(nums)\n",
    "\n",
    "        def backtrack(i=0):\n",
    "            if i == n:\n",
    "                ret.append(sol[:])\n",
    "                return\n",
    "            \n",
    "            backtrack(i+1)\n",
    "            sol.append(nums[i])\n",
    "            backtrack(i+1)\n",
    "            sol.pop()\n",
    "        \n",
    "        backtrack()\n",
    "        # ret2 = list(filter(None, ret))\n",
    "        return ret\n",
    "\n",
    "s = Solution()\n",
    "inpt = [1, 2, 3]\n",
    "s.subsets(inpt)"
   ]
  },
  {
   "cell_type": "code",
   "execution_count": null,
   "id": "59042f19-397e-4fb6-90be-a79c67bbdb60",
   "metadata": {},
   "outputs": [],
   "source": []
  }
 ],
 "metadata": {
  "kernelspec": {
   "display_name": "Python 3 (ipykernel)",
   "language": "python",
   "name": "python3"
  },
  "language_info": {
   "codemirror_mode": {
    "name": "ipython",
    "version": 3
   },
   "file_extension": ".py",
   "mimetype": "text/x-python",
   "name": "python",
   "nbconvert_exporter": "python",
   "pygments_lexer": "ipython3",
   "version": "3.13.6"
  }
 },
 "nbformat": 4,
 "nbformat_minor": 5
}
