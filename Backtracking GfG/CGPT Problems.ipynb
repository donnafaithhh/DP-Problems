{
 "cells": [
  {
   "cell_type": "markdown",
   "id": "c0456a9d-25a1-4ca5-b01e-5d3bdbd5f781",
   "metadata": {},
   "source": [
    "**Problem 1: Generate all subsets of a list**\n",
    "\n",
    "Input: [1, 2, 3]\n",
    "\n",
    "Output: [[], [1], [2], [3], [1,2], [1,3], [2,3], [1,2,3]]"
   ]
  },
  {
   "cell_type": "code",
   "execution_count": 4,
   "id": "6c10925c-b3bf-4604-9a49-03e1c20f6bc8",
   "metadata": {
    "scrolled": true
   },
   "outputs": [
    {
     "data": {
      "text/plain": [
       "[[], [3], [2], [2, 3], [1], [1, 3], [1, 2], [1, 2, 3]]"
      ]
     },
     "execution_count": 4,
     "metadata": {},
     "output_type": "execute_result"
    }
   ],
   "source": [
    "def get_subsets(lst):\n",
    "    n = len(lst)\n",
    "    res = []\n",
    "    def backtrack(i, subset):\n",
    "        if i == n:\n",
    "            res.append(subset[:])\n",
    "            return\n",
    "        backtrack(i+1, subset)          \n",
    "        backtrack(i+1, subset+[lst[i]])\n",
    "    backtrack(0, [])\n",
    "    return res\n",
    "\n",
    "abc = [1, 2, 3]\n",
    "get_subsets(abc)"
   ]
  },
  {
   "cell_type": "markdown",
   "id": "8cc3d7b6-d8bb-4941-bf4a-869e6703df4c",
   "metadata": {},
   "source": [
    "**Problem 2: Generate all binary strings of length n**\n",
    "\n",
    "Input: n = 3\n",
    "\n",
    "Output: [\"000\", \"001\", \"010\", \"011\", \"100\", \"101\", \"110\", \"111\"]"
   ]
  },
  {
   "cell_type": "code",
   "execution_count": 5,
   "id": "5377b5ab-cb89-49b5-aa01-4cc0fd38456f",
   "metadata": {
    "scrolled": true
   },
   "outputs": [
    {
     "data": {
      "text/plain": [
       "['000', '001', '010', '011', '100', '101', '110', '111']"
      ]
     },
     "execution_count": 5,
     "metadata": {},
     "output_type": "execute_result"
    }
   ],
   "source": [
    "def get_strings(n):\n",
    "    results = []\n",
    "    \n",
    "    def backtrack(i):\n",
    "        if len(i) == n:\n",
    "            results.append(i)\n",
    "            return  \n",
    "            \n",
    "        backtrack(i + '0')          \n",
    "        backtrack(i + '1')\n",
    "    \n",
    "    backtrack('')\n",
    "    return results\n",
    "\n",
    "abc = 3\n",
    "get_strings(abc)"
   ]
  },
  {
   "cell_type": "markdown",
   "id": "3338c289-6d19-4a53-bd30-2dda95cd3768",
   "metadata": {},
   "source": [
    "To make this more efficient, we can use `append` and `pop`."
   ]
  },
  {
   "cell_type": "code",
   "execution_count": null,
   "id": "65763fd0-e293-4ddf-8a31-273429fde128",
   "metadata": {},
   "outputs": [],
   "source": []
  }
 ],
 "metadata": {
  "kernelspec": {
   "display_name": "Python 3 (ipykernel)",
   "language": "python",
   "name": "python3"
  },
  "language_info": {
   "codemirror_mode": {
    "name": "ipython",
    "version": 3
   },
   "file_extension": ".py",
   "mimetype": "text/x-python",
   "name": "python",
   "nbconvert_exporter": "python",
   "pygments_lexer": "ipython3",
   "version": "3.13.6"
  }
 },
 "nbformat": 4,
 "nbformat_minor": 5
}
