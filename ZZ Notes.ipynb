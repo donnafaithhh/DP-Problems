{
 "cells": [
  {
   "cell_type": "markdown",
   "id": "f6b0dc23-6749-4676-bd96-0b715d3e53a1",
   "metadata": {},
   "source": [
    "This notebook was created by Donna Faith Go."
   ]
  },
  {
   "cell_type": "code",
   "execution_count": 1,
   "id": "26fc2d55-1f0d-47b7-b920-85434f73e774",
   "metadata": {},
   "outputs": [],
   "source": [
    "import numpy as np"
   ]
  },
  {
   "cell_type": "markdown",
   "id": "c90bfa29-6122-42fd-b058-8f0c7ed7b45a",
   "metadata": {
    "jp-MarkdownHeadingCollapsed": true
   },
   "source": [
    "### Greedy Algorithms\n",
    "- Make locally optimal choices at each step with the hope of finding a global optimum.\n",
    "- Do not revisit previous decisions or consider future consequences beyond the immediate next step.\n",
    "- Are generally simpler and faster to implement but do not guarantee an optimal solution for all problems."
   ]
  },
  {
   "cell_type": "markdown",
   "id": "0cb0eb9f-6fab-43ba-969f-38668f0f798a",
   "metadata": {
    "jp-MarkdownHeadingCollapsed": true
   },
   "source": [
    "### Backtracking\n",
    "- A general algorithmic technique for finding solutions to problems by systematically trying out different combinations of choices.\n",
    "- Explores a search space by building a solution incrementally.\n",
    "- If a partial solution leads to a dead end or violates constraints, it \"backtracks\" to a previous decision point and tries a different path.\n",
    "- Commonly used for problems requiring the exploration of all possible solutions or permutations, such as solving puzzles (e.g., Sudoku, N-Queens)."
   ]
  },
  {
   "cell_type": "code",
   "execution_count": 2,
   "id": "62bc2da9-9348-41c8-ab10-dcaf21e8c56d",
   "metadata": {},
   "outputs": [],
   "source": [
    "class Solution:\n",
    "    def solve(self, input_data):\n",
    "        results = []\n",
    "\n",
    "        def backtrack(path, choices):\n",
    "            # Step 1: Check base case\n",
    "            if some_end_condition(path, choices):\n",
    "                results.append(path[:])  # store a copy of the current path\n",
    "                return\n",
    "\n",
    "            # Step 2: Explore choices\n",
    "            for choice in choices:\n",
    "                # Make a choice\n",
    "                path.append(choice)\n",
    "\n",
    "                # Recurse with updated path and choices\n",
    "                backtrack(path, updated_choices)\n",
    "\n",
    "                # Undo the choice (backtrack)\n",
    "                path.pop()\n",
    "\n",
    "        # Step 3: Call backtrack with an initial empty path and full choices\n",
    "        backtrack([], input_data)\n",
    "\n",
    "        return results"
   ]
  },
  {
   "cell_type": "markdown",
   "id": "f5c80941-08df-4acb-a327-896a8bc64d36",
   "metadata": {},
   "source": [
    "I think this should be an easier template to digest."
   ]
  },
  {
   "cell_type": "code",
   "execution_count": 3,
   "id": "43de0aca-c9f4-4fbc-bd45-7a69bbf6d4f2",
   "metadata": {},
   "outputs": [],
   "source": [
    "def backtrack(i, subset):\n",
    "    if i == n:\n",
    "        print(subset)\n",
    "        return\n",
    "    backtrack(i+1, subset)          # exclude\n",
    "    backtrack(i+1, subset+[items[i]]) # include\n"
   ]
  },
  {
   "cell_type": "markdown",
   "id": "975990a4-7889-4120-a6f3-a8bdfa3018d8",
   "metadata": {},
   "source": [
    "#### Bitwise left and right shift operator\n",
    "-  could be an alternative way to do backtracking. \n",
    "    - *Pros*: Bitmasking is only faster when we are doing pure brute force.\n",
    "    - *Cons*: If we are searching with constraints/pruning, backtracking is faster."
   ]
  },
  {
   "cell_type": "code",
   "execution_count": 4,
   "id": "204c202f-b18c-433b-954d-8dc1b3141e2e",
   "metadata": {},
   "outputs": [
    {
     "name": "stdout",
     "output_type": "stream",
     "text": [
      "mask= 1, binary=001, subset=['a']\n",
      "mask= 2, binary=010, subset=['b']\n",
      "mask= 3, binary=011, subset=['a', 'b']\n",
      "mask= 4, binary=100, subset=['c']\n",
      "mask= 5, binary=101, subset=['a', 'c']\n",
      "mask= 6, binary=110, subset=['b', 'c']\n",
      "mask= 7, binary=111, subset=['a', 'b', 'c']\n"
     ]
    }
   ],
   "source": [
    "def demo_subsets(all_items):\n",
    "    n = len(all_items)\n",
    "    for mask in range(1, 1 << n):\n",
    "        subset = [all_items[i] for i in range(n) if (mask >> i) & 1]\n",
    "        print(f\"mask={mask:2d}, binary={mask:03b}, subset={subset}\")\n",
    "\n",
    "demo_subsets([\"a\", \"b\", \"c\"])"
   ]
  },
  {
   "cell_type": "code",
   "execution_count": 5,
   "id": "72df7ef3-2eb2-4fb6-8a08-018800307663",
   "metadata": {},
   "outputs": [
    {
     "name": "stdout",
     "output_type": "stream",
     "text": [
      "mask= 1, binary=001, subset=['a']\n",
      "mask= 2, binary=010, subset=['b']\n",
      "mask= 3, binary=011, subset=['a', 'b']\n",
      "mask= 4, binary=100, subset=['c']\n",
      "mask= 5, binary=101, subset=['a', 'c']\n",
      "mask= 6, binary=110, subset=['b', 'c']\n",
      "mask= 7, binary=111, subset=['a', 'b', 'c']\n"
     ]
    }
   ],
   "source": [
    "def demo_subsets(all_items):\n",
    "    n = len(all_items)\n",
    "    for mask in range(1, 1 << n):\n",
    "        subset = [all_items[i] for i in range(n) if (mask >> i) & 1]\n",
    "        print(f\"mask={mask:2d}, binary={mask:03b}, subset={subset}\")\n",
    "\n",
    "demo_subsets([\"a\", \"b\", \"c\"])"
   ]
  },
  {
   "cell_type": "markdown",
   "id": "207640ca-7c7b-4dd6-bd09-df94c73e5460",
   "metadata": {},
   "source": [
    "### Dynamic Programming (DP)\n",
    "- Breaks down a complex problem into smaller, overlapping subproblems.\n",
    "- Solves each subproblem only once and stores its solution (memoization) to avoid redundant computations.\n",
    "- Guarantees an optimal solution for problems exhibiting optimal substructure and overlapping subproblems.\n",
    "- Often involves a bottom-up or top-down (with memoization) approach."
   ]
  },
  {
   "cell_type": "code",
   "execution_count": 6,
   "id": "63a79b8b-ed85-438c-8119-fc0818d181e2",
   "metadata": {},
   "outputs": [],
   "source": [
    "class Solution:\n",
    "    def solve(self, input_data):\n",
    "        # Step 1: Define the memo (dictionary for memoization)\n",
    "        memo = {}\n",
    "\n",
    "        # Step 2: Define the recursive DP function\n",
    "        def dp(state1, state2):\n",
    "            # Example: state1, state2 are parts of your state\n",
    "            # Replace with what your problem needs\n",
    "\n",
    "            # Base case(s)\n",
    "            if some_end_condition:\n",
    "                return base_value\n",
    "\n",
    "            # If already computed, return from memo\n",
    "            if (state1, state2) in memo:\n",
    "                return memo[(state1, state2)]\n",
    "\n",
    "            # Step 3: Try all choices / transitions\n",
    "            best = 0\n",
    "            for choice in possible_choices:\n",
    "                # Recursively call dp with the new state\n",
    "                candidate = something_with(choice, dp(new_state1, new_state2))\n",
    "\n",
    "                # Update best answer\n",
    "                best = max(best, candidate)   # or min(), or += depending on problem\n",
    "\n",
    "            # Save to memo before returning\n",
    "            memo[(state1, state2)] = best\n",
    "            return best\n",
    "\n",
    "        # Step 4: Call dp starting from the initial state\n",
    "        return dp(start_state1, start_state2)"
   ]
  },
  {
   "cell_type": "markdown",
   "id": "a88cfc35-619c-45f4-b0bf-d90c41bd6345",
   "metadata": {},
   "source": [
    "#### Learning the bottom-up approach\n",
    "The bottom-up approach pertains to tabulation."
   ]
  },
  {
   "cell_type": "code",
   "execution_count": 7,
   "id": "df080643-a38e-485d-87b6-3255c4a66812",
   "metadata": {},
   "outputs": [
    {
     "data": {
      "text/plain": [
       "55"
      ]
     },
     "execution_count": 7,
     "metadata": {},
     "output_type": "execute_result"
    }
   ],
   "source": [
    "# fibonacci \n",
    "## only uses a 1d array \n",
    "\n",
    "def bottom_up(n):\n",
    "    memo = {0: 0, 1: 1}\n",
    "\n",
    "    for i in range(2, n+1):\n",
    "        memo[i] = memo[i-1] + memo[i-2]\n",
    "        \n",
    "    return memo[i]\n",
    "\n",
    "bottom_up(10)"
   ]
  },
  {
   "cell_type": "code",
   "execution_count": 8,
   "id": "cb78364d-3534-4038-86eb-f4efe9f72e58",
   "metadata": {},
   "outputs": [
    {
     "data": {
      "text/plain": [
       "28"
      ]
     },
     "execution_count": 8,
     "metadata": {},
     "output_type": "execute_result"
    }
   ],
   "source": [
    "# unique paths\n",
    "## uses a 2d array\n",
    "\n",
    "def bottom_up(m, n):\n",
    "    dp = [[0] * n for _ in range(m)]\n",
    "    \n",
    "    for i in range(m):\n",
    "        dp[i][0] = 1\n",
    "    for i in range(n):\n",
    "        dp[0][i] = 1\n",
    "        \n",
    "    for i in range(1, m):\n",
    "        for j in range(1, n):\n",
    "            dp[i][j] = dp[i-1][j] + dp[i][j-1]\n",
    "            \n",
    "    return dp[-1][-1]\n",
    "\n",
    "bottom_up(3, 7)"
   ]
  },
  {
   "cell_type": "code",
   "execution_count": 9,
   "id": "42612b24-03cd-4fe7-845e-71ce5070ac60",
   "metadata": {},
   "outputs": [
    {
     "data": {
      "text/plain": [
       "np.int64(7)"
      ]
     },
     "execution_count": 9,
     "metadata": {},
     "output_type": "execute_result"
    }
   ],
   "source": [
    "# minimum path sum\n",
    "## uses a 2d array\n",
    "\n",
    "def min_sum(grid):\n",
    "    grid = np.array(grid)\n",
    "    rows, columns = grid.shape\n",
    "    dp = [[0] * columns for _ in range(rows)]\n",
    "    dp[0][0] = grid[0][0]\n",
    "\n",
    "    for i in range(columns):\n",
    "        dp[0][i] = dp[0][i-1] + grid[0][i]\n",
    "    for j in range(rows):\n",
    "        dp[j][0] = dp[j-1][0] + grid[j][0]\n",
    "    for i in range(1, rows):\n",
    "        for j in range(1, columns):\n",
    "            dp[i][j] = grid[i][j] + min(dp[i-1][j], dp[i][j-1])\n",
    "            \n",
    "    return dp[-1][-1]\n",
    "\n",
    "grid = [\n",
    "  [1,3,1],\n",
    "  [1,5,1],\n",
    "  [4,2,1]\n",
    "]\n",
    "\n",
    "min_sum(grid)"
   ]
  },
  {
   "cell_type": "markdown",
   "id": "31f8254b-5a4f-47a6-9a9d-4e59a8a5bdf7",
   "metadata": {},
   "source": [
    "#### Learning the top-down approach\n",
    "The top-down approach pertains to memoizing/memoization."
   ]
  },
  {
   "cell_type": "code",
   "execution_count": null,
   "id": "1fe1189d-71be-4dbf-b123-7ca72bcc0a9a",
   "metadata": {},
   "outputs": [],
   "source": []
  }
 ],
 "metadata": {
  "kernelspec": {
   "display_name": "Python 3 (ipykernel)",
   "language": "python",
   "name": "python3"
  },
  "language_info": {
   "codemirror_mode": {
    "name": "ipython",
    "version": 3
   },
   "file_extension": ".py",
   "mimetype": "text/x-python",
   "name": "python",
   "nbconvert_exporter": "python",
   "pygments_lexer": "ipython3",
   "version": "3.13.6"
  }
 },
 "nbformat": 4,
 "nbformat_minor": 5
}
