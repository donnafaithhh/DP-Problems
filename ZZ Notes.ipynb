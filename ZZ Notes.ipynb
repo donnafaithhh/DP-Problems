{
 "cells": [
  {
   "cell_type": "markdown",
   "id": "f6b0dc23-6749-4676-bd96-0b715d3e53a1",
   "metadata": {},
   "source": [
    "This notebook was created by Donna Faith Go."
   ]
  },
  {
   "cell_type": "markdown",
   "id": "b2695f33-3aae-4db7-bb3c-fc02b62431c8",
   "metadata": {},
   "source": [
    "### Notes"
   ]
  },
  {
   "cell_type": "markdown",
   "id": "c90bfa29-6122-42fd-b058-8f0c7ed7b45a",
   "metadata": {},
   "source": [
    "**Greedy Algorithms**\n",
    "- Make locally optimal choices at each step with the hope of finding a global optimum.\n",
    "- Do not revisit previous decisions or consider future consequences beyond the immediate next step.\n",
    "- Are generally simpler and faster to implement but do not guarantee an optimal solution for all problems."
   ]
  },
  {
   "cell_type": "markdown",
   "id": "0cb0eb9f-6fab-43ba-969f-38668f0f798a",
   "metadata": {},
   "source": [
    "**Backtracking**\n",
    "- A general algorithmic technique for finding solutions to problems by systematically trying out different combinations of choices.\n",
    "- Explores a search space by building a solution incrementally.\n",
    "- If a partial solution leads to a dead end or violates constraints, it \"backtracks\" to a previous decision point and tries a different path.\n",
    "- Commonly used for problems requiring the exploration of all possible solutions or permutations, such as solving puzzles (e.g., Sudoku, N-Queens)."
   ]
  },
  {
   "cell_type": "code",
   "execution_count": 3,
   "id": "62bc2da9-9348-41c8-ab10-dcaf21e8c56d",
   "metadata": {},
   "outputs": [],
   "source": [
    "class Solution:\n",
    "    def solve(self, input_data):\n",
    "        results = []\n",
    "\n",
    "        def backtrack(path, choices):\n",
    "            # Step 1: Check base case\n",
    "            if some_end_condition(path, choices):\n",
    "                results.append(path[:])  # store a copy of the current path\n",
    "                return\n",
    "\n",
    "            # Step 2: Explore choices\n",
    "            for choice in choices:\n",
    "                # Make a choice\n",
    "                path.append(choice)\n",
    "\n",
    "                # Recurse with updated path and choices\n",
    "                backtrack(path, updated_choices)\n",
    "\n",
    "                # Undo the choice (backtrack)\n",
    "                path.pop()\n",
    "\n",
    "        # Step 3: Call backtrack with an initial empty path and full choices\n",
    "        backtrack([], input_data)\n",
    "\n",
    "        return results"
   ]
  },
  {
   "cell_type": "markdown",
   "id": "207640ca-7c7b-4dd6-bd09-df94c73e5460",
   "metadata": {},
   "source": [
    "**Dynamic Programming (DP)**\n",
    "- Breaks down a complex problem into smaller, overlapping subproblems.\n",
    "- Solves each subproblem only once and stores its solution (memoization) to avoid redundant computations.\n",
    "- Guarantees an optimal solution for problems exhibiting optimal substructure and overlapping subproblems.\n",
    "- Often involves a bottom-up or top-down (with memoization) approach."
   ]
  },
  {
   "cell_type": "code",
   "execution_count": 1,
   "id": "63a79b8b-ed85-438c-8119-fc0818d181e2",
   "metadata": {},
   "outputs": [],
   "source": [
    "class Solution:\n",
    "    def solve(self, input_data):\n",
    "        # Step 1: Define the memo (dictionary for memoization)\n",
    "        memo = {}\n",
    "\n",
    "        # Step 2: Define the recursive DP function\n",
    "        def dp(state1, state2):\n",
    "            # Example: state1, state2 are parts of your state\n",
    "            # Replace with what your problem needs\n",
    "\n",
    "            # Base case(s)\n",
    "            if some_end_condition:\n",
    "                return base_value\n",
    "\n",
    "            # If already computed, return from memo\n",
    "            if (state1, state2) in memo:\n",
    "                return memo[(state1, state2)]\n",
    "\n",
    "            # Step 3: Try all choices / transitions\n",
    "            best = 0\n",
    "            for choice in possible_choices:\n",
    "                # Recursively call dp with the new state\n",
    "                candidate = something_with(choice, dp(new_state1, new_state2))\n",
    "\n",
    "                # Update best answer\n",
    "                best = max(best, candidate)   # or min(), or += depending on problem\n",
    "\n",
    "            # Save to memo before returning\n",
    "            memo[(state1, state2)] = best\n",
    "            return best\n",
    "\n",
    "        # Step 4: Call dp starting from the initial state\n",
    "        return dp(start_state1, start_state2)"
   ]
  },
  {
   "cell_type": "code",
   "execution_count": null,
   "id": "df080643-a38e-485d-87b6-3255c4a66812",
   "metadata": {},
   "outputs": [],
   "source": []
  }
 ],
 "metadata": {
  "kernelspec": {
   "display_name": "Python 3 (ipykernel)",
   "language": "python",
   "name": "python3"
  },
  "language_info": {
   "codemirror_mode": {
    "name": "ipython",
    "version": 3
   },
   "file_extension": ".py",
   "mimetype": "text/x-python",
   "name": "python",
   "nbconvert_exporter": "python",
   "pygments_lexer": "ipython3",
   "version": "3.13.6"
  }
 },
 "nbformat": 4,
 "nbformat_minor": 5
}
