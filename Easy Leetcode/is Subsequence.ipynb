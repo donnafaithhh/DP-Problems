{
 "cells": [
  {
   "cell_type": "markdown",
   "id": "b3d47ba3-58c3-4100-8c4b-c4792c38f493",
   "metadata": {},
   "source": [
    "This notebook was created by Donna Faith Go."
   ]
  },
  {
   "cell_type": "markdown",
   "id": "ecedef1e-e997-48e0-99f2-f19fd88496c7",
   "metadata": {},
   "source": [
    "## Imports"
   ]
  },
  {
   "cell_type": "code",
   "execution_count": 1,
   "id": "97963d34-988a-4579-bb29-2e03221cb7cf",
   "metadata": {},
   "outputs": [],
   "source": [
    "from typing import List, Optional\n",
    "import math\n",
    "from collections import deque"
   ]
  },
  {
   "cell_type": "markdown",
   "id": "6011ab83-0690-4cf6-8322-8fa73cd2d7f4",
   "metadata": {},
   "source": [
    "### is Subsequence\n",
    "Input: s = \"abc\", t = \"ahbgdc\"\n",
    "\n",
    "Output: true"
   ]
  },
  {
   "cell_type": "code",
   "execution_count": 2,
   "id": "179edd98-70ed-4def-9eb7-f11f5cf292e6",
   "metadata": {},
   "outputs": [
    {
     "data": {
      "text/plain": [
       "True"
      ]
     },
     "execution_count": 2,
     "metadata": {},
     "output_type": "execute_result"
    }
   ],
   "source": [
    "class Solution:\n",
    "    def isSubsequence(self, s: str, t: str) -> bool:\n",
    "        s = list(s)\n",
    "        t = list(t)\n",
    "        fill = [0 for i in range(len(s))]\n",
    "\n",
    "        for i in range(len(t)):\n",
    "            for j in range(len(s)):\n",
    "                if t[i] == s[j]:\n",
    "                    fill[j] = 1\n",
    "                else:\n",
    "                    continue\n",
    "\n",
    "        return all(x == 1 for x in fill)\n",
    "        \n",
    "s = Solution()\n",
    "s.isSubsequence('abc', 'ahbgdc')\n",
    "s.isSubsequence('acb', 'ahbgdc')"
   ]
  },
  {
   "cell_type": "code",
   "execution_count": 3,
   "id": "bd699244-3978-4c3b-9fdd-6eb56533a478",
   "metadata": {},
   "outputs": [
    {
     "data": {
      "text/plain": [
       "False"
      ]
     },
     "execution_count": 3,
     "metadata": {},
     "output_type": "execute_result"
    }
   ],
   "source": [
    "class Solution:\n",
    "    def isSubsequence(self, s: str, t: str) -> bool:\n",
    "        s = list(s)\n",
    "        t = list(t)\n",
    "        now_j = 0\n",
    "        fill = [0 for i in range(len(s))]\n",
    "\n",
    "        for i in range(len(t)):\n",
    "            for j in range(len(s)):\n",
    "                if t[i] == s[j] and fill[j] == 0:\n",
    "                    fill[j] = 1\n",
    "                    now_j += 1\n",
    "                elif fill[j] == 0 and now_j > j:\n",
    "                    fill[j] = 2\n",
    "\n",
    "        return all(x == 1 for x in fill)\n",
    "        \n",
    "s = Solution()\n",
    "s.isSubsequence('acb', 'ahbgdc')"
   ]
  },
  {
   "cell_type": "code",
   "execution_count": 4,
   "id": "757a7a0e-2815-4417-bc4c-0a12d9a277d8",
   "metadata": {
    "scrolled": true
   },
   "outputs": [
    {
     "name": "stdout",
     "output_type": "stream",
     "text": [
      "c ['b', 'c'] [1, 0, 0]\n",
      "b ['c'] [1, 1, 0]\n",
      "a ['c'] [1, 1, 0]\n"
     ]
    },
    {
     "data": {
      "text/plain": [
       "False"
      ]
     },
     "execution_count": 4,
     "metadata": {},
     "output_type": "execute_result"
    }
   ],
   "source": [
    "class Solution:\n",
    "    def isSubsequence(self, s: str, t: str) -> bool:\n",
    "        s = list(s)\n",
    "        t = list(t)\n",
    "        fill = [0 for i in range(len(s))]\n",
    "        idx = 0\n",
    "\n",
    "        for char in t:\n",
    "            if char in s[idx:]:\n",
    "                fill[idx] = 1\n",
    "                idx += 1\n",
    "            print(char, s[idx:], fill)\n",
    "\n",
    "        return all(x == 1 for x in fill)\n",
    "\n",
    "s = Solution()\n",
    "s.isSubsequence('abc', 'cba')"
   ]
  },
  {
   "cell_type": "code",
   "execution_count": 5,
   "id": "87b3c2be-32e5-4d00-abf5-fce16ce91303",
   "metadata": {
    "scrolled": true
   },
   "outputs": [
    {
     "data": {
      "text/plain": [
       "False"
      ]
     },
     "execution_count": 5,
     "metadata": {},
     "output_type": "execute_result"
    }
   ],
   "source": [
    "class Solution:\n",
    "    def isSubsequence(self, s: str, t: str) -> bool:\n",
    "        i, j = 0, 0\n",
    "        fill = [0 for i in range(len(s))]\n",
    "\n",
    "        while i < len(s) and j < len(t):\n",
    "            if s[i] == t[j]:\n",
    "                fill[i] = 1\n",
    "                i += 1\n",
    "            j += 1\n",
    "            \n",
    "        return all(x == 1 for x in fill)\n",
    "\n",
    "s = Solution()\n",
    "# s.isSubsequence('abc', 'zacxbx')\n",
    "s.isSubsequence('abc', 'ahbdcg')\n",
    "s.isSubsequence('aaaaaa', 'bbaaaa')"
   ]
  },
  {
   "cell_type": "code",
   "execution_count": 6,
   "id": "0c5ccb7d-e0ff-4ac8-9abc-1dee8bb3f944",
   "metadata": {
    "scrolled": true
   },
   "outputs": [
    {
     "data": {
      "text/plain": [
       "False"
      ]
     },
     "execution_count": 6,
     "metadata": {},
     "output_type": "execute_result"
    }
   ],
   "source": [
    "class Solution:\n",
    "    def isSubsequence(self, s: str, t: str) -> bool:\n",
    "        i, j = 0, 0\n",
    "        fill = [0 for i in range(len(s))]\n",
    "\n",
    "        while i < len(s) and j < len(t):\n",
    "            if s[i] == t[j]:\n",
    "                fill[i] = 1\n",
    "                i += 1\n",
    "            j += 1\n",
    "            \n",
    "        return True if i == len(s) else False\n",
    "\n",
    "s = Solution()\n",
    "# s.isSubsequence('abc', 'zacxbx')\n",
    "s.isSubsequence('abc', 'ahbdcg')\n",
    "s.isSubsequence('aaaaaa', 'bbaaaa')"
   ]
  },
  {
   "cell_type": "code",
   "execution_count": null,
   "id": "4f6d67fe-ad41-46fa-a0cb-102c7946eda7",
   "metadata": {},
   "outputs": [],
   "source": []
  }
 ],
 "metadata": {
  "kernelspec": {
   "display_name": "Python 3 (ipykernel)",
   "language": "python",
   "name": "python3"
  },
  "language_info": {
   "codemirror_mode": {
    "name": "ipython",
    "version": 3
   },
   "file_extension": ".py",
   "mimetype": "text/x-python",
   "name": "python",
   "nbconvert_exporter": "python",
   "pygments_lexer": "ipython3",
   "version": "3.13.6"
  }
 },
 "nbformat": 4,
 "nbformat_minor": 5
}
