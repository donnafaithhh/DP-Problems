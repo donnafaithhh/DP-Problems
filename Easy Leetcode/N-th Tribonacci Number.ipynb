{
 "cells": [
  {
   "cell_type": "markdown",
   "id": "b3d47ba3-58c3-4100-8c4b-c4792c38f493",
   "metadata": {},
   "source": [
    "This notebook was created by Donna Faith Go."
   ]
  },
  {
   "cell_type": "markdown",
   "id": "ecedef1e-e997-48e0-99f2-f19fd88496c7",
   "metadata": {},
   "source": [
    "## Imports"
   ]
  },
  {
   "cell_type": "code",
   "execution_count": 1,
   "id": "97963d34-988a-4579-bb29-2e03221cb7cf",
   "metadata": {},
   "outputs": [],
   "source": [
    "from typing import List, Optional\n",
    "import math\n",
    "from collections import deque"
   ]
  },
  {
   "cell_type": "markdown",
   "id": "5998fcd0-7be7-417f-8ed7-8e67624ff931",
   "metadata": {},
   "source": [
    "### N-th Tribonacci Number\n",
    "Input: n = 4\n",
    "\n",
    "Output: 4\n",
    "\n",
    "Explanation:\n",
    "\n",
    "T_3 = 0 + 1 + 1 = 2\n",
    "\n",
    "T_4 = 1 + 1 + 2 = 4"
   ]
  },
  {
   "cell_type": "code",
   "execution_count": 15,
   "id": "bc79a233-24d0-4c1b-bdeb-d6d2109dcd98",
   "metadata": {},
   "outputs": [],
   "source": [
    "class Solution:\n",
    "    def tribonacci(self, n: int) -> int:\n",
    "        memo = {0: 0, 1: 1, 2: 1}\n",
    "\n",
    "        def get_digit(n):\n",
    "            if n in memo:\n",
    "                return memo[n]\n",
    "            else:\n",
    "                memo[n] = get_digit(n - 1) + get_digit(n - 2) + get_digit(n - 3)\n",
    "                return memo[n]\n",
    "                \n",
    "        return get_digit(n)        "
   ]
  }
 ],
 "metadata": {
  "kernelspec": {
   "display_name": "Python 3 (ipykernel)",
   "language": "python",
   "name": "python3"
  },
  "language_info": {
   "codemirror_mode": {
    "name": "ipython",
    "version": 3
   },
   "file_extension": ".py",
   "mimetype": "text/x-python",
   "name": "python",
   "nbconvert_exporter": "python",
   "pygments_lexer": "ipython3",
   "version": "3.13.6"
  }
 },
 "nbformat": 4,
 "nbformat_minor": 5
}
