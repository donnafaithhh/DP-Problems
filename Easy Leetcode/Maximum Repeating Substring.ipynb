{
 "cells": [
  {
   "cell_type": "markdown",
   "id": "b3d47ba3-58c3-4100-8c4b-c4792c38f493",
   "metadata": {},
   "source": [
    "This notebook was created by Donna Faith Go."
   ]
  },
  {
   "cell_type": "markdown",
   "id": "ecedef1e-e997-48e0-99f2-f19fd88496c7",
   "metadata": {},
   "source": [
    "## Imports"
   ]
  },
  {
   "cell_type": "code",
   "execution_count": 1,
   "id": "97963d34-988a-4579-bb29-2e03221cb7cf",
   "metadata": {},
   "outputs": [],
   "source": [
    "from typing import List, Optional\n",
    "import math\n",
    "from collections import deque"
   ]
  },
  {
   "cell_type": "markdown",
   "id": "f0e3be69-9cfb-4ff9-b344-4a6c91dbff52",
   "metadata": {},
   "source": [
    "### Maximum Repeating Substring\n",
    "Example 1:\n",
    "\n",
    "Input: sequence = \"ababc\", word = \"ab\"\n",
    "\n",
    "Output: 2"
   ]
  },
  {
   "cell_type": "code",
   "execution_count": 13,
   "id": "c09117b5-362e-4209-9a4a-26650db751cb",
   "metadata": {},
   "outputs": [
    {
     "name": "stdout",
     "output_type": "stream",
     "text": [
      "aaaba aaaba 0\n",
      "aaaba |aaab 1\n",
      "aaaba aaab| 1\n",
      "aaaba aab|a 1\n",
      "aaaba ab|aa 1\n",
      "aaaba b|aaa 1\n",
      "aaaba |aaab 1\n",
      "aaaba aaaba 1\n",
      "aaaba |aaab 2\n",
      "aaaba aaaba 2\n",
      "aaaba |aaab 3\n",
      "aaaba aaaba 3\n",
      "aaaba |aaab 4\n",
      "aaaba aaaba 4\n",
      "aaaba |aaab 5\n",
      "aaaba aaaba 5\n",
      "aaaba  6\n"
     ]
    },
    {
     "data": {
      "text/plain": [
       "6"
      ]
     },
     "execution_count": 13,
     "metadata": {},
     "output_type": "execute_result"
    }
   ],
   "source": [
    "class Solution:\n",
    "    def maxRepeating(self, word: str, sequence: str) -> int:\n",
    "        i, j = 0, len(sequence)\n",
    "        count = 0\n",
    "\n",
    "        while i <= len(word):\n",
    "            print(sequence, word[i:i+j], count)\n",
    "            if sequence == word[i:i+j]:\n",
    "                count += 1\n",
    "                i += j\n",
    "            else:\n",
    "                i += 1\n",
    "                \n",
    "        return count\n",
    "\n",
    "s = Solution()\n",
    "a = \"aaaba|aaab|aaaba|aaaba|aaaba|aaaba|aaaba\"\n",
    "b = \"aaaba\"\n",
    "s.maxRepeating(a, b)"
   ]
  },
  {
   "cell_type": "code",
   "execution_count": 14,
   "id": "b8e47289-c02d-4b43-aa50-1587a854a5fe",
   "metadata": {},
   "outputs": [
    {
     "data": {
      "text/plain": [
       "5"
      ]
     },
     "execution_count": 14,
     "metadata": {},
     "output_type": "execute_result"
    }
   ],
   "source": [
    "class Solution:\n",
    "    def maxRepeating(self, sequence: str, word: str) -> int:\n",
    "        count = 0 \n",
    "\n",
    "        while True:\n",
    "            if word * count not in sequence:\n",
    "                return count - 1\n",
    "            count += 1\n",
    "\n",
    "s = Solution()\n",
    "a = \"aaabaaaabaaabaaaabaaaabaaaabaaaaba\"\n",
    "b = \"aaaba\"\n",
    "s.maxRepeating(a, b)"
   ]
  }
 ],
 "metadata": {
  "kernelspec": {
   "display_name": "Python 3 (ipykernel)",
   "language": "python",
   "name": "python3"
  },
  "language_info": {
   "codemirror_mode": {
    "name": "ipython",
    "version": 3
   },
   "file_extension": ".py",
   "mimetype": "text/x-python",
   "name": "python",
   "nbconvert_exporter": "python",
   "pygments_lexer": "ipython3",
   "version": "3.13.6"
  }
 },
 "nbformat": 4,
 "nbformat_minor": 5
}
