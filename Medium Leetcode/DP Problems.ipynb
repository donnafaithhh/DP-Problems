{
 "cells": [
  {
   "cell_type": "markdown",
   "id": "b3d47ba3-58c3-4100-8c4b-c4792c38f493",
   "metadata": {},
   "source": [
    "This notebook was created by Donna Faith Go."
   ]
  },
  {
   "cell_type": "markdown",
   "id": "ecedef1e-e997-48e0-99f2-f19fd88496c7",
   "metadata": {},
   "source": [
    "## Imports"
   ]
  },
  {
   "cell_type": "code",
   "execution_count": 1,
   "id": "97963d34-988a-4579-bb29-2e03221cb7cf",
   "metadata": {},
   "outputs": [],
   "source": [
    "from typing import List, Optional\n",
    "import math\n",
    "from collections import deque"
   ]
  },
  {
   "cell_type": "markdown",
   "id": "6b88e1c7-671b-477d-b760-6a2aa5c41f7f",
   "metadata": {},
   "source": [
    "## Medium LeetCode"
   ]
  },
  {
   "cell_type": "markdown",
   "id": "52f82248-596e-4ecb-b88e-153cdd420ca5",
   "metadata": {},
   "source": [
    "### Jump Game VII\n",
    "Input: s = \"011010\", minJump = 2, maxJump = 3\n",
    "\n",
    "Output: true\n",
    "\n",
    "Input: s = \"01101110\", minJump = 2, maxJump = 3\n",
    "\n",
    "Output: false"
   ]
  },
  {
   "cell_type": "markdown",
   "id": "11133258-e4c9-4a59-8c13-5ea015054daf",
   "metadata": {},
   "source": [
    "You are given a 0-indexed binary string s and two integers minJump and maxJump. In the beginning, you are standing at index 0, which is equal to '0'. You can move from index i to index j if the following conditions are fulfilled:\n",
    "\n",
    "- i + minJump <= j <= min(i + maxJump, s.length - 1), and\n",
    "- s[j] == '0'.\n",
    "\n",
    "Return true if you can reach index s.length - 1 in s, or false otherwise."
   ]
  },
  {
   "cell_type": "code",
   "execution_count": 2,
   "id": "3d857cd1-1d30-446b-8871-ce2529c60af3",
   "metadata": {},
   "outputs": [],
   "source": [
    "class Solution:\n",
    "    def canReach(self, s: str, minJump: int, maxJump: int) -> bool:\n",
    "        return\n",
    "\n",
    "s = Solution()\n",
    "minj = 2\n",
    "maxj = 3\n",
    "string = '01101110'"
   ]
  },
  {
   "cell_type": "code",
   "execution_count": 104,
   "id": "68b50352-f848-432d-a530-882f2630eccb",
   "metadata": {},
   "outputs": [
    {
     "name": "stdout",
     "output_type": "stream",
     "text": [
      "i=1, dp=[1, 0, 0, 0, 0, 0], dq=[0, 1]\n",
      "i=2, dp=[1, 0, -1, 0, 0, 0], dq=[0, 1, 2]\n",
      "i=3, dp=[1, 0, -1, 4, 0, 0], dq=[3]\n",
      "i=4, dp=[1, 0, -1, 4, -3, 0], dq=[3, 4]\n",
      "i=5, dp=[1, 0, -1, 4, -3, 7], dq=[5]\n"
     ]
    },
    {
     "data": {
      "text/plain": [
       "7"
      ]
     },
     "execution_count": 104,
     "metadata": {},
     "output_type": "execute_result"
    }
   ],
   "source": [
    "from collections import deque\n",
    "\n",
    "class Solution:\n",
    "    def maxResult(self, nums: List[int], k: int) -> int:\n",
    "        dp = [0] * len(nums)\n",
    "        dp[0] = nums[0]\n",
    "        dq = deque([0])\n",
    "\n",
    "        for i in range(1, len(nums)):\n",
    "            while dq and dq[0] < i - k:\n",
    "                dq.popleft()\n",
    "                \n",
    "            dp[i] = nums[i] + dp[dq[0]]\n",
    "\n",
    "            while dq and dp[i] >= dp[dq[-1]]:\n",
    "                dq.pop()\n",
    "\n",
    "            dq.append(i)\n",
    "            print(f\"i={i}, dp={dp}, dq={list(dq)}\")\n",
    "            \n",
    "        return dp[-1]\n",
    "\n",
    "s = Solution()\n",
    "s.maxResult([1, -1, -2, 4, -7, 3], 2)"
   ]
  },
  {
   "cell_type": "markdown",
   "id": "2c0563cc-a217-430b-b60a-19c26a2b582e",
   "metadata": {
    "jp-MarkdownHeadingCollapsed": true
   },
   "source": [
    "### Jump Game VI\n",
    "Input: s = \"01101110\", minJump = 2, maxJump = 3\n",
    "\n",
    "Output: false"
   ]
  },
  {
   "cell_type": "code",
   "execution_count": 80,
   "id": "aa6460d5-0974-4d37-b65c-9ad9777fe75a",
   "metadata": {},
   "outputs": [
    {
     "name": "stdout",
     "output_type": "stream",
     "text": [
      "-1 [1, 0, 0, 0, 0, 0]\n",
      "-2 [1, 0, -1, 0, 0, 0]\n",
      "4 [1, 0, -1, 4, 0, 0]\n",
      "-7 [1, 0, -1, 4, -3, 0]\n",
      "3 [1, 0, -1, 4, -3, 7]\n"
     ]
    },
    {
     "data": {
      "text/plain": [
       "7"
      ]
     },
     "execution_count": 80,
     "metadata": {},
     "output_type": "execute_result"
    }
   ],
   "source": [
    "class Solution:\n",
    "    def maxResult(self, nums: List[int], k: int) -> int:\n",
    "        dp = [0] * len(nums)\n",
    "        i = 0\n",
    "        \n",
    "        while i < len(nums):\n",
    "            try: \n",
    "                if i == 0:\n",
    "                    dp[0] = nums[0]\n",
    "                i += 1\n",
    "                dp[i] = nums[i] + max([dp[j] for j in range(max(0, i - k), i)])\n",
    "                    \n",
    "                print(nums[i], dp)\n",
    "            except:\n",
    "                continue\n",
    "        \n",
    "        return dp[-1]\n",
    "\n",
    "s = Solution()\n",
    "s.maxResult([1, -1, -2, 4, -7, 3], 2)"
   ]
  },
  {
   "cell_type": "code",
   "execution_count": 102,
   "id": "d6da6dc4-ff75-4914-b4b2-4a601830b7e2",
   "metadata": {},
   "outputs": [
    {
     "data": {
      "text/plain": [
       "7"
      ]
     },
     "execution_count": 102,
     "metadata": {},
     "output_type": "execute_result"
    }
   ],
   "source": [
    "from collections import deque\n",
    "\n",
    "class Solution:\n",
    "    def maxResult(self, nums: List[int], k: int) -> int:\n",
    "        dp = [0] * len(nums)\n",
    "        dp[0] = nums[0]\n",
    "        dq = deque([0])\n",
    "\n",
    "        for i in range(1, len(nums)):\n",
    "            while dq and dq[0] < i - k:\n",
    "                dq.popleft()\n",
    "                \n",
    "            dp[i] = nums[i] + dp[dq[0]]\n",
    "\n",
    "            while dq and dp[i] >= dp[dq[-1]]:\n",
    "                dq.pop()\n",
    "\n",
    "            dq.append(i)\n",
    "            # print(f\"i={i}, dp={dp}, dq={list(dq)}\")\n",
    "            \n",
    "        return dp[-1]\n",
    "\n",
    "s = Solution()\n",
    "s.maxResult([1, -1, -2, 4, -7, 3], 2)"
   ]
  },
  {
   "cell_type": "markdown",
   "id": "b758b9e3-f32a-4221-b904-3d928b9944af",
   "metadata": {
    "jp-MarkdownHeadingCollapsed": true
   },
   "source": [
    "### Generate Parentheses\n",
    "Input: n = 3\n",
    "\n",
    "Output: [\"((()))\",\"(()())\",\"(())()\",\"()(())\",\"()()()\"]"
   ]
  },
  {
   "cell_type": "code",
   "execution_count": 4,
   "id": "d1195419-c670-4ffc-a96a-59a7ac4f7f50",
   "metadata": {},
   "outputs": [],
   "source": [
    "# class Solution:\n",
    "#     def countVowelStrings(self, n: int) -> int:\n",
    "#         vowels = ['a', 'e', 'i', 'o', 'u']\n",
    "#         self.count = 0\n",
    "\n",
    "#         def backtrack(start, path):\n",
    "#             if len(path) == n:\n",
    "#                 self.count += 1\n",
    "#                 return\n",
    "#             for i in range(start, len(vowels)):\n",
    "#                 backtrack(i, path + [vowels[i]])\n",
    "\n",
    "#         backtrack(0, [])\n",
    "#         return self.count\n",
    "\n",
    "# s = Solution()\n",
    "# s.countVowelStrings(2)"
   ]
  },
  {
   "cell_type": "code",
   "execution_count": 5,
   "id": "f39a2069-a470-4ba9-9363-94f5417713a5",
   "metadata": {},
   "outputs": [
    {
     "data": {
      "text/plain": [
       "['((()))', '(()())', '(())()', '()(())', '()()()']"
      ]
     },
     "execution_count": 5,
     "metadata": {},
     "output_type": "execute_result"
    }
   ],
   "source": [
    "class Solution:\n",
    "    def generateParenthesis(self, n: int) -> List[str]:\n",
    "        all_list = []\n",
    "\n",
    "        def backtrack(current, p_open, p_close):\n",
    "            if len(current) == n * 2:\n",
    "                all_list.append(current)\n",
    "                return \n",
    "            \n",
    "            if p_open < n:\n",
    "                backtrack(current + '(', p_open + 1, p_close)\n",
    "            if p_close < p_open:\n",
    "                backtrack(current + ')', p_open, p_close + 1)\n",
    "\n",
    "        backtrack('', 0, 0)\n",
    "        return all_list\n",
    "\n",
    "s = Solution()\n",
    "s.generateParenthesis(3)"
   ]
  },
  {
   "cell_type": "markdown",
   "id": "7fafe113-f6ec-4e97-9cf7-ec84c732f135",
   "metadata": {
    "jp-MarkdownHeadingCollapsed": true
   },
   "source": [
    "### Count Sorted Vowel Strings\n",
    "Input: n = 2\n",
    "\n",
    "Output: 15\n",
    "\n",
    "Explanation: The 15 sorted strings that consist of vowels only are\n",
    "[\"aa\",\"ae\",\"ai\",\"ao\",\"au\",\"ee\",\"ei\",\"eo\",\"eu\",\"ii\",\"io\",\"iu\",\"oo\",\"ou\",\"uu\"].\n",
    "Note that \"ea\" is not a valid string since 'e' comes after 'a' in the alphabet."
   ]
  },
  {
   "cell_type": "code",
   "execution_count": 6,
   "id": "b7493cae-9295-47ec-8278-1fa77f2a0ea7",
   "metadata": {},
   "outputs": [],
   "source": [
    "# 📌 Backtracking Template (Copy/Paste):\n",
    "# def backtrack(params):\n",
    "#     if base_case_condition:\n",
    "#         save_result\n",
    "#         return\n",
    "\n",
    "#     for choice in choices:\n",
    "#         if violates_constraints:\n",
    "#             continue\n",
    "\n",
    "#         make_choice\n",
    "#         backtrack(updated_params)\n",
    "#         undo_choice  # Backtracking Step\n",
    "\n",
    "# A string s is lexicographically sorted if for all valid i, \n",
    "# s[i] is the same as or comes before s[i+1] in the alphabet."
   ]
  },
  {
   "cell_type": "code",
   "execution_count": 7,
   "id": "65cb35b8-8cc6-44dd-808a-431ae10fa707",
   "metadata": {},
   "outputs": [
    {
     "name": "stdout",
     "output_type": "stream",
     "text": [
      "2 1 [[0, 0, 0, 0, 0, 0], [0, 1, 2, 3, 4, 5], [0, 1, 0, 0, 0, 0]]\n",
      "2 2 [[0, 0, 0, 0, 0, 0], [0, 1, 2, 3, 4, 5], [0, 1, 3, 0, 0, 0]]\n",
      "2 3 [[0, 0, 0, 0, 0, 0], [0, 1, 2, 3, 4, 5], [0, 1, 3, 6, 0, 0]]\n",
      "2 4 [[0, 0, 0, 0, 0, 0], [0, 1, 2, 3, 4, 5], [0, 1, 3, 6, 10, 0]]\n",
      "2 5 [[0, 0, 0, 0, 0, 0], [0, 1, 2, 3, 4, 5], [0, 1, 3, 6, 10, 15]]\n"
     ]
    },
    {
     "data": {
      "text/plain": [
       "15"
      ]
     },
     "execution_count": 7,
     "metadata": {},
     "output_type": "execute_result"
    }
   ],
   "source": [
    "class Solution:\n",
    "    def countVowelStrings(self, n: int) -> int:\n",
    "        dp = [[0] * 6 for _ in range(n+1)]\n",
    "        \n",
    "        for k in range(1, 6):\n",
    "            dp[1][k] = k\n",
    "            \n",
    "        for i in range(2, n+1):\n",
    "            for k in range(1, 6):\n",
    "                dp[i][k] = dp[i-1][k] + dp[i][k-1]\n",
    "                print(i, k, dp)\n",
    "        \n",
    "        return dp[n][5]\n",
    "        \n",
    "s = Solution()\n",
    "s.countVowelStrings(2)"
   ]
  },
  {
   "cell_type": "code",
   "execution_count": 8,
   "id": "ca5c3b83-9ef9-406d-8c43-5bf9327db979",
   "metadata": {},
   "outputs": [
    {
     "data": {
      "text/plain": [
       "15"
      ]
     },
     "execution_count": 8,
     "metadata": {},
     "output_type": "execute_result"
    }
   ],
   "source": [
    "class Solution:\n",
    "    def countVowelStrings(self, n: int) -> int:\n",
    "        vowels = ['a', 'e', 'i', 'o', 'u']\n",
    "        self.count = 0\n",
    "\n",
    "        def backtrack(start, path):\n",
    "            if len(path) == n:\n",
    "                self.count += 1\n",
    "                return\n",
    "            for i in range(start, len(vowels)):\n",
    "                backtrack(i, path + [vowels[i]])\n",
    "\n",
    "        backtrack(0, [])\n",
    "        return self.count\n",
    "\n",
    "s = Solution()\n",
    "s.countVowelStrings(2)"
   ]
  },
  {
   "cell_type": "code",
   "execution_count": 9,
   "id": "a95d0a9e-4a9c-412e-80ae-307cb97a3205",
   "metadata": {},
   "outputs": [
    {
     "data": {
      "text/plain": [
       "15"
      ]
     },
     "execution_count": 9,
     "metadata": {},
     "output_type": "execute_result"
    }
   ],
   "source": [
    "import math\n",
    "class Solution:\n",
    "    def countVowelStrings(self, n: int) -> int:\n",
    "        return math.comb(n + 4, 4)\n",
    "\n",
    "s = Solution()\n",
    "s.countVowelStrings(2)"
   ]
  },
  {
   "cell_type": "code",
   "execution_count": 10,
   "id": "c9847e8c-ccad-4fa4-b73d-7b6fba003da6",
   "metadata": {
    "scrolled": true
   },
   "outputs": [
    {
     "name": "stdout",
     "output_type": "stream",
     "text": [
      "['a'] 1\n",
      "['a'] 2\n",
      "['a'] 3\n",
      "['a'] 4\n",
      "['a'] 5\n",
      "['a'] 6\n",
      "['a'] 7\n",
      "['a'] 8\n",
      "['a'] 9\n",
      "['a'] 10\n",
      "['a'] 11\n",
      "['a'] 12\n",
      "['a'] 13\n",
      "['a'] 14\n",
      "['a'] 15\n",
      "['a'] 16\n",
      "['a'] 17\n",
      "['a'] 18\n",
      "['a'] 19\n",
      "['a'] 20\n",
      "['a'] 21\n",
      "['a'] 22\n",
      "['a'] 23\n",
      "['a'] 24\n",
      "['a'] 25\n",
      "['a'] 26\n",
      "['a'] 27\n",
      "['a'] 28\n",
      "['a'] 29\n",
      "['a'] 30\n",
      "['a'] 31\n",
      "['a'] 32\n",
      "['a'] 33\n",
      "['a'] 34\n",
      "['e'] 35\n",
      "['e'] 36\n",
      "['e'] 37\n",
      "['e'] 38\n",
      "['e'] 39\n",
      "['e'] 40\n",
      "['e'] 41\n",
      "['e'] 42\n",
      "['e'] 43\n",
      "['e'] 44\n",
      "['e'] 45\n",
      "['e'] 46\n",
      "['e'] 47\n",
      "['e'] 48\n",
      "['e'] 49\n",
      "['e'] 50\n",
      "['e'] 51\n",
      "['e'] 52\n",
      "['e'] 53\n",
      "['e'] 54\n",
      "['e'] 55\n",
      "['e'] 56\n",
      "['e'] 57\n",
      "['e'] 58\n",
      "['e'] 59\n",
      "['e'] 60\n",
      "['e'] 61\n",
      "['e'] 62\n",
      "['e'] 63\n",
      "['e'] 64\n",
      "['e'] 65\n",
      "['e'] 66\n",
      "['e'] 67\n",
      "['e'] 68\n",
      "['i'] 69\n",
      "['i'] 70\n",
      "['i'] 71\n",
      "['i'] 72\n",
      "['i'] 73\n",
      "['i'] 74\n",
      "['i'] 75\n",
      "['i'] 76\n",
      "['i'] 77\n",
      "['i'] 78\n",
      "['i'] 79\n",
      "['i'] 80\n",
      "['i'] 81\n",
      "['i'] 82\n",
      "['i'] 83\n",
      "['i'] 84\n",
      "['i'] 85\n",
      "['i'] 86\n",
      "['i'] 87\n",
      "['i'] 88\n",
      "['i'] 89\n",
      "['i'] 90\n",
      "['i'] 91\n",
      "['i'] 92\n",
      "['i'] 93\n",
      "['i'] 94\n",
      "['i'] 95\n",
      "['i'] 96\n",
      "['i'] 97\n",
      "['i'] 98\n",
      "['i'] 99\n",
      "['i'] 100\n",
      "['i'] 101\n",
      "['i'] 102\n",
      "['o'] 103\n",
      "['o'] 104\n",
      "['o'] 105\n",
      "['o'] 106\n",
      "['o'] 107\n",
      "['o'] 108\n",
      "['o'] 109\n",
      "['o'] 110\n",
      "['o'] 111\n",
      "['o'] 112\n",
      "['o'] 113\n",
      "['o'] 114\n",
      "['o'] 115\n",
      "['o'] 116\n",
      "['o'] 117\n",
      "['o'] 118\n",
      "['o'] 119\n",
      "['o'] 120\n",
      "['o'] 121\n",
      "['o'] 122\n",
      "['o'] 123\n",
      "['o'] 124\n",
      "['o'] 125\n",
      "['o'] 126\n",
      "['o'] 127\n",
      "['o'] 128\n",
      "['o'] 129\n",
      "['o'] 130\n",
      "['o'] 131\n",
      "['o'] 132\n",
      "['o'] 133\n",
      "['o'] 134\n",
      "['o'] 135\n",
      "['o'] 136\n",
      "['u'] 137\n",
      "['u'] 138\n",
      "['u'] 139\n",
      "['u'] 140\n",
      "['u'] 141\n",
      "['u'] 142\n",
      "['u'] 143\n",
      "['u'] 144\n",
      "['u'] 145\n",
      "['u'] 146\n",
      "['u'] 147\n",
      "['u'] 148\n",
      "['u'] 149\n",
      "['u'] 150\n",
      "['u'] 151\n",
      "['u'] 152\n",
      "['u'] 153\n",
      "['u'] 154\n",
      "['u'] 155\n",
      "['u'] 156\n",
      "['u'] 157\n",
      "['u'] 158\n",
      "['u'] 159\n",
      "['u'] 160\n",
      "['u'] 161\n",
      "['u'] 162\n",
      "['u'] 163\n",
      "['u'] 164\n",
      "['u'] 165\n",
      "['u'] 166\n",
      "['u'] 167\n",
      "['u'] 168\n",
      "['u'] 169\n",
      "['u'] 170\n"
     ]
    },
    {
     "data": {
      "text/plain": [
       "170"
      ]
     },
     "execution_count": 10,
     "metadata": {},
     "output_type": "execute_result"
    }
   ],
   "source": [
    "class Solution:\n",
    "    def countVowelStrings(self, n: int) -> int:\n",
    "        vowels = ['a', 'e', 'i', 'o', 'u']\n",
    "        possible = []\n",
    "        count = 0\n",
    "        \n",
    "        def backtrack(n):\n",
    "            nonlocal count\n",
    "            if n == 1:\n",
    "                possible = vowels\n",
    "                return len(possible)\n",
    "\n",
    "            for vowel in vowels:\n",
    "                j = n\n",
    "                while j >= 0:\n",
    "                    temp = []\n",
    "                    temp.append(vowel)\n",
    "                    j = j - 1\n",
    "                    count += 1\n",
    "                    print(temp, count)\n",
    "            return count\n",
    "                    \n",
    "        return backtrack(n)\n",
    "s = Solution()\n",
    "s.countVowelStrings(33)"
   ]
  },
  {
   "cell_type": "code",
   "execution_count": 11,
   "id": "40001d3b-a8f9-4571-a4f1-ef190193f0f5",
   "metadata": {},
   "outputs": [
    {
     "name": "stdout",
     "output_type": "stream",
     "text": [
      "3\n",
      "2\n",
      "1\n"
     ]
    }
   ],
   "source": [
    "n = 3\n",
    "while n > 0:\n",
    "    print(n)\n",
    "    n = n - 1"
   ]
  },
  {
   "cell_type": "markdown",
   "id": "e34883c6-287d-475a-92ea-59a8e8ecad88",
   "metadata": {},
   "source": [
    "### All Possible Full Binary Trees\n",
    "Input: 7\n",
    "\n",
    "Output: [[0,0,0,null,null,0,0,null,null,0,0],[0,0,0,null,null,0,0,0,0],[0,0,0,0,0,0,0],[0,0,0,0,0,null,null,null,null,0,0],[0,0,0,0,0,null,null,0,0]]\n"
   ]
  },
  {
   "cell_type": "code",
   "execution_count": 12,
   "id": "0d9b85bc-da57-4f1a-8053-9d0a20fd226a",
   "metadata": {},
   "outputs": [],
   "source": [
    "# class Solution:\n",
    "#     def allPossibleFBT(self, n: int) -> List[List[Optional[int]]]:\n",
    "#         memo = {3: [[0, 0, 0]]}\n",
    "#         i_prev = 1\n",
    "#         possible_combinations = []\n",
    "        \n",
    "#         def add_nodes(n):\n",
    "#             for i in range(1, n+1):\n",
    "#                 if i % 2 != 0 and i > 1:\n",
    "#                     if i in memo:\n",
    "#                         return memo[i]\n",
    "#                     else: \n",
    "                        \n",
    "        \n",
    "#         return add_nodes(n)\n",
    "\n",
    "# s = Solution()\n",
    "# print(s.allPossibleFBT(3))"
   ]
  },
  {
   "cell_type": "code",
   "execution_count": 13,
   "id": "7dd22722-b6a6-464c-ab0d-3792ffa9909c",
   "metadata": {
    "scrolled": true
   },
   "outputs": [
    {
     "data": {
      "text/plain": [
       "[<__main__.TreeNode at 0x2273c342ad0>]"
      ]
     },
     "execution_count": 13,
     "metadata": {},
     "output_type": "execute_result"
    }
   ],
   "source": [
    "class TreeNode:\n",
    "    def __init__(self, val=0, left=None, right=None):\n",
    "        self.val = val\n",
    "        self.left = left\n",
    "        self.right = right\n",
    "\n",
    "class Solution:\n",
    "    def allPossibleFBT(self, n: int) -> List[List[Optional[int]]]:\n",
    "        if n % 2 == 0:\n",
    "            return []\n",
    "        \n",
    "        memo = {}\n",
    "\n",
    "        def generateFBT(n):\n",
    "            if n == 1:\n",
    "                return [TreeNode(0)]\n",
    "            if n in memo:\n",
    "                return memo [n]\n",
    "\n",
    "            trees = []\n",
    "            for left in range(1, n, 2):\n",
    "                left_subtrees = generateFBT(left)\n",
    "                right_subtrees = generateFBT(n - left - 1)\n",
    "\n",
    "                for l in left_subtrees:\n",
    "                    for r in right_subtrees:\n",
    "                        root = TreeNode(0, l, r)\n",
    "                        trees.append(root)\n",
    "            memo[n] = trees\n",
    "            return trees\n",
    "        \n",
    "        return generateFBT(n)\n",
    "\n",
    "s = Solution()\n",
    "s.allPossibleFBT(3)"
   ]
  }
 ],
 "metadata": {
  "kernelspec": {
   "display_name": "Python 3 (ipykernel)",
   "language": "python",
   "name": "python3"
  },
  "language_info": {
   "codemirror_mode": {
    "name": "ipython",
    "version": 3
   },
   "file_extension": ".py",
   "mimetype": "text/x-python",
   "name": "python",
   "nbconvert_exporter": "python",
   "pygments_lexer": "ipython3",
   "version": "3.13.6"
  }
 },
 "nbformat": 4,
 "nbformat_minor": 5
}
