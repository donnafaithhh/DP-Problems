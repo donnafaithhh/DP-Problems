{
 "cells": [
  {
   "cell_type": "markdown",
   "id": "b3d47ba3-58c3-4100-8c4b-c4792c38f493",
   "metadata": {},
   "source": [
    "This notebook was created by Donna Faith Go."
   ]
  },
  {
   "cell_type": "markdown",
   "id": "ecedef1e-e997-48e0-99f2-f19fd88496c7",
   "metadata": {},
   "source": [
    "## Imports"
   ]
  },
  {
   "cell_type": "code",
   "execution_count": 1,
   "id": "97963d34-988a-4579-bb29-2e03221cb7cf",
   "metadata": {},
   "outputs": [],
   "source": [
    "from typing import List, Optional\n",
    "import math\n",
    "from collections import deque"
   ]
  },
  {
   "cell_type": "markdown",
   "id": "52f82248-596e-4ecb-b88e-153cdd420ca5",
   "metadata": {},
   "source": [
    "### Unique Paths\n",
    "\n",
    "**Description**\n",
    "\n",
    "There is a robot on an m x n grid. The robot is initially located at the top-left corner (i.e., grid[0][0]). The robot tries to move to the bottom-right corner (i.e., grid[m - 1][n - 1]). The robot can only move either down or right at any point in time.\n",
    "\n",
    "Given the two integers m and n, return the number of possible unique paths that the robot can take to reach the bottom-right corner.\n",
    "\n",
    "The test cases are generated so that the answer will be less than or equal to 2 * 109.\n",
    "\n",
    "**Example 1**\n",
    "\n",
    "Input: m = 3, n = 7\n",
    "\n",
    "Output: 28\n",
    "\n",
    "**Example 2**\n",
    "\n",
    "Input: m = 3, n = 2\n",
    "\n",
    "Output: 3"
   ]
  },
  {
   "cell_type": "markdown",
   "id": "68cec662-0722-4239-a4e1-a72ec098cfd9",
   "metadata": {},
   "source": [
    "I used the bottom-up dynamic programming approach for this problem."
   ]
  },
  {
   "cell_type": "code",
   "execution_count": null,
   "id": "7e674149-f013-4513-8b1a-943b4da5bfa9",
   "metadata": {},
   "outputs": [],
   "source": [
    "class Solution:\n",
    "    def uniquePaths(self, m: int, n: int) -> int:\n",
    "        rows, columns = m, n\n",
    "        dp = [[0] * columns for col in range(rows)]\n",
    "        dp[0][0] = 1\n",
    "        \n",
    "        # for rows\n",
    "        for i in range(rows):\n",
    "            dp[i][0] = 1\n",
    "        \n",
    "        # for columns\n",
    "        for i in range(columns):\n",
    "            dp[0][i] = 1\n",
    "        \n",
    "        for i in range(rows):\n",
    "            for j in range(columns):\n",
    "                if dp[i][j] == 0:\n",
    "                    dp[i][j] = dp[i-1][j] + dp[i][j-1]\n",
    "        \n",
    "        return dp[-1][-1]"
   ]
  },
  {
   "cell_type": "code",
   "execution_count": null,
   "id": "0bd31950-c723-4e7e-a391-ffcd258716bf",
   "metadata": {},
   "outputs": [],
   "source": []
  }
 ],
 "metadata": {
  "kernelspec": {
   "display_name": "Python 3 (ipykernel)",
   "language": "python",
   "name": "python3"
  },
  "language_info": {
   "codemirror_mode": {
    "name": "ipython",
    "version": 3
   },
   "file_extension": ".py",
   "mimetype": "text/x-python",
   "name": "python",
   "nbconvert_exporter": "python",
   "pygments_lexer": "ipython3",
   "version": "3.13.6"
  }
 },
 "nbformat": 4,
 "nbformat_minor": 5
}
