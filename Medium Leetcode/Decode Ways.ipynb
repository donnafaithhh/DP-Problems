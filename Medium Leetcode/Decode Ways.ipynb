{
 "cells": [
  {
   "cell_type": "markdown",
   "id": "b3d47ba3-58c3-4100-8c4b-c4792c38f493",
   "metadata": {},
   "source": [
    "This notebook was created by Donna Faith Go."
   ]
  },
  {
   "cell_type": "markdown",
   "id": "ecedef1e-e997-48e0-99f2-f19fd88496c7",
   "metadata": {},
   "source": [
    "## Imports"
   ]
  },
  {
   "cell_type": "code",
   "execution_count": 1,
   "id": "97963d34-988a-4579-bb29-2e03221cb7cf",
   "metadata": {},
   "outputs": [],
   "source": [
    "from typing import List, Optional\n",
    "import math\n",
    "from collections import deque"
   ]
  },
  {
   "cell_type": "markdown",
   "id": "52f82248-596e-4ecb-b88e-153cdd420ca5",
   "metadata": {},
   "source": [
    "### Decode Ways\n",
    "\n",
    "**Description**\n",
    "\n",
    "You have intercepted a secret message encoded as a string of numbers. The message is decoded via the following mapping:\n",
    "\n",
    "\"1\" -> 'A'\n",
    "\n",
    "\"2\" -> 'B'\n",
    "\n",
    "...\n",
    "\n",
    "\"25\" -> 'Y'\n",
    "\n",
    "\"26\" -> 'Z'\n",
    "\n",
    "However, while decoding the message, you realize that there are many different ways you can decode the message because some codes are contained in other codes (\"2\" and \"5\" vs \"25\").\n",
    "\n",
    "For example, \"11106\" can be decoded into:\n",
    "\n",
    "\"AAJF\" with the grouping (1, 1, 10, 6)\n",
    "\"KJF\" with the grouping (11, 10, 6)\n",
    "The grouping (1, 11, 06) is invalid because \"06\" is not a valid code (only \"6\" is valid).\n",
    "Note: there may be strings that are impossible to decode.\n",
    "\n",
    "Given a string s containing only digits, return the number of ways to decode it. If the entire string cannot be decoded in any valid way, return 0.\n",
    "\n",
    "The test cases are generated so that the answer fits in a 32-bit integer.\n",
    "\n",
    "**Example 1**\n",
    "\n",
    "Input: s = \"12\"\n",
    "\n",
    "Output: 2\n",
    "\n",
    "Explanation:\n",
    "\n",
    "\"12\" could be decoded as \"AB\" (1 2) or \"L\" (12).\n",
    "\n",
    "**Example 2**\n",
    "\n",
    "Input: s = \"226\"\n",
    "\n",
    "Output: 3\n",
    "\n",
    "Explanation:\n",
    "\n",
    "\"226\" could be decoded as \"BZ\" (2 26), \"VF\" (22 6), or \"BBF\" (2 2 6).\n",
    "\n",
    "**Example 3**\n",
    "\n",
    "Input: s = \"06\"\n",
    "\n",
    "Output: 0\n",
    "\n",
    "Explanation:\n",
    "\n",
    "\"06\" cannot be mapped to \"F\" because of the leading zero (\"6\" is different from \"06\"). In this case, the string is not a valid encoding, so return 0."
   ]
  },
  {
   "cell_type": "markdown",
   "id": "32410990-84c2-4bbe-a36f-4fea9b131882",
   "metadata": {},
   "source": [
    "First, I want to try solving the problem with backtracking. "
   ]
  },
  {
   "cell_type": "code",
   "execution_count": 8,
   "id": "3301ff05-1b29-4137-b011-c295cbd71180",
   "metadata": {},
   "outputs": [
    {
     "data": {
      "text/plain": [
       "0"
      ]
     },
     "execution_count": 8,
     "metadata": {},
     "output_type": "execute_result"
    }
   ],
   "source": [
    "class Solution:\n",
    "    def numDecodings(self, s: str) -> int:\n",
    "        def backtrack(i):\n",
    "            if i == len(s):\n",
    "                return 1\n",
    "            if s[i] == '0':\n",
    "                return 0\n",
    "\n",
    "            ways = backtrack(i + 1)\n",
    "            if i + 1 < len(s) and 10 <= int(s[i:i+2]) <= 26:\n",
    "                ways += backtrack(i + 2)\n",
    "\n",
    "            return ways\n",
    "\n",
    "        return backtrack(0)\n",
    "\n",
    "s = Solution()\n",
    "string = '06'\n",
    "s.numDecodings(string)"
   ]
  },
  {
   "cell_type": "markdown",
   "id": "e4d749b9-d44a-465a-82ab-d5f8ec8e3dad",
   "metadata": {},
   "source": [
    "Backtracking was too slow for this question, so I will have to try solving it with dynamic programming."
   ]
  },
  {
   "cell_type": "code",
   "execution_count": 24,
   "id": "495d7251-50e4-4c6d-af2c-d3b6af167619",
   "metadata": {},
   "outputs": [
    {
     "data": {
      "text/plain": [
       "0"
      ]
     },
     "execution_count": 24,
     "metadata": {},
     "output_type": "execute_result"
    }
   ],
   "source": [
    "class Solution:\n",
    "    def numDecodings(self, s: str) -> int:\n",
    "        dp = [0] * (len(s) + 1)\n",
    "        dp[len(s)] = 1\n",
    "        \n",
    "        for i in range(len(s)-1, -1, -1):\n",
    "            if s[i] != \"0\":  \n",
    "                dp[i] += dp[i+1]\n",
    "            if i+1 < len(s) and 10 <= int(s[i:i+2]) <= 26:\n",
    "                dp[i] += dp[i+2]\n",
    "                \n",
    "        return dp[0]\n",
    "\n",
    "s = Solution()\n",
    "string = '06'\n",
    "s.numDecodings(string)"
   ]
  },
  {
   "cell_type": "code",
   "execution_count": null,
   "id": "db2feaf6-1b37-4e7e-b419-30a80bf63125",
   "metadata": {},
   "outputs": [],
   "source": []
  }
 ],
 "metadata": {
  "kernelspec": {
   "display_name": "Python 3 (ipykernel)",
   "language": "python",
   "name": "python3"
  },
  "language_info": {
   "codemirror_mode": {
    "name": "ipython",
    "version": 3
   },
   "file_extension": ".py",
   "mimetype": "text/x-python",
   "name": "python",
   "nbconvert_exporter": "python",
   "pygments_lexer": "ipython3",
   "version": "3.13.6"
  }
 },
 "nbformat": 4,
 "nbformat_minor": 5
}
