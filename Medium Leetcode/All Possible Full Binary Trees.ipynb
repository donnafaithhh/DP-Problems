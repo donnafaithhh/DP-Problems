{
 "cells": [
  {
   "cell_type": "markdown",
   "id": "b3d47ba3-58c3-4100-8c4b-c4792c38f493",
   "metadata": {},
   "source": [
    "This notebook was created by Donna Faith Go."
   ]
  },
  {
   "cell_type": "markdown",
   "id": "ecedef1e-e997-48e0-99f2-f19fd88496c7",
   "metadata": {},
   "source": [
    "## Imports"
   ]
  },
  {
   "cell_type": "code",
   "execution_count": 1,
   "id": "97963d34-988a-4579-bb29-2e03221cb7cf",
   "metadata": {},
   "outputs": [],
   "source": [
    "from typing import List, Optional\n",
    "import math\n",
    "from collections import deque"
   ]
  },
  {
   "cell_type": "markdown",
   "id": "e34883c6-287d-475a-92ea-59a8e8ecad88",
   "metadata": {},
   "source": [
    "### All Possible Full Binary Trees\n",
    "Input: 7\n",
    "\n",
    "Output: [[0,0,0,null,null,0,0,null,null,0,0],[0,0,0,null,null,0,0,0,0],[0,0,0,0,0,0,0],[0,0,0,0,0,null,null,null,null,0,0],[0,0,0,0,0,null,null,0,0]]\n"
   ]
  },
  {
   "cell_type": "code",
   "execution_count": 12,
   "id": "0d9b85bc-da57-4f1a-8053-9d0a20fd226a",
   "metadata": {},
   "outputs": [],
   "source": [
    "# class Solution:\n",
    "#     def allPossibleFBT(self, n: int) -> List[List[Optional[int]]]:\n",
    "#         memo = {3: [[0, 0, 0]]}\n",
    "#         i_prev = 1\n",
    "#         possible_combinations = []\n",
    "        \n",
    "#         def add_nodes(n):\n",
    "#             for i in range(1, n+1):\n",
    "#                 if i % 2 != 0 and i > 1:\n",
    "#                     if i in memo:\n",
    "#                         return memo[i]\n",
    "#                     else: \n",
    "                        \n",
    "        \n",
    "#         return add_nodes(n)\n",
    "\n",
    "# s = Solution()\n",
    "# print(s.allPossibleFBT(3))"
   ]
  },
  {
   "cell_type": "code",
   "execution_count": 13,
   "id": "7dd22722-b6a6-464c-ab0d-3792ffa9909c",
   "metadata": {
    "scrolled": true
   },
   "outputs": [
    {
     "data": {
      "text/plain": [
       "[<__main__.TreeNode at 0x2273c342ad0>]"
      ]
     },
     "execution_count": 13,
     "metadata": {},
     "output_type": "execute_result"
    }
   ],
   "source": [
    "class TreeNode:\n",
    "    def __init__(self, val=0, left=None, right=None):\n",
    "        self.val = val\n",
    "        self.left = left\n",
    "        self.right = right\n",
    "\n",
    "class Solution:\n",
    "    def allPossibleFBT(self, n: int) -> List[List[Optional[int]]]:\n",
    "        if n % 2 == 0:\n",
    "            return []\n",
    "        \n",
    "        memo = {}\n",
    "\n",
    "        def generateFBT(n):\n",
    "            if n == 1:\n",
    "                return [TreeNode(0)]\n",
    "            if n in memo:\n",
    "                return memo [n]\n",
    "\n",
    "            trees = []\n",
    "            for left in range(1, n, 2):\n",
    "                left_subtrees = generateFBT(left)\n",
    "                right_subtrees = generateFBT(n - left - 1)\n",
    "\n",
    "                for l in left_subtrees:\n",
    "                    for r in right_subtrees:\n",
    "                        root = TreeNode(0, l, r)\n",
    "                        trees.append(root)\n",
    "            memo[n] = trees\n",
    "            return trees\n",
    "        \n",
    "        return generateFBT(n)\n",
    "\n",
    "s = Solution()\n",
    "s.allPossibleFBT(3)"
   ]
  }
 ],
 "metadata": {
  "kernelspec": {
   "display_name": "Python 3 (ipykernel)",
   "language": "python",
   "name": "python3"
  },
  "language_info": {
   "codemirror_mode": {
    "name": "ipython",
    "version": 3
   },
   "file_extension": ".py",
   "mimetype": "text/x-python",
   "name": "python",
   "nbconvert_exporter": "python",
   "pygments_lexer": "ipython3",
   "version": "3.13.6"
  }
 },
 "nbformat": 4,
 "nbformat_minor": 5
}
