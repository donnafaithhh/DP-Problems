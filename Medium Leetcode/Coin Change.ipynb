{
 "cells": [
  {
   "cell_type": "markdown",
   "id": "b3d47ba3-58c3-4100-8c4b-c4792c38f493",
   "metadata": {},
   "source": [
    "This notebook was created by Donna Faith Go."
   ]
  },
  {
   "cell_type": "markdown",
   "id": "ecedef1e-e997-48e0-99f2-f19fd88496c7",
   "metadata": {},
   "source": [
    "## Imports"
   ]
  },
  {
   "cell_type": "code",
   "execution_count": 2,
   "id": "97963d34-988a-4579-bb29-2e03221cb7cf",
   "metadata": {},
   "outputs": [],
   "source": [
    "from typing import List, Optional\n",
    "import math\n",
    "from collections import deque"
   ]
  },
  {
   "cell_type": "markdown",
   "id": "52f82248-596e-4ecb-b88e-153cdd420ca5",
   "metadata": {},
   "source": [
    "### Coin Change\n",
    "\n",
    "**Description**\n",
    "\n",
    "You are given an integer array coins representing coins of different denominations and an integer amount representing a total amount of money.\n",
    "\n",
    "Return the fewest number of coins that you need to make up that amount. If that amount of money cannot be made up by any combination of the coins, return -1.\n",
    "\n",
    "You may assume that you have an infinite number of each kind of coin.\n",
    "\n",
    "**Example 1**\n",
    "\n",
    "Input: coins = [1,2,5], amount = 11\n",
    "\n",
    "Output: 3\n",
    "\n",
    "Explanation: 11 = 5 + 5 + 1\n",
    "\n",
    "**Example 2**\n",
    "\n",
    "Input: coins = [2], amount = 3\n",
    "\n",
    "Output: -1\n",
    "\n",
    "**Example 3**\n",
    "\n",
    "Input: coins = [1], amount = 0\n",
    "\n",
    "Output: 0"
   ]
  },
  {
   "cell_type": "code",
   "execution_count": 12,
   "id": "2f8ddbb2-972c-458b-8634-5ea03189030e",
   "metadata": {},
   "outputs": [
    {
     "data": {
      "text/plain": [
       "3"
      ]
     },
     "execution_count": 12,
     "metadata": {},
     "output_type": "execute_result"
    }
   ],
   "source": [
    "class Solution:\n",
    "    def coinChange(self, coins: List[int], amount: int) -> int:\n",
    "        min_coins = 0\n",
    "        coins.sort(key=lambda x: -x)\n",
    "        \n",
    "        for coin in coins:\n",
    "            while amount >= coin:\n",
    "                min_coins += 1\n",
    "                amount -= coin\n",
    "            \n",
    "        return min_coins if amount == 0 else -1\n",
    "\n",
    "s = Solution()\n",
    "coins = [1,2,5]\n",
    "s.coinChange(coins, 11)"
   ]
  },
  {
   "cell_type": "markdown",
   "id": "85a62a58-3e20-4f7f-bf8d-d4fa492a54b2",
   "metadata": {},
   "source": [
    "Here, I realized that my solution does not work for all cases. \n",
    "\n",
    "Example: [1, 3, 4]\n",
    "- Here, the optimal value should be 2 because 3+3, but my output will give 3 because it is conditioned to give 4 + 1 + 1. "
   ]
  },
  {
   "cell_type": "code",
   "execution_count": 13,
   "id": "b0df4ebd-07a9-45ee-81f7-970345eff715",
   "metadata": {},
   "outputs": [
    {
     "data": {
      "text/plain": [
       "3"
      ]
     },
     "execution_count": 13,
     "metadata": {},
     "output_type": "execute_result"
    }
   ],
   "source": [
    "class Solution:\n",
    "    def coinChange(self, coins: List[int], amount: int) -> int:\n",
    "        dp = [amount + 1] * (amount + 1)\n",
    "        dp[0] = 0\n",
    "\n",
    "        for a in range(1, amount + 1):\n",
    "            for c in coins:\n",
    "                if a - c >= 0:\n",
    "                    dp[a] = min(dp[a], 1 + dp[a-c])\n",
    "            \n",
    "        return dp[amount] if dp[amount] != amount + 1 else -1\n",
    "\n",
    "s = Solution()\n",
    "coins = [1,2,5]\n",
    "s.coinChange(coins, 11)"
   ]
  },
  {
   "cell_type": "code",
   "execution_count": null,
   "id": "e7ad2548-118c-4136-9716-c9aa45e72f9e",
   "metadata": {},
   "outputs": [],
   "source": []
  }
 ],
 "metadata": {
  "kernelspec": {
   "display_name": "Python 3 (ipykernel)",
   "language": "python",
   "name": "python3"
  },
  "language_info": {
   "codemirror_mode": {
    "name": "ipython",
    "version": 3
   },
   "file_extension": ".py",
   "mimetype": "text/x-python",
   "name": "python",
   "nbconvert_exporter": "python",
   "pygments_lexer": "ipython3",
   "version": "3.13.6"
  }
 },
 "nbformat": 4,
 "nbformat_minor": 5
}
