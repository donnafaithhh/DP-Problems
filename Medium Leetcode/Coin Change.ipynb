{
 "cells": [
  {
   "cell_type": "markdown",
   "id": "b3d47ba3-58c3-4100-8c4b-c4792c38f493",
   "metadata": {},
   "source": [
    "This notebook was created by Donna Faith Go."
   ]
  },
  {
   "cell_type": "markdown",
   "id": "ecedef1e-e997-48e0-99f2-f19fd88496c7",
   "metadata": {},
   "source": [
    "## Imports"
   ]
  },
  {
   "cell_type": "code",
   "execution_count": 3,
   "id": "97963d34-988a-4579-bb29-2e03221cb7cf",
   "metadata": {},
   "outputs": [],
   "source": [
    "from typing import List, Optional\n",
    "import math\n",
    "from collections import deque"
   ]
  },
  {
   "cell_type": "markdown",
   "id": "52f82248-596e-4ecb-b88e-153cdd420ca5",
   "metadata": {},
   "source": [
    "### Coin Change\n",
    "\n",
    "**Description**\n",
    "\n",
    "You are given an integer array coins representing coins of different denominations and an integer amount representing a total amount of money.\n",
    "\n",
    "Return the fewest number of coins that you need to make up that amount. If that amount of money cannot be made up by any combination of the coins, return -1.\n",
    "\n",
    "You may assume that you have an infinite number of each kind of coin.\n",
    "\n",
    "**Example 1**\n",
    "\n",
    "Input: coins = [1,2,5], amount = 11\n",
    "\n",
    "Output: 3\n",
    "\n",
    "Explanation: 11 = 5 + 5 + 1\n",
    "\n",
    "**Example 2**\n",
    "\n",
    "Input: coins = [2], amount = 3\n",
    "\n",
    "Output: -1\n",
    "\n",
    "**Example 3**\n",
    "\n",
    "Input: coins = [1], amount = 0\n",
    "\n",
    "Output: 0"
   ]
  },
  {
   "cell_type": "markdown",
   "id": "85a62a58-3e20-4f7f-bf8d-d4fa492a54b2",
   "metadata": {},
   "source": [
    "Here, I realized that the best way is to use dynamic programming. \n",
    "\n",
    "Given a list, [a, b, c], \n",
    "the DP State is the maximum number between a+c or b."
   ]
  },
  {
   "cell_type": "code",
   "execution_count": 31,
   "id": "2f8ddbb2-972c-458b-8634-5ea03189030e",
   "metadata": {},
   "outputs": [
    {
     "name": "stdout",
     "output_type": "stream",
     "text": [
      "[2, 2, 3, 0]\n",
      "[2, 2, 3, 4]\n"
     ]
    },
    {
     "data": {
      "text/plain": [
       "4"
      ]
     },
     "execution_count": 31,
     "metadata": {},
     "output_type": "execute_result"
    }
   ],
   "source": [
    "class Solution:\n",
    "    def rob(self, nums: List[int]) -> int:\n",
    "        dp = [0] * len(nums)\n",
    "        if len(nums) == 0:\n",
    "            return 0\n",
    "        if len(nums) == 1:\n",
    "            return nums[0]\n",
    "        if len(nums) == 2:\n",
    "            return max(nums[0], nums[1])\n",
    "\n",
    "        dp[0] = nums[0]\n",
    "        dp[1] = max(nums[0], nums[1])\n",
    "\n",
    "        for i in range(2, len(nums)):\n",
    "            dp[i] = max(dp[i-1], nums[i] + dp[i-2])\n",
    "            \n",
    "        return dp[-1]\n",
    "\n",
    "s = Solution()\n",
    "nums = [2, 1, 1, 2]\n",
    "s.rob(nums)"
   ]
  },
  {
   "cell_type": "code",
   "execution_count": null,
   "id": "b0df4ebd-07a9-45ee-81f7-970345eff715",
   "metadata": {},
   "outputs": [],
   "source": []
  }
 ],
 "metadata": {
  "kernelspec": {
   "display_name": "Python 3 (ipykernel)",
   "language": "python",
   "name": "python3"
  },
  "language_info": {
   "codemirror_mode": {
    "name": "ipython",
    "version": 3
   },
   "file_extension": ".py",
   "mimetype": "text/x-python",
   "name": "python",
   "nbconvert_exporter": "python",
   "pygments_lexer": "ipython3",
   "version": "3.13.6"
  }
 },
 "nbformat": 4,
 "nbformat_minor": 5
}
