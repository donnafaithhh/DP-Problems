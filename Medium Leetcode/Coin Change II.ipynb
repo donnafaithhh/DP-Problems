{
 "cells": [
  {
   "cell_type": "markdown",
   "id": "b3d47ba3-58c3-4100-8c4b-c4792c38f493",
   "metadata": {},
   "source": [
    "This notebook was created by Donna Faith Go."
   ]
  },
  {
   "cell_type": "markdown",
   "id": "ecedef1e-e997-48e0-99f2-f19fd88496c7",
   "metadata": {},
   "source": [
    "## Imports"
   ]
  },
  {
   "cell_type": "code",
   "execution_count": 2,
   "id": "97963d34-988a-4579-bb29-2e03221cb7cf",
   "metadata": {},
   "outputs": [],
   "source": [
    "from typing import List, Optional\n",
    "import math\n",
    "from collections import deque"
   ]
  },
  {
   "cell_type": "markdown",
   "id": "52f82248-596e-4ecb-b88e-153cdd420ca5",
   "metadata": {},
   "source": [
    "### Coin Change II\n",
    "\n",
    "**Description**\n",
    "\n",
    "You are given an integer array coins representing coins of different denominations and an integer amount representing a total amount of money.\n",
    "\n",
    "Return the number of combinations that make up that amount. If that amount of money cannot be made up by any combination of the coins, return 0.\n",
    "\n",
    "You may assume that you have an infinite number of each kind of coin.\n",
    "\n",
    "The answer is guaranteed to fit into a signed 32-bit integer.\n",
    "\n",
    "**Example 1**\n",
    "\n",
    "Input: amount = 5, coins = [1,2,5]\n",
    "\n",
    "Output: 4\n",
    "\n",
    "Explanation: there are four ways to make up the amount:\n",
    "\n",
    "5=5\n",
    "\n",
    "5=2+2+1\n",
    "\n",
    "5=2+1+1+1\n",
    "\n",
    "5=1+1+1+1+1\n",
    "\n",
    "**Example 2**\n",
    "\n",
    "Input: amount = 3, coins = [2]\n",
    "\n",
    "Output: 0\n",
    "\n",
    "Explanation: the amount of 3 cannot be made up just with coins of 2.\n",
    "\n",
    "**Example 3**\n",
    "\n",
    "Input: amount = 10, coins = [10]\n",
    "\n",
    "Output: 1"
   ]
  },
  {
   "cell_type": "code",
   "execution_count": 3,
   "id": "e7ad2548-118c-4136-9716-c9aa45e72f9e",
   "metadata": {},
   "outputs": [
    {
     "data": {
      "text/plain": [
       "4"
      ]
     },
     "execution_count": 3,
     "metadata": {},
     "output_type": "execute_result"
    }
   ],
   "source": [
    "class Solution:\n",
    "    def change(self, amount: int, coins: List[int]) -> int:\n",
    "        memo = {}\n",
    "\n",
    "        def combos(i, a):\n",
    "            if a == amount:\n",
    "                return 1\n",
    "            if a > amount:\n",
    "                return 0\n",
    "            if i == len(coins):\n",
    "                return 0\n",
    "            if (i, a) in memo:\n",
    "                return memo[(i, a)]\n",
    "\n",
    "            memo[(i, a)] = combos(i, a + coins[i]) + combos(i + 1, a)\n",
    "            return memo[(i, a)]\n",
    "\n",
    "        return combos(0, 0)\n",
    "\n",
    "s = Solution()\n",
    "amount = 5\n",
    "coins = [1,2,5]\n",
    "s.change(amount, coins)"
   ]
  },
  {
   "cell_type": "markdown",
   "id": "a7fc5505-ebf1-40c5-b466-ba0bdca6c08b",
   "metadata": {},
   "source": [
    "This solution works, but the run time or time complexity is very slow.\n",
    "I will have to redo this code."
   ]
  },
  {
   "cell_type": "code",
   "execution_count": 4,
   "id": "23c6aaf9-6e4e-4803-8006-6602942e62e3",
   "metadata": {},
   "outputs": [
    {
     "data": {
      "text/plain": [
       "4"
      ]
     },
     "execution_count": 4,
     "metadata": {},
     "output_type": "execute_result"
    }
   ],
   "source": [
    "class Solution:\n",
    "    def change(self, amount: int, coins: List[int]) -> int:\n",
    "        memo = {}\n",
    "\n",
    "        def combos(i, a):\n",
    "            if a == amount:\n",
    "                return 1\n",
    "            if a > amount:\n",
    "                return 0\n",
    "            if i == len(coins):\n",
    "                return 0\n",
    "            if (i, a) in memo:\n",
    "                return memo[(i, a)]\n",
    "\n",
    "            memo[(i, a)] = combos(i, a + coins[i]) + combos(i + 1, a)\n",
    "            return memo[(i, a)]\n",
    "\n",
    "        return combos(0, 0)\n",
    "\n",
    "s = Solution()\n",
    "amount = 5\n",
    "coins = [1,2,5]\n",
    "s.change(amount, coins)"
   ]
  },
  {
   "cell_type": "markdown",
   "id": "7c1d9b50-2bcc-40e2-b118-10c3b5e2fc35",
   "metadata": {},
   "source": [
    "Here, I tried a new way to do the code."
   ]
  },
  {
   "cell_type": "code",
   "execution_count": null,
   "id": "ed286be8-1074-45af-8514-75b3b020f889",
   "metadata": {},
   "outputs": [],
   "source": []
  }
 ],
 "metadata": {
  "kernelspec": {
   "display_name": "Python 3 (ipykernel)",
   "language": "python",
   "name": "python3"
  },
  "language_info": {
   "codemirror_mode": {
    "name": "ipython",
    "version": 3
   },
   "file_extension": ".py",
   "mimetype": "text/x-python",
   "name": "python",
   "nbconvert_exporter": "python",
   "pygments_lexer": "ipython3",
   "version": "3.13.6"
  }
 },
 "nbformat": 4,
 "nbformat_minor": 5
}
