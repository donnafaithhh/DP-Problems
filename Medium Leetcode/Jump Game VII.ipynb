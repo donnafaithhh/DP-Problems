{
 "cells": [
  {
   "cell_type": "markdown",
   "id": "b3d47ba3-58c3-4100-8c4b-c4792c38f493",
   "metadata": {},
   "source": [
    "This notebook was created by Donna Faith Go."
   ]
  },
  {
   "cell_type": "markdown",
   "id": "ecedef1e-e997-48e0-99f2-f19fd88496c7",
   "metadata": {},
   "source": [
    "## Imports"
   ]
  },
  {
   "cell_type": "code",
   "execution_count": 1,
   "id": "97963d34-988a-4579-bb29-2e03221cb7cf",
   "metadata": {},
   "outputs": [],
   "source": [
    "from typing import List, Optional\n",
    "import math\n",
    "from collections import deque"
   ]
  },
  {
   "cell_type": "markdown",
   "id": "52f82248-596e-4ecb-b88e-153cdd420ca5",
   "metadata": {},
   "source": [
    "### Jump Game VII\n",
    "**Description**\n",
    "\n",
    "You are given a 0-indexed binary string s and two integers minJump and maxJump. In the beginning, you are standing at index 0, which is equal to '0'. You can move from index i to index j if the following conditions are fulfilled:\n",
    "\n",
    "- i + minJump <= j <= min(i + maxJump, s.length - 1), and\n",
    "- s[j] == '0'.\n",
    "\n",
    "Return true if you can reach index s.length - 1 in s, or false otherwise.\n",
    "\n",
    "**Example 1**\n",
    "\n",
    "Input: s = \"011010\", minJump = 2, maxJump = 3\n",
    "\n",
    "Output: true\n",
    "\n",
    "**Example 2**\n",
    "\n",
    "Input: s = \"01101110\", minJump = 2, maxJump = 3\n",
    "\n",
    "Output: false"
   ]
  },
  {
   "cell_type": "code",
   "execution_count": 6,
   "id": "3d857cd1-1d30-446b-8871-ce2529c60af3",
   "metadata": {},
   "outputs": [],
   "source": [
    "class Solution:\n",
    "    def canReach(self, s: str, minJump: int, maxJump: int) -> bool:\n",
    "        \n",
    "            \n",
    "        return\n",
    "\n",
    "s = Solution()\n",
    "minj = 2\n",
    "maxj = 3\n",
    "string = '01101110'\n",
    "s.canReach(string, minj, maxj)"
   ]
  },
  {
   "cell_type": "markdown",
   "id": "d417da82-ca09-4994-b967-9d1ab4b1006b",
   "metadata": {},
   "source": [
    "The solution below is my solution for Jump Game VI.\n",
    "I'm keeping it here for reference because I think the way to solve this problem is through using a similar technique."
   ]
  },
  {
   "cell_type": "code",
   "execution_count": null,
   "id": "28391694-62e5-478c-b1ad-2ad1ff262eea",
   "metadata": {},
   "outputs": [],
   "source": [
    "from collections import deque\n",
    "\n",
    "class Solution:\n",
    "    def maxResult(self, nums: List[int], k: int) -> int:\n",
    "        dp = [0] * len(nums)\n",
    "        dp[0] = nums[0]\n",
    "        dq = deque([0])\n",
    "\n",
    "        for i in range(1, len(nums)):\n",
    "            while dq and dq[0] < i - k:\n",
    "                dq.popleft()\n",
    "                \n",
    "            dp[i] = nums[i] + dp[dq[0]]\n",
    "\n",
    "            while dq and dp[i] >= dp[dq[-1]]:\n",
    "                dq.pop()\n",
    "\n",
    "            dq.append(i)\n",
    "            # print(f\"i={i}, dp={dp}, dq={list(dq)}\")\n",
    "            \n",
    "        return dp[-1]\n",
    "\n",
    "s = Solution()\n",
    "s.maxResult([1, -1, -2, 4, -7, 3], 2)"
   ]
  }
 ],
 "metadata": {
  "kernelspec": {
   "display_name": "Python 3 (ipykernel)",
   "language": "python",
   "name": "python3"
  },
  "language_info": {
   "codemirror_mode": {
    "name": "ipython",
    "version": 3
   },
   "file_extension": ".py",
   "mimetype": "text/x-python",
   "name": "python",
   "nbconvert_exporter": "python",
   "pygments_lexer": "ipython3",
   "version": "3.13.6"
  }
 },
 "nbformat": 4,
 "nbformat_minor": 5
}
