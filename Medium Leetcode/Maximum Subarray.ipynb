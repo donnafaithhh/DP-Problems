{
 "cells": [
  {
   "cell_type": "markdown",
   "id": "b3d47ba3-58c3-4100-8c4b-c4792c38f493",
   "metadata": {},
   "source": [
    "This notebook was created by Donna Faith Go."
   ]
  },
  {
   "cell_type": "markdown",
   "id": "ecedef1e-e997-48e0-99f2-f19fd88496c7",
   "metadata": {},
   "source": [
    "## Imports"
   ]
  },
  {
   "cell_type": "code",
   "execution_count": 1,
   "id": "97963d34-988a-4579-bb29-2e03221cb7cf",
   "metadata": {},
   "outputs": [],
   "source": [
    "from typing import List, Optional\n",
    "import math\n",
    "from collections import deque"
   ]
  },
  {
   "cell_type": "markdown",
   "id": "52f82248-596e-4ecb-b88e-153cdd420ca5",
   "metadata": {},
   "source": [
    "### Decode Ways\n",
    "\n",
    "**Description**\n",
    "\n",
    "Given an integer array nums, find the subarray with the largest sum, and return its sum.\n",
    "\n",
    "**Example 1**\n",
    "\n",
    "Input: nums = [-2,1,-3,4,-1,2,1,-5,4]\n",
    "\n",
    "Output: 6\n",
    "\n",
    "**Example 2**\n",
    "\n",
    "Input: nums = [1]\n",
    "\n",
    "Output: 1\n",
    "\n",
    "**Example 3**\n",
    "\n",
    "Input: nums = [5,4,-1,7,8]\n",
    "\n",
    "Output: 23"
   ]
  },
  {
   "cell_type": "markdown",
   "id": "38d0fa18-7b8a-4db0-9141-5fd47211bc03",
   "metadata": {},
   "source": [
    "This is a bottom-up dynamic programming problem."
   ]
  },
  {
   "cell_type": "code",
   "execution_count": null,
   "id": "93155a5e-ea60-4a61-ba0f-ba5e1c8cef9b",
   "metadata": {},
   "outputs": [],
   "source": [
    "class Solution:\n",
    "    def maxSubArray(self, nums: List[int]) -> int:\n",
    "        dp = [0] * len(nums)\n",
    "        dp[0] = nums[0]\n",
    "\n",
    "        for i in range(1, len(nums)):\n",
    "            dp[i] = max(nums[i], dp[i-1] + nums[i])\n",
    "            print(dp)\n",
    "                    \n",
    "        return max(dp)"
   ]
  },
  {
   "cell_type": "markdown",
   "id": "ea934b05-2c4b-4a08-956f-aa5b1025a038",
   "metadata": {},
   "source": [
    "My initial submission took too long to run. \n",
    "I tried to optimize it by using only two numbers in my dp solution. \n",
    "This solves a lot of space when I try to solve it."
   ]
  },
  {
   "cell_type": "code",
   "execution_count": 8,
   "id": "3301ff05-1b29-4137-b011-c295cbd71180",
   "metadata": {},
   "outputs": [
    {
     "data": {
      "text/plain": [
       "0"
      ]
     },
     "execution_count": 8,
     "metadata": {},
     "output_type": "execute_result"
    }
   ],
   "source": [
    "class Solution:\n",
    "    def maxSubArray(self, nums: List[int]) -> int:\n",
    "        best, curr = nums[0], nums[0]\n",
    "\n",
    "        for i in range(1, len(nums)):\n",
    "            curr = max(nums[i], curr + nums[i])\n",
    "            if curr > best:\n",
    "                best = curr\n",
    "            \n",
    "        return best"
   ]
  },
  {
   "cell_type": "code",
   "execution_count": null,
   "id": "db2feaf6-1b37-4e7e-b419-30a80bf63125",
   "metadata": {},
   "outputs": [],
   "source": []
  }
 ],
 "metadata": {
  "kernelspec": {
   "display_name": "Python 3 (ipykernel)",
   "language": "python",
   "name": "python3"
  },
  "language_info": {
   "codemirror_mode": {
    "name": "ipython",
    "version": 3
   },
   "file_extension": ".py",
   "mimetype": "text/x-python",
   "name": "python",
   "nbconvert_exporter": "python",
   "pygments_lexer": "ipython3",
   "version": "3.13.6"
  }
 },
 "nbformat": 4,
 "nbformat_minor": 5
}
