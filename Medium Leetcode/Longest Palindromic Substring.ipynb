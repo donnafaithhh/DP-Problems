{
 "cells": [
  {
   "cell_type": "markdown",
   "id": "b3d47ba3-58c3-4100-8c4b-c4792c38f493",
   "metadata": {},
   "source": [
    "This notebook was created by Donna Faith Go."
   ]
  },
  {
   "cell_type": "markdown",
   "id": "ecedef1e-e997-48e0-99f2-f19fd88496c7",
   "metadata": {},
   "source": [
    "## Imports"
   ]
  },
  {
   "cell_type": "code",
   "execution_count": 1,
   "id": "97963d34-988a-4579-bb29-2e03221cb7cf",
   "metadata": {},
   "outputs": [],
   "source": [
    "from typing import List, Optional\n",
    "import math\n",
    "from collections import deque"
   ]
  },
  {
   "cell_type": "markdown",
   "id": "52f82248-596e-4ecb-b88e-153cdd420ca5",
   "metadata": {},
   "source": [
    "### Longest Palindromic Substring\n",
    "\n",
    "**Description**\n",
    "\n",
    "Given a string s, return the longest palindromic substring in s.\n",
    "\n",
    "**Example 1**\n",
    "\n",
    "Input: s = \"babad\"\n",
    "\n",
    "Output: \"bab\""
   ]
  },
  {
   "cell_type": "code",
   "execution_count": 12,
   "id": "db2feaf6-1b37-4e7e-b419-30a80bf63125",
   "metadata": {},
   "outputs": [
    {
     "data": {
      "text/plain": [
       "'abccba'"
      ]
     },
     "execution_count": 12,
     "metadata": {},
     "output_type": "execute_result"
    }
   ],
   "source": [
    "class Solution:\n",
    "    def longestPalindrome(self, s: str) -> str:\n",
    "        len_ss = 0\n",
    "        long_ss = ''\n",
    "        \n",
    "        for i in range(len(s)):\n",
    "            # checking odd\n",
    "            l, r = i, i\n",
    "            while l >= 0 and r < len(s) and s[l] == s[r]:\n",
    "                if (r - l + 1) > len_ss:\n",
    "                    long_ss = s[l:r+1]\n",
    "                    len_ss = r - l + 1\n",
    "                r += 1\n",
    "                l -= 1\n",
    "                \n",
    "            # checking even\n",
    "            l, r = i, i + 1\n",
    "            while l >= 0 and r < len(s) and s[l] == s[r]:\n",
    "                if (r - l + 1) > len_ss:\n",
    "                    long_ss = s[l:r+1]\n",
    "                    len_ss = r - l + 1\n",
    "                r += 1\n",
    "                l -= 1\n",
    "\n",
    "        return long_ss\n",
    "                \n",
    "s = Solution()\n",
    "string = 'abccba'\n",
    "s.longestPalindrome(string)"
   ]
  },
  {
   "cell_type": "code",
   "execution_count": null,
   "id": "b0df4ebd-07a9-45ee-81f7-970345eff715",
   "metadata": {},
   "outputs": [],
   "source": []
  }
 ],
 "metadata": {
  "kernelspec": {
   "display_name": "Python 3 (ipykernel)",
   "language": "python",
   "name": "python3"
  },
  "language_info": {
   "codemirror_mode": {
    "name": "ipython",
    "version": 3
   },
   "file_extension": ".py",
   "mimetype": "text/x-python",
   "name": "python",
   "nbconvert_exporter": "python",
   "pygments_lexer": "ipython3",
   "version": "3.13.6"
  }
 },
 "nbformat": 4,
 "nbformat_minor": 5
}
