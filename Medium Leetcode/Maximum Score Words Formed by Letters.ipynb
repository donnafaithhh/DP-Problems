{
 "cells": [
  {
   "cell_type": "markdown",
   "id": "b3d47ba3-58c3-4100-8c4b-c4792c38f493",
   "metadata": {},
   "source": [
    "This notebook was created by Donna Faith Go."
   ]
  },
  {
   "cell_type": "markdown",
   "id": "ecedef1e-e997-48e0-99f2-f19fd88496c7",
   "metadata": {},
   "source": [
    "## Imports"
   ]
  },
  {
   "cell_type": "code",
   "execution_count": 1,
   "id": "97963d34-988a-4579-bb29-2e03221cb7cf",
   "metadata": {},
   "outputs": [],
   "source": [
    "from typing import List, Optional\n",
    "import math\n",
    "from collections import deque"
   ]
  },
  {
   "cell_type": "markdown",
   "id": "52f82248-596e-4ecb-b88e-153cdd420ca5",
   "metadata": {},
   "source": [
    "### Maximum Score Words Formed by Letters\n",
    "**Description**\n",
    "\n",
    "Given a list of words, list of  single letters (might be repeating) and score of every character.\n",
    "\n",
    "Return the maximum score of any valid set of words formed by using the given letters (words[i] cannot be used two or more times).\n",
    "\n",
    "It is not necessary to use all characters in letters and each letter can only be used once. Score of letters 'a', 'b', 'c', ... ,'z' is given by score[0], score[1], ... , score[25] respectively.\n",
    "\n",
    "**Example 1**\n",
    "\n",
    "Input: words = [\"dog\",\"cat\",\"dad\",\"good\"], letters = [\"a\",\"a\",\"c\",\"d\",\"d\",\"d\",\"g\",\"o\",\"o\"], score = [1,0,9,5,0,0,3,0,0,0,0,0,0,0,2,0,0,0,0,0,0,0,0,0,0,0]\n",
    "\n",
    "Output: 23\n",
    "\n",
    "Explanation:\n",
    "\n",
    "Score  a=1, c=9, d=5, g=3, o=2\n",
    "\n",
    "Given letters, we can form the words \"dad\" (5+1+5) and \"good\" (3+2+2+5) with a score of 23.\n",
    "\n",
    "Words \"dad\" and \"dog\" only get a score of 21.\n",
    "\n",
    "**Example 2**\n",
    "\n",
    "Input: words = [\"xxxz\",\"ax\",\"bx\",\"cx\"], letters = [\"z\",\"a\",\"b\",\"c\",\"x\",\"x\",\"x\"], score = [4,4,4,0,0,0,0,0,0,0,0,0,0,0,0,0,0,0,0,0,0,0,0,5,0,10]\n",
    "\n",
    "Output: 27\n",
    "\n",
    "**Example 3**\n",
    "\n",
    "Input: words = [\"leetcode\"], letters = [\"l\",\"e\",\"t\",\"c\",\"o\",\"d\"], score = [0,0,1,1,1,0,0,0,0,0,0,1,0,0,1,0,0,0,0,1,0,0,0,0,0,0]\n",
    "\n",
    "Output: 0"
   ]
  },
  {
   "cell_type": "markdown",
   "id": "1801e2ad-c5f5-4de7-a46c-14651348b619",
   "metadata": {},
   "source": [
    "Upon understanding the problem, I see that the `score` list pertains to the score per letter in the alphabet."
   ]
  },
  {
   "cell_type": "code",
   "execution_count": 2,
   "id": "4d2f238b-a587-4212-931f-d7f6f338c3be",
   "metadata": {},
   "outputs": [
    {
     "data": {
      "text/plain": [
       "26"
      ]
     },
     "execution_count": 2,
     "metadata": {},
     "output_type": "execute_result"
    }
   ],
   "source": [
    "score = [4,4,4,0,0,0,0,0,0,0,0,0,0,0,0,0,0,0,0,0,0,0,0,5,0,10]\n",
    "len(score)"
   ]
  },
  {
   "cell_type": "code",
   "execution_count": 10,
   "id": "42464cb3-759a-4687-8aa7-a6c413c54c1b",
   "metadata": {
    "scrolled": true
   },
   "outputs": [
    {
     "name": "stdout",
     "output_type": "stream",
     "text": [
      "['dog', 'dad', 'good']\n"
     ]
    },
    {
     "data": {
      "text/plain": [
       "0"
      ]
     },
     "execution_count": 10,
     "metadata": {},
     "output_type": "execute_result"
    }
   ],
   "source": [
    "class Solution:\n",
    "    def maxScoreWords(self, words: List[str], letters: List[str], score: List[int]) -> int:\n",
    "        output = 0\n",
    "\n",
    "        # this is for removing invalid words\n",
    "        for word in words[:]:\n",
    "            temp = []\n",
    "            for letter in list(word):\n",
    "                temp.append(letter)\n",
    "            \n",
    "            if any(letter not in letters for letter in temp):\n",
    "                words.remove(word)\n",
    "\n",
    "        # this is for removing\n",
    "        \n",
    "        return output\n",
    "s = Solution()\n",
    "w = [\"dog\",\"cat\",\"dad\",\"good\"]\n",
    "l = [\"a\",\"a\",\"c\",\"d\",\"d\",\"d\",\"g\",\"o\",\"o\"]\n",
    "ss = [1,0,9,5,0,0,3,0,0,0,0,0,0,0,2,0,0,0,0,0,0,0,0,0,0,0]\n",
    "s.maxScoreWords(w, l, ss)"
   ]
  },
  {
   "cell_type": "code",
   "execution_count": null,
   "id": "59042f19-397e-4fb6-90be-a79c67bbdb60",
   "metadata": {},
   "outputs": [],
   "source": []
  }
 ],
 "metadata": {
  "kernelspec": {
   "display_name": "Python 3 (ipykernel)",
   "language": "python",
   "name": "python3"
  },
  "language_info": {
   "codemirror_mode": {
    "name": "ipython",
    "version": 3
   },
   "file_extension": ".py",
   "mimetype": "text/x-python",
   "name": "python",
   "nbconvert_exporter": "python",
   "pygments_lexer": "ipython3",
   "version": "3.13.6"
  }
 },
 "nbformat": 4,
 "nbformat_minor": 5
}
