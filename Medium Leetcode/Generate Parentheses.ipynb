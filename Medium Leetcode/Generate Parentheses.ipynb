{
 "cells": [
  {
   "cell_type": "markdown",
   "id": "b3d47ba3-58c3-4100-8c4b-c4792c38f493",
   "metadata": {},
   "source": [
    "This notebook was created by Donna Faith Go."
   ]
  },
  {
   "cell_type": "markdown",
   "id": "ecedef1e-e997-48e0-99f2-f19fd88496c7",
   "metadata": {},
   "source": [
    "## Imports"
   ]
  },
  {
   "cell_type": "code",
   "execution_count": 1,
   "id": "97963d34-988a-4579-bb29-2e03221cb7cf",
   "metadata": {},
   "outputs": [],
   "source": [
    "from typing import List, Optional\n",
    "import math\n",
    "from collections import deque"
   ]
  },
  {
   "cell_type": "markdown",
   "id": "b758b9e3-f32a-4221-b904-3d928b9944af",
   "metadata": {},
   "source": [
    "### Generate Parentheses\n",
    "Input: n = 3\n",
    "\n",
    "Output: [\"((()))\",\"(()())\",\"(())()\",\"()(())\",\"()()()\"]"
   ]
  },
  {
   "cell_type": "code",
   "execution_count": 4,
   "id": "d1195419-c670-4ffc-a96a-59a7ac4f7f50",
   "metadata": {},
   "outputs": [],
   "source": [
    "# class Solution:\n",
    "#     def countVowelStrings(self, n: int) -> int:\n",
    "#         vowels = ['a', 'e', 'i', 'o', 'u']\n",
    "#         self.count = 0\n",
    "\n",
    "#         def backtrack(start, path):\n",
    "#             if len(path) == n:\n",
    "#                 self.count += 1\n",
    "#                 return\n",
    "#             for i in range(start, len(vowels)):\n",
    "#                 backtrack(i, path + [vowels[i]])\n",
    "\n",
    "#         backtrack(0, [])\n",
    "#         return self.count\n",
    "\n",
    "# s = Solution()\n",
    "# s.countVowelStrings(2)"
   ]
  },
  {
   "cell_type": "code",
   "execution_count": 5,
   "id": "f39a2069-a470-4ba9-9363-94f5417713a5",
   "metadata": {},
   "outputs": [
    {
     "data": {
      "text/plain": [
       "['((()))', '(()())', '(())()', '()(())', '()()()']"
      ]
     },
     "execution_count": 5,
     "metadata": {},
     "output_type": "execute_result"
    }
   ],
   "source": [
    "class Solution:\n",
    "    def generateParenthesis(self, n: int) -> List[str]:\n",
    "        all_list = []\n",
    "\n",
    "        def backtrack(current, p_open, p_close):\n",
    "            if len(current) == n * 2:\n",
    "                all_list.append(current)\n",
    "                return \n",
    "            \n",
    "            if p_open < n:\n",
    "                backtrack(current + '(', p_open + 1, p_close)\n",
    "            if p_close < p_open:\n",
    "                backtrack(current + ')', p_open, p_close + 1)\n",
    "\n",
    "        backtrack('', 0, 0)\n",
    "        return all_list\n",
    "\n",
    "s = Solution()\n",
    "s.generateParenthesis(3)"
   ]
  }
 ],
 "metadata": {
  "kernelspec": {
   "display_name": "Python 3 (ipykernel)",
   "language": "python",
   "name": "python3"
  },
  "language_info": {
   "codemirror_mode": {
    "name": "ipython",
    "version": 3
   },
   "file_extension": ".py",
   "mimetype": "text/x-python",
   "name": "python",
   "nbconvert_exporter": "python",
   "pygments_lexer": "ipython3",
   "version": "3.13.6"
  }
 },
 "nbformat": 4,
 "nbformat_minor": 5
}
