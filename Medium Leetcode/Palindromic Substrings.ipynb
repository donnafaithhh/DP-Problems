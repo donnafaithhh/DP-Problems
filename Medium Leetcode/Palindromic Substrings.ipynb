{
 "cells": [
  {
   "cell_type": "markdown",
   "id": "b3d47ba3-58c3-4100-8c4b-c4792c38f493",
   "metadata": {},
   "source": [
    "This notebook was created by Donna Faith Go."
   ]
  },
  {
   "cell_type": "markdown",
   "id": "ecedef1e-e997-48e0-99f2-f19fd88496c7",
   "metadata": {},
   "source": [
    "## Imports"
   ]
  },
  {
   "cell_type": "code",
   "execution_count": 1,
   "id": "97963d34-988a-4579-bb29-2e03221cb7cf",
   "metadata": {},
   "outputs": [],
   "source": [
    "from typing import List, Optional\n",
    "import math\n",
    "from collections import deque"
   ]
  },
  {
   "cell_type": "markdown",
   "id": "52f82248-596e-4ecb-b88e-153cdd420ca5",
   "metadata": {},
   "source": [
    "### Palindromic Substrings\n",
    "\n",
    "**Description**\n",
    "\n",
    "Given a string s, return the number of palindromic substrings in it.\n",
    "\n",
    "A string is a palindrome when it reads the same backward as forward.\n",
    "\n",
    "A substring is a contiguous sequence of characters within the string.\n",
    "\n",
    "**Example 1**\n",
    "\n",
    "Input: s = \"abc\"\n",
    "\n",
    "Output: 3\n",
    "\n",
    "Explanation: Three palindromic strings: \"a\", \"b\", \"c\".\n",
    "\n",
    "**Example 2**\n",
    "\n",
    "Input: s = \"aaa\"\n",
    "\n",
    "Output: 6\n",
    "\n",
    "Explanation: Six palindromic strings: \"a\", \"a\", \"a\", \"aa\", \"aa\", \"aaa\"."
   ]
  },
  {
   "cell_type": "code",
   "execution_count": null,
   "id": "7e674149-f013-4513-8b1a-943b4da5bfa9",
   "metadata": {},
   "outputs": [],
   "source": [
    "class Solution:\n",
    "    def countSubstrings(self, s: str) -> int:\n",
    "        substrings = list(s)\n",
    "\n",
    "        for i in range(len(s)):\n",
    "            # checking odd\n",
    "            l, r = i, i\n",
    "            while l >= 0 and r < len(s) and s[l] == s[r]:\n",
    "                string = s[l:r+1]\n",
    "                if len(string) > 1:\n",
    "                    substrings.append(s[l:r+1])\n",
    "                r += 1\n",
    "                l -= 1\n",
    "            \n",
    "            # checking even\n",
    "            l, r = i, i + 1\n",
    "            while l >= 0 and r < len(s) and s[l] == s[r]:\n",
    "                string = s[l:r+1]\n",
    "                if len(string) > 1:\n",
    "                    substrings.append(s[l:r+1])  \n",
    "                r += 1\n",
    "                l -= 1\n",
    "        \n",
    "        return len(substrings)"
   ]
  },
  {
   "cell_type": "markdown",
   "id": "a40e7c6c-07c1-4823-837c-0cdf17e92f3b",
   "metadata": {},
   "source": [
    "For this problem, my code was accepted, but it's runtime was very slow.\n",
    "I will have to try optimizing my code."
   ]
  },
  {
   "cell_type": "code",
   "execution_count": 18,
   "id": "25489fe6-73ee-41cb-b8d2-e1a89b8bb51c",
   "metadata": {},
   "outputs": [
    {
     "data": {
      "text/plain": [
       "6"
      ]
     },
     "execution_count": 18,
     "metadata": {},
     "output_type": "execute_result"
    }
   ],
   "source": [
    "class Solution:\n",
    "    def countSubstrings(self, s: str) -> int:\n",
    "        count = len(list(s))\n",
    "\n",
    "        for i in range(len(s)):\n",
    "            # checking odd\n",
    "            l, r = i, i\n",
    "            while l >= 0 and r < len(s) and s[l] == s[r]:\n",
    "                string = s[l:r+1]\n",
    "                if len(string) > 1:\n",
    "                    count += 1\n",
    "                r += 1\n",
    "                l -= 1\n",
    "            \n",
    "            # checking even\n",
    "            l, r = i, i + 1\n",
    "            while l >= 0 and r < len(s) and s[l] == s[r]:\n",
    "                string = s[l:r+1]\n",
    "                if len(string) > 1:\n",
    "                    count += 1 \n",
    "                r += 1\n",
    "                l -= 1\n",
    "        \n",
    "        return count"
   ]
  },
  {
   "cell_type": "markdown",
   "id": "5e60cc89-caaa-4c62-b62b-27ac65bfbadb",
   "metadata": {},
   "source": [
    "Here, my code was more optimized, but it is still slower than the usual answers. \n",
    "I will have to optimize this even further."
   ]
  },
  {
   "cell_type": "code",
   "execution_count": null,
   "id": "7dee7337-f6e1-479e-8337-9ff61a350838",
   "metadata": {},
   "outputs": [],
   "source": [
    "class Solution:\n",
    "    def countSubstrings(self, s: str) -> int:\n",
    "        count = 0\n",
    "\n",
    "        for i in range(len(s)):\n",
    "            # checking odd\n",
    "            l, r = i, i\n",
    "            while l >= 0 and r < len(s) and s[l] == s[r]:\n",
    "                count += 1\n",
    "                r += 1\n",
    "                l -= 1\n",
    "            \n",
    "            # checking even\n",
    "            l, r = i, i + 1\n",
    "            while l >= 0 and r < len(s) and s[l] == s[r]:\n",
    "                count += 1\n",
    "                r += 1\n",
    "                l -= 1\n",
    "        \n",
    "        return count\n",
    "                \n",
    "s = Solution()\n",
    "string = 'aaa'\n",
    "s.countSubstrings(string)"
   ]
  },
  {
   "cell_type": "markdown",
   "id": "a4984a51-7e4a-425b-83b2-014e4b3b4d31",
   "metadata": {},
   "source": [
    "For this problem, I referred to my code when I answered Longest Palindromic Substring."
   ]
  },
  {
   "cell_type": "code",
   "execution_count": 1,
   "id": "3f09d13f-bdd1-4430-bfcf-084b58bae276",
   "metadata": {},
   "outputs": [
    {
     "data": {
      "text/plain": [
       "'abccba'"
      ]
     },
     "execution_count": 1,
     "metadata": {},
     "output_type": "execute_result"
    }
   ],
   "source": [
    "class Solution:\n",
    "    def longestPalindrome(self, s: str) -> str:\n",
    "        len_ss = 0\n",
    "        long_ss = ''\n",
    "        \n",
    "        for i in range(len(s)):\n",
    "            # checking odd\n",
    "            l, r = i, i\n",
    "            while l >= 0 and r < len(s) and s[l] == s[r]:\n",
    "                if (r - l + 1) > len_ss:\n",
    "                    long_ss = s[l:r+1]\n",
    "                    len_ss = r - l + 1\n",
    "                r += 1\n",
    "                l -= 1\n",
    "                \n",
    "            # checking even\n",
    "            l, r = i, i + 1\n",
    "            while l >= 0 and r < len(s) and s[l] == s[r]:\n",
    "                if (r - l + 1) > len_ss:\n",
    "                    long_ss = s[l:r+1]\n",
    "                    len_ss = r - l + 1\n",
    "                r += 1\n",
    "                l -= 1\n",
    "\n",
    "        return long_ss\n",
    "                \n",
    "s = Solution()\n",
    "string = 'abccba'\n",
    "s.longestPalindrome(string)"
   ]
  },
  {
   "cell_type": "code",
   "execution_count": null,
   "id": "0bd31950-c723-4e7e-a391-ffcd258716bf",
   "metadata": {},
   "outputs": [],
   "source": []
  }
 ],
 "metadata": {
  "kernelspec": {
   "display_name": "Python 3 (ipykernel)",
   "language": "python",
   "name": "python3"
  },
  "language_info": {
   "codemirror_mode": {
    "name": "ipython",
    "version": 3
   },
   "file_extension": ".py",
   "mimetype": "text/x-python",
   "name": "python",
   "nbconvert_exporter": "python",
   "pygments_lexer": "ipython3",
   "version": "3.13.6"
  }
 },
 "nbformat": 4,
 "nbformat_minor": 5
}
