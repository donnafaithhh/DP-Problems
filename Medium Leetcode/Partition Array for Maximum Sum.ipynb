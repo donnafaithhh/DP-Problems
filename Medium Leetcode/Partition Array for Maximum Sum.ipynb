{
 "cells": [
  {
   "cell_type": "markdown",
   "id": "b3d47ba3-58c3-4100-8c4b-c4792c38f493",
   "metadata": {},
   "source": [
    "This notebook was created by Donna Faith Go."
   ]
  },
  {
   "cell_type": "markdown",
   "id": "ecedef1e-e997-48e0-99f2-f19fd88496c7",
   "metadata": {},
   "source": [
    "## Imports"
   ]
  },
  {
   "cell_type": "code",
   "execution_count": 1,
   "id": "97963d34-988a-4579-bb29-2e03221cb7cf",
   "metadata": {},
   "outputs": [],
   "source": [
    "from typing import List, Optional\n",
    "import math\n",
    "from collections import deque"
   ]
  },
  {
   "cell_type": "markdown",
   "id": "52f82248-596e-4ecb-b88e-153cdd420ca5",
   "metadata": {},
   "source": [
    "### Partition Array for Maximum Sum\n",
    "**Description**\n",
    "\n",
    "Given an integer array arr, partition the array into (contiguous) subarrays of length at most k. After partitioning, each subarray has their values changed to become the maximum value of that subarray.\n",
    "\n",
    "Return the largest sum of the given array after partitioning. Test cases are generated so that the answer fits in a 32-bit integer.\n",
    "\n",
    "**Example 1**\n",
    "\n",
    "Input: arr = [1,15,7,9,2,5,10], k = 3\n",
    "\n",
    "Output: 84\n",
    "\n",
    "Explanation: arr becomes [15,15,15,9,10,10,10]\n",
    "\n",
    "**Example 2**\n",
    "\n",
    "Input: arr = [1,4,1,5,7,3,6,1,9,9,3], k = 4\n",
    "\n",
    "Output: 83\n",
    "\n",
    "**Example 3**\n",
    "Input: arr = [1], k = 1\n",
    "\n",
    "Output: 1"
   ]
  },
  {
   "cell_type": "code",
   "execution_count": 4,
   "id": "2865b797-0600-40a6-9a40-c47b64be0e65",
   "metadata": {},
   "outputs": [
    {
     "data": {
      "text/plain": [
       "84"
      ]
     },
     "execution_count": 4,
     "metadata": {},
     "output_type": "execute_result"
    }
   ],
   "source": [
    "class Solution:\n",
    "    def maxSumAfterPartitioning(self, arr: List[int], k: int) -> int:\n",
    "        memo = {}\n",
    "        def dp(i):\n",
    "            if i == len(arr):\n",
    "                return 0\n",
    "            if i in memo:\n",
    "                return memo[i]\n",
    "\n",
    "            max_sum = 0\n",
    "            max_val = 0\n",
    "            \n",
    "            for L in range(1, k + 1):\n",
    "                if i + L > len(arr):\n",
    "                    break\n",
    "                max_val = max(max_val, arr[i + L - 1])\n",
    "                total = max_val * L + dp(i + L)\n",
    "                max_sum = max(max_sum, total)\n",
    "\n",
    "            memo[i] = max_sum\n",
    "            return max_sum\n",
    "            \n",
    "        return dp(0)\n",
    "\n",
    "s = Solution()\n",
    "arr =  [1,15,7,9,2,5,10]\n",
    "k = 3\n",
    "s.maxSumAfterPartitioning(arr, k)"
   ]
  },
  {
   "cell_type": "markdown",
   "id": "a7def4d4-b23c-44f5-b5a1-2bade73ad31c",
   "metadata": {},
   "source": [
    "In creating the code, I used this template."
   ]
  },
  {
   "cell_type": "code",
   "execution_count": 3,
   "id": "546a7041-45d1-4caa-a80f-5d35af5cd247",
   "metadata": {},
   "outputs": [],
   "source": [
    "class Solution:\n",
    "    def solve(self, input_data):\n",
    "        # Step 1: Define the memo (dictionary for memoization)\n",
    "        memo = {}\n",
    "\n",
    "        # Step 2: Define the recursive DP function\n",
    "        def dp(state1, state2):\n",
    "            # Example: state1, state2 are parts of your state\n",
    "            # Replace with what your problem needs\n",
    "\n",
    "            # Base case(s)\n",
    "            if some_end_condition:\n",
    "                return base_value\n",
    "\n",
    "            # If already computed, return from memo\n",
    "            if (state1, state2) in memo:\n",
    "                return memo[(state1, state2)]\n",
    "\n",
    "            # Step 3: Try all choices / transitions\n",
    "            best = 0\n",
    "            for choice in possible_choices:\n",
    "                # Recursively call dp with the new state\n",
    "                candidate = something_with(choice, dp(new_state1, new_state2))\n",
    "\n",
    "                # Update best answer\n",
    "                best = max(best, candidate)   # or min(), or += depending on problem\n",
    "\n",
    "            # Save to memo before returning\n",
    "            memo[(state1, state2)] = best\n",
    "            return best\n",
    "\n",
    "        # Step 4: Call dp starting from the initial state\n",
    "        return dp(start_state1, start_state2)"
   ]
  }
 ],
 "metadata": {
  "kernelspec": {
   "display_name": "Python 3 (ipykernel)",
   "language": "python",
   "name": "python3"
  },
  "language_info": {
   "codemirror_mode": {
    "name": "ipython",
    "version": 3
   },
   "file_extension": ".py",
   "mimetype": "text/x-python",
   "name": "python",
   "nbconvert_exporter": "python",
   "pygments_lexer": "ipython3",
   "version": "3.13.6"
  }
 },
 "nbformat": 4,
 "nbformat_minor": 5
}
