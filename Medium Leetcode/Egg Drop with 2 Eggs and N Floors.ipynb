{
 "cells": [
  {
   "cell_type": "markdown",
   "id": "b3d47ba3-58c3-4100-8c4b-c4792c38f493",
   "metadata": {},
   "source": [
    "This notebook was created by Donna Faith Go."
   ]
  },
  {
   "cell_type": "markdown",
   "id": "ecedef1e-e997-48e0-99f2-f19fd88496c7",
   "metadata": {},
   "source": [
    "## Imports"
   ]
  },
  {
   "cell_type": "code",
   "execution_count": 1,
   "id": "97963d34-988a-4579-bb29-2e03221cb7cf",
   "metadata": {},
   "outputs": [],
   "source": [
    "from typing import List, Optional\n",
    "import math\n",
    "from collections import deque"
   ]
  },
  {
   "cell_type": "markdown",
   "id": "52f82248-596e-4ecb-b88e-153cdd420ca5",
   "metadata": {},
   "source": [
    "### Egg Drop With 2 Eggs and N Floors\n",
    "\n",
    "**Description**\n",
    "\n",
    "You are given two identical eggs and you have access to a building with n floors labeled from 1 to n.\n",
    "\n",
    "You know that there exists a floor f where 0 <= f <= n such that any egg dropped at a floor higher than f will break, and any egg dropped at or below floor f will not break.\n",
    "\n",
    "In each move, you may take an unbroken egg and drop it from any floor x (where 1 <= x <= n). If the egg breaks, you can no longer use it. However, if the egg does not break, you may reuse it in future moves.\n",
    "\n",
    "Return the minimum number of moves that you need to determine with certainty what the value of f is.\n",
    "\n",
    "**Example 1**\n",
    "\n",
    "Input: n = 2\n",
    "\n",
    "Output: 2\n",
    "\n",
    "Explanation: We can drop the first egg from floor 1 and the second egg from floor 2.\n",
    "If the first egg breaks, we know that f = 0.\n",
    "If the second egg breaks but the first egg didn't, we know that f = 1.\n",
    "Otherwise, if both eggs survive, we know that f = 2.\n",
    "\n",
    "**Example 2**\n",
    "\n",
    "Input: n = 100\n",
    "\n",
    "Output: 14\n",
    "\n",
    "Explanation: One optimal strategy is:\n",
    "- Drop the 1st egg at floor 9. If it breaks, we know f is between 0 and 8. Drop the 2nd egg starting from floor 1 and going up one at a time to find f within 8 more drops. Total drops is 1 + 8 = 9.\n",
    "- If the 1st egg does not break, drop the 1st egg again at floor 22. If it breaks, we know f is between 9 and 21. Drop the 2nd egg starting from floor 10 and going up one at a time to find f within 12 more drops. Total drops is 2 + 12 = 14.\n",
    "- If the 1st egg does not break again, follow a similar process dropping the 1st egg from floors 34, 45, 55, 64, 72, 79, 85, 90, 94, 97, 99, and 100.\n",
    "Regardless of the outcome, it takes at most 14 drops to determine f."
   ]
  },
  {
   "cell_type": "code",
   "execution_count": 15,
   "id": "2865b797-0600-40a6-9a40-c47b64be0e65",
   "metadata": {},
   "outputs": [
    {
     "data": {
      "text/plain": [
       "2"
      ]
     },
     "execution_count": 15,
     "metadata": {},
     "output_type": "execute_result"
    }
   ],
   "source": [
    "class Solution:\n",
    "    def twoEggDrop(self, n: int) -> int:\n",
    "        x = 0\n",
    "        while x * (x + 1) / 2 < n:\n",
    "            x += 1\n",
    "        return x\n",
    "\n",
    "s = Solution()\n",
    "s.twoEggDrop(2)"
   ]
  },
  {
   "cell_type": "code",
   "execution_count": null,
   "id": "db2feaf6-1b37-4e7e-b419-30a80bf63125",
   "metadata": {},
   "outputs": [],
   "source": []
  }
 ],
 "metadata": {
  "kernelspec": {
   "display_name": "Python 3 (ipykernel)",
   "language": "python",
   "name": "python3"
  },
  "language_info": {
   "codemirror_mode": {
    "name": "ipython",
    "version": 3
   },
   "file_extension": ".py",
   "mimetype": "text/x-python",
   "name": "python",
   "nbconvert_exporter": "python",
   "pygments_lexer": "ipython3",
   "version": "3.13.6"
  }
 },
 "nbformat": 4,
 "nbformat_minor": 5
}
