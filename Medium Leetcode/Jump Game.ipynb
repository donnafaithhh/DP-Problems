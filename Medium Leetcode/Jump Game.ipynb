{
 "cells": [
  {
   "cell_type": "markdown",
   "id": "b3d47ba3-58c3-4100-8c4b-c4792c38f493",
   "metadata": {},
   "source": [
    "This notebook was created by Donna Faith Go."
   ]
  },
  {
   "cell_type": "markdown",
   "id": "ecedef1e-e997-48e0-99f2-f19fd88496c7",
   "metadata": {},
   "source": [
    "## Imports"
   ]
  },
  {
   "cell_type": "code",
   "execution_count": 5,
   "id": "97963d34-988a-4579-bb29-2e03221cb7cf",
   "metadata": {},
   "outputs": [],
   "source": [
    "from typing import List, Optional\n",
    "import math\n",
    "import numpy as np\n",
    "from collections import deque"
   ]
  },
  {
   "cell_type": "markdown",
   "id": "52f82248-596e-4ecb-b88e-153cdd420ca5",
   "metadata": {},
   "source": [
    "### Unique Paths\n",
    "\n",
    "**Description**\n",
    "\n",
    "You are given an integer array nums. You are initially positioned at the array's first index, and each element in the array represents your maximum jump length at that position.\n",
    "\n",
    "Return true if you can reach the last index, or false otherwise.\n",
    "\n",
    "**Example 1**\n",
    "\n",
    "Input: nums = [2,3,1,1,4]\n",
    "\n",
    "Output: true\n",
    "\n",
    "Explanation: Jump 1 step from index 0 to 1, then 3 steps to the last index.\n",
    "\n",
    "**Example 2**\n",
    "\n",
    "Input: nums = [3,2,1,0,4]\n",
    "\n",
    "Output: false\n",
    "\n",
    "Explanation: You will always arrive at index 3 no matter what. Its maximum jump length is 0, which makes it impossible to reach the last index."
   ]
  },
  {
   "cell_type": "markdown",
   "id": "68cec662-0722-4239-a4e1-a72ec098cfd9",
   "metadata": {},
   "source": [
    "I used the bottom-up dynamic programming approach for this problem."
   ]
  },
  {
   "cell_type": "code",
   "execution_count": 49,
   "id": "0bd31950-c723-4e7e-a391-ffcd258716bf",
   "metadata": {},
   "outputs": [
    {
     "data": {
      "text/plain": [
       "True"
      ]
     },
     "execution_count": 49,
     "metadata": {},
     "output_type": "execute_result"
    }
   ],
   "source": [
    "class Solution:\n",
    "    def canJump(self, nums: List[int]) -> bool:\n",
    "        dp = [0] * len(nums)\n",
    "        dp[0] = 1\n",
    "\n",
    "        for num in range(len(nums)):\n",
    "            if dp[num] == 0:\n",
    "                continue\n",
    "\n",
    "            for i in range(1, nums[num] + 1):\n",
    "                if num + i < len(nums):\n",
    "                    dp[num + i] = 1\n",
    "                \n",
    "        return True if dp[-1] == 1 else False\n",
    "\n",
    "s = Solution()\n",
    "nums = [2,3,1,1,4]\n",
    "s.canJump(nums)"
   ]
  },
  {
   "cell_type": "markdown",
   "id": "f9ee624c-183f-4f01-b171-0bf375f2c82c",
   "metadata": {},
   "source": [
    "Unfortunately, this solution takes too long. I will have to optimize it. "
   ]
  },
  {
   "cell_type": "code",
   "execution_count": 51,
   "id": "ff8e523c-9c6e-4914-bfa6-8b5de11aae77",
   "metadata": {},
   "outputs": [
    {
     "data": {
      "text/plain": [
       "True"
      ]
     },
     "execution_count": 51,
     "metadata": {},
     "output_type": "execute_result"
    }
   ],
   "source": [
    "class Solution:\n",
    "    def canJump(self, nums):\n",
    "        reach = 0\n",
    "        for i in range(len(nums)):\n",
    "            if i > reach:\n",
    "                return False\n",
    "            reach = max(reach, i + nums[i])\n",
    "        return True\n",
    "\n",
    "s = Solution()\n",
    "nums = [2,3,1,1,4]\n",
    "s.canJump(nums)"
   ]
  },
  {
   "cell_type": "code",
   "execution_count": null,
   "id": "834f8bb7-60f1-4562-8f9c-f8f6bdf8d346",
   "metadata": {},
   "outputs": [],
   "source": []
  }
 ],
 "metadata": {
  "kernelspec": {
   "display_name": "Python 3 (ipykernel)",
   "language": "python",
   "name": "python3"
  },
  "language_info": {
   "codemirror_mode": {
    "name": "ipython",
    "version": 3
   },
   "file_extension": ".py",
   "mimetype": "text/x-python",
   "name": "python",
   "nbconvert_exporter": "python",
   "pygments_lexer": "ipython3",
   "version": "3.13.6"
  }
 },
 "nbformat": 4,
 "nbformat_minor": 5
}
