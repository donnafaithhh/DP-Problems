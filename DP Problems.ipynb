{
 "cells": [
  {
   "cell_type": "markdown",
   "id": "b3d47ba3-58c3-4100-8c4b-c4792c38f493",
   "metadata": {},
   "source": [
    "This notebook was created by Donna Faith Go."
   ]
  },
  {
   "cell_type": "markdown",
   "id": "ecedef1e-e997-48e0-99f2-f19fd88496c7",
   "metadata": {},
   "source": [
    "## Imports"
   ]
  },
  {
   "cell_type": "code",
   "execution_count": 1,
   "id": "97963d34-988a-4579-bb29-2e03221cb7cf",
   "metadata": {},
   "outputs": [],
   "source": [
    "from typing import List, Optional\n",
    "import math\n",
    "from collections import deque"
   ]
  },
  {
   "cell_type": "markdown",
   "id": "f34358f4-dd54-4e30-97b1-bdcee77500e4",
   "metadata": {
    "jp-MarkdownHeadingCollapsed": true
   },
   "source": [
    "### BDCC Class\n",
    "I tried to apply dynamic programming to our BDCC class work."
   ]
  },
  {
   "cell_type": "code",
   "execution_count": 27,
   "id": "823da03d-a393-476c-b4c5-5f646d7359b3",
   "metadata": {
    "scrolled": true
   },
   "outputs": [
    {
     "data": {
      "text/plain": [
       "[['cheese'],\n",
       " ['eggs'],\n",
       " ['eggs', 'cheese'],\n",
       " ['yogurt'],\n",
       " ['yogurt', 'cheese'],\n",
       " ['yogurt', 'eggs'],\n",
       " ['yogurt', 'eggs', 'cheese'],\n",
       " ['milk'],\n",
       " ['milk', 'cheese'],\n",
       " ['milk', 'eggs'],\n",
       " ['milk', 'eggs', 'cheese'],\n",
       " ['milk', 'yogurt'],\n",
       " ['milk', 'yogurt', 'cheese'],\n",
       " ['milk', 'yogurt', 'eggs'],\n",
       " ['milk', 'yogurt', 'eggs', 'cheese'],\n",
       " ['butter'],\n",
       " ['butter', 'cheese'],\n",
       " ['butter', 'eggs'],\n",
       " ['butter', 'eggs', 'cheese'],\n",
       " ['butter', 'yogurt'],\n",
       " ['butter', 'yogurt', 'cheese'],\n",
       " ['butter', 'yogurt', 'eggs'],\n",
       " ['butter', 'yogurt', 'eggs', 'cheese'],\n",
       " ['butter', 'milk'],\n",
       " ['butter', 'milk', 'cheese'],\n",
       " ['butter', 'milk', 'eggs'],\n",
       " ['butter', 'milk', 'eggs', 'cheese'],\n",
       " ['butter', 'milk', 'yogurt'],\n",
       " ['butter', 'milk', 'yogurt', 'cheese'],\n",
       " ['butter', 'milk', 'yogurt', 'eggs'],\n",
       " ['butter', 'milk', 'yogurt', 'eggs', 'cheese'],\n",
       " ['bread'],\n",
       " ['bread', 'cheese'],\n",
       " ['bread', 'eggs'],\n",
       " ['bread', 'eggs', 'cheese'],\n",
       " ['bread', 'yogurt'],\n",
       " ['bread', 'yogurt', 'cheese'],\n",
       " ['bread', 'yogurt', 'eggs'],\n",
       " ['bread', 'yogurt', 'eggs', 'cheese'],\n",
       " ['bread', 'milk'],\n",
       " ['bread', 'milk', 'cheese'],\n",
       " ['bread', 'milk', 'eggs'],\n",
       " ['bread', 'milk', 'eggs', 'cheese'],\n",
       " ['bread', 'milk', 'yogurt'],\n",
       " ['bread', 'milk', 'yogurt', 'cheese'],\n",
       " ['bread', 'milk', 'yogurt', 'eggs'],\n",
       " ['bread', 'milk', 'yogurt', 'eggs', 'cheese'],\n",
       " ['bread', 'butter'],\n",
       " ['bread', 'butter', 'cheese'],\n",
       " ['bread', 'butter', 'eggs'],\n",
       " ['bread', 'butter', 'eggs', 'cheese'],\n",
       " ['bread', 'butter', 'yogurt'],\n",
       " ['bread', 'butter', 'yogurt', 'cheese'],\n",
       " ['bread', 'butter', 'yogurt', 'eggs'],\n",
       " ['bread', 'butter', 'yogurt', 'eggs', 'cheese'],\n",
       " ['bread', 'butter', 'milk'],\n",
       " ['bread', 'butter', 'milk', 'cheese'],\n",
       " ['bread', 'butter', 'milk', 'eggs'],\n",
       " ['bread', 'butter', 'milk', 'eggs', 'cheese'],\n",
       " ['bread', 'butter', 'milk', 'yogurt'],\n",
       " ['bread', 'butter', 'milk', 'yogurt', 'cheese'],\n",
       " ['bread', 'butter', 'milk', 'yogurt', 'eggs'],\n",
       " ['bread', 'butter', 'milk', 'yogurt', 'eggs', 'cheese']]"
      ]
     },
     "execution_count": 27,
     "metadata": {},
     "output_type": "execute_result"
    }
   ],
   "source": [
    "class Solution():\n",
    "    def subsets(self, nums):\n",
    "        sol = []\n",
    "        ret = []\n",
    "        n = len(nums)\n",
    "\n",
    "        def backtrack(i=0):\n",
    "            if i == n:\n",
    "                ret.append(sol[:])\n",
    "                return\n",
    "            \n",
    "            backtrack(i+1)\n",
    "            sol.append(nums[i])\n",
    "            backtrack(i+1)\n",
    "            sol.pop()\n",
    "        \n",
    "        backtrack()\n",
    "        ret2 = list(filter(None, ret))\n",
    "        return ret2\n",
    "\n",
    "s = Solution()\n",
    "lst = s.subsets(['bread', 'butter', 'milk', 'yogurt', 'eggs', 'cheese'])\n",
    "lst1 = [tuple(x) for x in lst]\n",
    "lst"
   ]
  },
  {
   "cell_type": "code",
   "execution_count": 28,
   "id": "12168222-b6e3-43f0-ae53-e20f471c99d6",
   "metadata": {},
   "outputs": [
    {
     "data": {
      "text/plain": [
       "{('cheese',): 2,\n",
       " ('eggs',): 3,\n",
       " ('eggs', 'cheese'): 1,\n",
       " ('yogurt',): 3,\n",
       " ('yogurt', 'cheese'): 1,\n",
       " ('yogurt', 'eggs'): 2,\n",
       " ('milk',): 5,\n",
       " ('milk', 'cheese'): 2,\n",
       " ('milk', 'eggs'): 3,\n",
       " ('milk', 'eggs', 'cheese'): 1,\n",
       " ('milk', 'yogurt'): 3,\n",
       " ('milk', 'yogurt', 'cheese'): 1,\n",
       " ('milk', 'yogurt', 'eggs'): 2,\n",
       " ('butter',): 1,\n",
       " ('butter', 'milk'): 1,\n",
       " ('bread',): 2,\n",
       " ('bread', 'cheese'): 1,\n",
       " ('bread', 'eggs'): 1,\n",
       " ('bread', 'eggs', 'cheese'): 1,\n",
       " ('bread', 'milk'): 2,\n",
       " ('bread', 'milk', 'cheese'): 1,\n",
       " ('bread', 'milk', 'eggs'): 1,\n",
       " ('bread', 'milk', 'eggs', 'cheese'): 1,\n",
       " ('bread', 'butter'): 1,\n",
       " ('bread', 'butter', 'milk'): 1}"
      ]
     },
     "execution_count": 28,
     "metadata": {},
     "output_type": "execute_result"
    }
   ],
   "source": [
    "db = [{\"bread\", \"butter\", \"milk\"},\n",
    "      {\"eggs\", \"milk\", \"yogurt\"},\n",
    "      {\"bread\", \"cheese\", \"eggs\", \"milk\"},\n",
    "      {\"eggs\", \"milk\", \"yogurt\"},\n",
    "      {\"cheese\", \"milk\", \"yogurt\"}]\n",
    "\n",
    "items = ['bread', 'butter', 'milk', 'yogurt', 'eggs', 'cheese']\n",
    "temp = []\n",
    "lst2 = []\n",
    "\n",
    "for i1 in items:\n",
    "    temp = [x for x in items if x != i1]\n",
    "    for i2 in temp:\n",
    "        lst2.append((i1, i2))\n",
    "\n",
    "support = {}\n",
    "for l in lst1:\n",
    "    for d in db:\n",
    "        if all(x in d for x in l):\n",
    "            if l in support:\n",
    "                support[l] += 1\n",
    "            else:\n",
    "                support[l] = 1\n",
    "\n",
    "support"
   ]
  },
  {
   "cell_type": "markdown",
   "id": "6b88e1c7-671b-477d-b760-6a2aa5c41f7f",
   "metadata": {},
   "source": [
    "## Medium LeetCode"
   ]
  },
  {
   "cell_type": "markdown",
   "id": "52f82248-596e-4ecb-b88e-153cdd420ca5",
   "metadata": {},
   "source": [
    "### Jump Game VII\n",
    "Input: nums = [1,-1,-2,4,-7,3], k = 2\n",
    "\n",
    "Output: 7"
   ]
  },
  {
   "cell_type": "markdown",
   "id": "11133258-e4c9-4a59-8c13-5ea015054daf",
   "metadata": {},
   "source": [
    "You are given a 0-indexed binary string s and two integers minJump and maxJump. In the beginning, you are standing at index 0, which is equal to '0'. You can move from index i to index j if the following conditions are fulfilled:\n",
    "\n",
    "- i + minJump <= j <= min(i + maxJump, s.length - 1), and\n",
    "- s[j] == '0'.\n",
    "\n",
    "Return true if you can reach index s.length - 1 in s, or false otherwise."
   ]
  },
  {
   "cell_type": "code",
   "execution_count": 104,
   "id": "68b50352-f848-432d-a530-882f2630eccb",
   "metadata": {},
   "outputs": [
    {
     "name": "stdout",
     "output_type": "stream",
     "text": [
      "i=1, dp=[1, 0, 0, 0, 0, 0], dq=[0, 1]\n",
      "i=2, dp=[1, 0, -1, 0, 0, 0], dq=[0, 1, 2]\n",
      "i=3, dp=[1, 0, -1, 4, 0, 0], dq=[3]\n",
      "i=4, dp=[1, 0, -1, 4, -3, 0], dq=[3, 4]\n",
      "i=5, dp=[1, 0, -1, 4, -3, 7], dq=[5]\n"
     ]
    },
    {
     "data": {
      "text/plain": [
       "7"
      ]
     },
     "execution_count": 104,
     "metadata": {},
     "output_type": "execute_result"
    }
   ],
   "source": [
    "from collections import deque\n",
    "\n",
    "class Solution:\n",
    "    def maxResult(self, nums: List[int], k: int) -> int:\n",
    "        dp = [0] * len(nums)\n",
    "        dp[0] = nums[0]\n",
    "        dq = deque([0])\n",
    "\n",
    "        for i in range(1, len(nums)):\n",
    "            while dq and dq[0] < i - k:\n",
    "                dq.popleft()\n",
    "                \n",
    "            dp[i] = nums[i] + dp[dq[0]]\n",
    "\n",
    "            while dq and dp[i] >= dp[dq[-1]]:\n",
    "                dq.pop()\n",
    "\n",
    "            dq.append(i)\n",
    "            print(f\"i={i}, dp={dp}, dq={list(dq)}\")\n",
    "            \n",
    "        return dp[-1]\n",
    "\n",
    "s = Solution()\n",
    "s.maxResult([1, -1, -2, 4, -7, 3], 2)"
   ]
  },
  {
   "cell_type": "markdown",
   "id": "2c0563cc-a217-430b-b60a-19c26a2b582e",
   "metadata": {
    "jp-MarkdownHeadingCollapsed": true
   },
   "source": [
    "### Jump Game VI\n",
    "Input: s = \"01101110\", minJump = 2, maxJump = 3\n",
    "\n",
    "Output: false"
   ]
  },
  {
   "cell_type": "code",
   "execution_count": 80,
   "id": "aa6460d5-0974-4d37-b65c-9ad9777fe75a",
   "metadata": {},
   "outputs": [
    {
     "name": "stdout",
     "output_type": "stream",
     "text": [
      "-1 [1, 0, 0, 0, 0, 0]\n",
      "-2 [1, 0, -1, 0, 0, 0]\n",
      "4 [1, 0, -1, 4, 0, 0]\n",
      "-7 [1, 0, -1, 4, -3, 0]\n",
      "3 [1, 0, -1, 4, -3, 7]\n"
     ]
    },
    {
     "data": {
      "text/plain": [
       "7"
      ]
     },
     "execution_count": 80,
     "metadata": {},
     "output_type": "execute_result"
    }
   ],
   "source": [
    "class Solution:\n",
    "    def maxResult(self, nums: List[int], k: int) -> int:\n",
    "        dp = [0] * len(nums)\n",
    "        i = 0\n",
    "        \n",
    "        while i < len(nums):\n",
    "            try: \n",
    "                if i == 0:\n",
    "                    dp[0] = nums[0]\n",
    "                i += 1\n",
    "                dp[i] = nums[i] + max([dp[j] for j in range(max(0, i - k), i)])\n",
    "                    \n",
    "                print(nums[i], dp)\n",
    "            except:\n",
    "                continue\n",
    "        \n",
    "        return dp[-1]\n",
    "\n",
    "s = Solution()\n",
    "s.maxResult([1, -1, -2, 4, -7, 3], 2)"
   ]
  },
  {
   "cell_type": "code",
   "execution_count": 102,
   "id": "d6da6dc4-ff75-4914-b4b2-4a601830b7e2",
   "metadata": {},
   "outputs": [
    {
     "data": {
      "text/plain": [
       "7"
      ]
     },
     "execution_count": 102,
     "metadata": {},
     "output_type": "execute_result"
    }
   ],
   "source": [
    "from collections import deque\n",
    "\n",
    "class Solution:\n",
    "    def maxResult(self, nums: List[int], k: int) -> int:\n",
    "        dp = [0] * len(nums)\n",
    "        dp[0] = nums[0]\n",
    "        dq = deque([0])\n",
    "\n",
    "        for i in range(1, len(nums)):\n",
    "            while dq and dq[0] < i - k:\n",
    "                dq.popleft()\n",
    "                \n",
    "            dp[i] = nums[i] + dp[dq[0]]\n",
    "\n",
    "            while dq and dp[i] >= dp[dq[-1]]:\n",
    "                dq.pop()\n",
    "\n",
    "            dq.append(i)\n",
    "            # print(f\"i={i}, dp={dp}, dq={list(dq)}\")\n",
    "            \n",
    "        return dp[-1]\n",
    "\n",
    "s = Solution()\n",
    "s.maxResult([1, -1, -2, 4, -7, 3], 2)"
   ]
  },
  {
   "cell_type": "markdown",
   "id": "b758b9e3-f32a-4221-b904-3d928b9944af",
   "metadata": {
    "jp-MarkdownHeadingCollapsed": true
   },
   "source": [
    "### Generate Parentheses\n",
    "Input: n = 3\n",
    "\n",
    "Output: [\"((()))\",\"(()())\",\"(())()\",\"()(())\",\"()()()\"]"
   ]
  },
  {
   "cell_type": "code",
   "execution_count": 4,
   "id": "d1195419-c670-4ffc-a96a-59a7ac4f7f50",
   "metadata": {},
   "outputs": [],
   "source": [
    "# class Solution:\n",
    "#     def countVowelStrings(self, n: int) -> int:\n",
    "#         vowels = ['a', 'e', 'i', 'o', 'u']\n",
    "#         self.count = 0\n",
    "\n",
    "#         def backtrack(start, path):\n",
    "#             if len(path) == n:\n",
    "#                 self.count += 1\n",
    "#                 return\n",
    "#             for i in range(start, len(vowels)):\n",
    "#                 backtrack(i, path + [vowels[i]])\n",
    "\n",
    "#         backtrack(0, [])\n",
    "#         return self.count\n",
    "\n",
    "# s = Solution()\n",
    "# s.countVowelStrings(2)"
   ]
  },
  {
   "cell_type": "code",
   "execution_count": 5,
   "id": "f39a2069-a470-4ba9-9363-94f5417713a5",
   "metadata": {},
   "outputs": [
    {
     "data": {
      "text/plain": [
       "['((()))', '(()())', '(())()', '()(())', '()()()']"
      ]
     },
     "execution_count": 5,
     "metadata": {},
     "output_type": "execute_result"
    }
   ],
   "source": [
    "class Solution:\n",
    "    def generateParenthesis(self, n: int) -> List[str]:\n",
    "        all_list = []\n",
    "\n",
    "        def backtrack(current, p_open, p_close):\n",
    "            if len(current) == n * 2:\n",
    "                all_list.append(current)\n",
    "                return \n",
    "            \n",
    "            if p_open < n:\n",
    "                backtrack(current + '(', p_open + 1, p_close)\n",
    "            if p_close < p_open:\n",
    "                backtrack(current + ')', p_open, p_close + 1)\n",
    "\n",
    "        backtrack('', 0, 0)\n",
    "        return all_list\n",
    "\n",
    "s = Solution()\n",
    "s.generateParenthesis(3)"
   ]
  },
  {
   "cell_type": "markdown",
   "id": "7fafe113-f6ec-4e97-9cf7-ec84c732f135",
   "metadata": {
    "jp-MarkdownHeadingCollapsed": true
   },
   "source": [
    "### Count Sorted Vowel Strings\n",
    "Input: n = 2\n",
    "\n",
    "Output: 15\n",
    "\n",
    "Explanation: The 15 sorted strings that consist of vowels only are\n",
    "[\"aa\",\"ae\",\"ai\",\"ao\",\"au\",\"ee\",\"ei\",\"eo\",\"eu\",\"ii\",\"io\",\"iu\",\"oo\",\"ou\",\"uu\"].\n",
    "Note that \"ea\" is not a valid string since 'e' comes after 'a' in the alphabet."
   ]
  },
  {
   "cell_type": "code",
   "execution_count": 6,
   "id": "b7493cae-9295-47ec-8278-1fa77f2a0ea7",
   "metadata": {},
   "outputs": [],
   "source": [
    "# 📌 Backtracking Template (Copy/Paste):\n",
    "# def backtrack(params):\n",
    "#     if base_case_condition:\n",
    "#         save_result\n",
    "#         return\n",
    "\n",
    "#     for choice in choices:\n",
    "#         if violates_constraints:\n",
    "#             continue\n",
    "\n",
    "#         make_choice\n",
    "#         backtrack(updated_params)\n",
    "#         undo_choice  # Backtracking Step\n",
    "\n",
    "# A string s is lexicographically sorted if for all valid i, \n",
    "# s[i] is the same as or comes before s[i+1] in the alphabet."
   ]
  },
  {
   "cell_type": "code",
   "execution_count": 7,
   "id": "65cb35b8-8cc6-44dd-808a-431ae10fa707",
   "metadata": {},
   "outputs": [
    {
     "name": "stdout",
     "output_type": "stream",
     "text": [
      "2 1 [[0, 0, 0, 0, 0, 0], [0, 1, 2, 3, 4, 5], [0, 1, 0, 0, 0, 0]]\n",
      "2 2 [[0, 0, 0, 0, 0, 0], [0, 1, 2, 3, 4, 5], [0, 1, 3, 0, 0, 0]]\n",
      "2 3 [[0, 0, 0, 0, 0, 0], [0, 1, 2, 3, 4, 5], [0, 1, 3, 6, 0, 0]]\n",
      "2 4 [[0, 0, 0, 0, 0, 0], [0, 1, 2, 3, 4, 5], [0, 1, 3, 6, 10, 0]]\n",
      "2 5 [[0, 0, 0, 0, 0, 0], [0, 1, 2, 3, 4, 5], [0, 1, 3, 6, 10, 15]]\n"
     ]
    },
    {
     "data": {
      "text/plain": [
       "15"
      ]
     },
     "execution_count": 7,
     "metadata": {},
     "output_type": "execute_result"
    }
   ],
   "source": [
    "class Solution:\n",
    "    def countVowelStrings(self, n: int) -> int:\n",
    "        dp = [[0] * 6 for _ in range(n+1)]\n",
    "        \n",
    "        for k in range(1, 6):\n",
    "            dp[1][k] = k\n",
    "            \n",
    "        for i in range(2, n+1):\n",
    "            for k in range(1, 6):\n",
    "                dp[i][k] = dp[i-1][k] + dp[i][k-1]\n",
    "                print(i, k, dp)\n",
    "        \n",
    "        return dp[n][5]\n",
    "        \n",
    "s = Solution()\n",
    "s.countVowelStrings(2)"
   ]
  },
  {
   "cell_type": "code",
   "execution_count": 8,
   "id": "ca5c3b83-9ef9-406d-8c43-5bf9327db979",
   "metadata": {},
   "outputs": [
    {
     "data": {
      "text/plain": [
       "15"
      ]
     },
     "execution_count": 8,
     "metadata": {},
     "output_type": "execute_result"
    }
   ],
   "source": [
    "class Solution:\n",
    "    def countVowelStrings(self, n: int) -> int:\n",
    "        vowels = ['a', 'e', 'i', 'o', 'u']\n",
    "        self.count = 0\n",
    "\n",
    "        def backtrack(start, path):\n",
    "            if len(path) == n:\n",
    "                self.count += 1\n",
    "                return\n",
    "            for i in range(start, len(vowels)):\n",
    "                backtrack(i, path + [vowels[i]])\n",
    "\n",
    "        backtrack(0, [])\n",
    "        return self.count\n",
    "\n",
    "s = Solution()\n",
    "s.countVowelStrings(2)"
   ]
  },
  {
   "cell_type": "code",
   "execution_count": 9,
   "id": "a95d0a9e-4a9c-412e-80ae-307cb97a3205",
   "metadata": {},
   "outputs": [
    {
     "data": {
      "text/plain": [
       "15"
      ]
     },
     "execution_count": 9,
     "metadata": {},
     "output_type": "execute_result"
    }
   ],
   "source": [
    "import math\n",
    "class Solution:\n",
    "    def countVowelStrings(self, n: int) -> int:\n",
    "        return math.comb(n + 4, 4)\n",
    "\n",
    "s = Solution()\n",
    "s.countVowelStrings(2)"
   ]
  },
  {
   "cell_type": "code",
   "execution_count": 10,
   "id": "c9847e8c-ccad-4fa4-b73d-7b6fba003da6",
   "metadata": {
    "scrolled": true
   },
   "outputs": [
    {
     "name": "stdout",
     "output_type": "stream",
     "text": [
      "['a'] 1\n",
      "['a'] 2\n",
      "['a'] 3\n",
      "['a'] 4\n",
      "['a'] 5\n",
      "['a'] 6\n",
      "['a'] 7\n",
      "['a'] 8\n",
      "['a'] 9\n",
      "['a'] 10\n",
      "['a'] 11\n",
      "['a'] 12\n",
      "['a'] 13\n",
      "['a'] 14\n",
      "['a'] 15\n",
      "['a'] 16\n",
      "['a'] 17\n",
      "['a'] 18\n",
      "['a'] 19\n",
      "['a'] 20\n",
      "['a'] 21\n",
      "['a'] 22\n",
      "['a'] 23\n",
      "['a'] 24\n",
      "['a'] 25\n",
      "['a'] 26\n",
      "['a'] 27\n",
      "['a'] 28\n",
      "['a'] 29\n",
      "['a'] 30\n",
      "['a'] 31\n",
      "['a'] 32\n",
      "['a'] 33\n",
      "['a'] 34\n",
      "['e'] 35\n",
      "['e'] 36\n",
      "['e'] 37\n",
      "['e'] 38\n",
      "['e'] 39\n",
      "['e'] 40\n",
      "['e'] 41\n",
      "['e'] 42\n",
      "['e'] 43\n",
      "['e'] 44\n",
      "['e'] 45\n",
      "['e'] 46\n",
      "['e'] 47\n",
      "['e'] 48\n",
      "['e'] 49\n",
      "['e'] 50\n",
      "['e'] 51\n",
      "['e'] 52\n",
      "['e'] 53\n",
      "['e'] 54\n",
      "['e'] 55\n",
      "['e'] 56\n",
      "['e'] 57\n",
      "['e'] 58\n",
      "['e'] 59\n",
      "['e'] 60\n",
      "['e'] 61\n",
      "['e'] 62\n",
      "['e'] 63\n",
      "['e'] 64\n",
      "['e'] 65\n",
      "['e'] 66\n",
      "['e'] 67\n",
      "['e'] 68\n",
      "['i'] 69\n",
      "['i'] 70\n",
      "['i'] 71\n",
      "['i'] 72\n",
      "['i'] 73\n",
      "['i'] 74\n",
      "['i'] 75\n",
      "['i'] 76\n",
      "['i'] 77\n",
      "['i'] 78\n",
      "['i'] 79\n",
      "['i'] 80\n",
      "['i'] 81\n",
      "['i'] 82\n",
      "['i'] 83\n",
      "['i'] 84\n",
      "['i'] 85\n",
      "['i'] 86\n",
      "['i'] 87\n",
      "['i'] 88\n",
      "['i'] 89\n",
      "['i'] 90\n",
      "['i'] 91\n",
      "['i'] 92\n",
      "['i'] 93\n",
      "['i'] 94\n",
      "['i'] 95\n",
      "['i'] 96\n",
      "['i'] 97\n",
      "['i'] 98\n",
      "['i'] 99\n",
      "['i'] 100\n",
      "['i'] 101\n",
      "['i'] 102\n",
      "['o'] 103\n",
      "['o'] 104\n",
      "['o'] 105\n",
      "['o'] 106\n",
      "['o'] 107\n",
      "['o'] 108\n",
      "['o'] 109\n",
      "['o'] 110\n",
      "['o'] 111\n",
      "['o'] 112\n",
      "['o'] 113\n",
      "['o'] 114\n",
      "['o'] 115\n",
      "['o'] 116\n",
      "['o'] 117\n",
      "['o'] 118\n",
      "['o'] 119\n",
      "['o'] 120\n",
      "['o'] 121\n",
      "['o'] 122\n",
      "['o'] 123\n",
      "['o'] 124\n",
      "['o'] 125\n",
      "['o'] 126\n",
      "['o'] 127\n",
      "['o'] 128\n",
      "['o'] 129\n",
      "['o'] 130\n",
      "['o'] 131\n",
      "['o'] 132\n",
      "['o'] 133\n",
      "['o'] 134\n",
      "['o'] 135\n",
      "['o'] 136\n",
      "['u'] 137\n",
      "['u'] 138\n",
      "['u'] 139\n",
      "['u'] 140\n",
      "['u'] 141\n",
      "['u'] 142\n",
      "['u'] 143\n",
      "['u'] 144\n",
      "['u'] 145\n",
      "['u'] 146\n",
      "['u'] 147\n",
      "['u'] 148\n",
      "['u'] 149\n",
      "['u'] 150\n",
      "['u'] 151\n",
      "['u'] 152\n",
      "['u'] 153\n",
      "['u'] 154\n",
      "['u'] 155\n",
      "['u'] 156\n",
      "['u'] 157\n",
      "['u'] 158\n",
      "['u'] 159\n",
      "['u'] 160\n",
      "['u'] 161\n",
      "['u'] 162\n",
      "['u'] 163\n",
      "['u'] 164\n",
      "['u'] 165\n",
      "['u'] 166\n",
      "['u'] 167\n",
      "['u'] 168\n",
      "['u'] 169\n",
      "['u'] 170\n"
     ]
    },
    {
     "data": {
      "text/plain": [
       "170"
      ]
     },
     "execution_count": 10,
     "metadata": {},
     "output_type": "execute_result"
    }
   ],
   "source": [
    "class Solution:\n",
    "    def countVowelStrings(self, n: int) -> int:\n",
    "        vowels = ['a', 'e', 'i', 'o', 'u']\n",
    "        possible = []\n",
    "        count = 0\n",
    "        \n",
    "        def backtrack(n):\n",
    "            nonlocal count\n",
    "            if n == 1:\n",
    "                possible = vowels\n",
    "                return len(possible)\n",
    "\n",
    "            for vowel in vowels:\n",
    "                j = n\n",
    "                while j >= 0:\n",
    "                    temp = []\n",
    "                    temp.append(vowel)\n",
    "                    j = j - 1\n",
    "                    count += 1\n",
    "                    print(temp, count)\n",
    "            return count\n",
    "                    \n",
    "        return backtrack(n)\n",
    "s = Solution()\n",
    "s.countVowelStrings(33)"
   ]
  },
  {
   "cell_type": "code",
   "execution_count": 11,
   "id": "40001d3b-a8f9-4571-a4f1-ef190193f0f5",
   "metadata": {},
   "outputs": [
    {
     "name": "stdout",
     "output_type": "stream",
     "text": [
      "3\n",
      "2\n",
      "1\n"
     ]
    }
   ],
   "source": [
    "n = 3\n",
    "while n > 0:\n",
    "    print(n)\n",
    "    n = n - 1"
   ]
  },
  {
   "cell_type": "markdown",
   "id": "e34883c6-287d-475a-92ea-59a8e8ecad88",
   "metadata": {
    "jp-MarkdownHeadingCollapsed": true
   },
   "source": [
    "### All Possible Full Binary Trees\n",
    "Input: 7\n",
    "\n",
    "Output: [[0,0,0,null,null,0,0,null,null,0,0],[0,0,0,null,null,0,0,0,0],[0,0,0,0,0,0,0],[0,0,0,0,0,null,null,null,null,0,0],[0,0,0,0,0,null,null,0,0]]\n"
   ]
  },
  {
   "cell_type": "code",
   "execution_count": 12,
   "id": "0d9b85bc-da57-4f1a-8053-9d0a20fd226a",
   "metadata": {},
   "outputs": [],
   "source": [
    "# class Solution:\n",
    "#     def allPossibleFBT(self, n: int) -> List[List[Optional[int]]]:\n",
    "#         memo = {3: [[0, 0, 0]]}\n",
    "#         i_prev = 1\n",
    "#         possible_combinations = []\n",
    "        \n",
    "#         def add_nodes(n):\n",
    "#             for i in range(1, n+1):\n",
    "#                 if i % 2 != 0 and i > 1:\n",
    "#                     if i in memo:\n",
    "#                         return memo[i]\n",
    "#                     else: \n",
    "                        \n",
    "        \n",
    "#         return add_nodes(n)\n",
    "\n",
    "# s = Solution()\n",
    "# print(s.allPossibleFBT(3))"
   ]
  },
  {
   "cell_type": "code",
   "execution_count": 13,
   "id": "7dd22722-b6a6-464c-ab0d-3792ffa9909c",
   "metadata": {
    "scrolled": true
   },
   "outputs": [
    {
     "data": {
      "text/plain": [
       "[<__main__.TreeNode at 0x2273c342ad0>]"
      ]
     },
     "execution_count": 13,
     "metadata": {},
     "output_type": "execute_result"
    }
   ],
   "source": [
    "class TreeNode:\n",
    "    def __init__(self, val=0, left=None, right=None):\n",
    "        self.val = val\n",
    "        self.left = left\n",
    "        self.right = right\n",
    "\n",
    "class Solution:\n",
    "    def allPossibleFBT(self, n: int) -> List[List[Optional[int]]]:\n",
    "        if n % 2 == 0:\n",
    "            return []\n",
    "        \n",
    "        memo = {}\n",
    "\n",
    "        def generateFBT(n):\n",
    "            if n == 1:\n",
    "                return [TreeNode(0)]\n",
    "            if n in memo:\n",
    "                return memo [n]\n",
    "\n",
    "            trees = []\n",
    "            for left in range(1, n, 2):\n",
    "                left_subtrees = generateFBT(left)\n",
    "                right_subtrees = generateFBT(n - left - 1)\n",
    "\n",
    "                for l in left_subtrees:\n",
    "                    for r in right_subtrees:\n",
    "                        root = TreeNode(0, l, r)\n",
    "                        trees.append(root)\n",
    "            memo[n] = trees\n",
    "            return trees\n",
    "        \n",
    "        return generateFBT(n)\n",
    "\n",
    "s = Solution()\n",
    "s.allPossibleFBT(3)"
   ]
  },
  {
   "cell_type": "markdown",
   "id": "1f99c345-698d-46c2-84be-e86eadd0d367",
   "metadata": {
    "jp-MarkdownHeadingCollapsed": true
   },
   "source": [
    "## Easy LeetCode"
   ]
  },
  {
   "cell_type": "markdown",
   "id": "c25f8d89-d068-4bbb-b62f-9366c5fd4300",
   "metadata": {
    "jp-MarkdownHeadingCollapsed": true
   },
   "source": [
    "### Longest Unequal Adjacent Groups Subsequence I\n",
    "Example 1:\n",
    "\n",
    "Input: words = [\"e\",\"a\",\"b\"], groups = [0,0,1]\n",
    "\n",
    "Output: [\"e\",\"b\"]"
   ]
  },
  {
   "cell_type": "code",
   "execution_count": 14,
   "id": "a08507aa-9dec-46c8-9579-303b527bfa17",
   "metadata": {},
   "outputs": [
    {
     "data": {
      "text/plain": [
       "['e', 'b', 'c']"
      ]
     },
     "execution_count": 14,
     "metadata": {},
     "output_type": "execute_result"
    }
   ],
   "source": [
    "class Solution:\n",
    "    def getLongestSubsequence(self, words: List[str], groups: List[int]) -> List[str]:\n",
    "        lst = [words[0]]\n",
    "        old_num = groups[0]\n",
    "\n",
    "        for i in range(len(groups)):\n",
    "            if groups[i] != old_num:\n",
    "                lst.append(words[i])\n",
    "            old_num = groups[i] \n",
    "                \n",
    "        return lst\n",
    "\n",
    "s = Solution()\n",
    "words = ['e', 'a', 'b', 'c']\n",
    "groups = [0, 0, 1, 0]\n",
    "s.getLongestSubsequence(words, groups)"
   ]
  },
  {
   "cell_type": "markdown",
   "id": "f0e3be69-9cfb-4ff9-b344-4a6c91dbff52",
   "metadata": {
    "jp-MarkdownHeadingCollapsed": true
   },
   "source": [
    "### Maximum Repeating Substring\n",
    "Example 1:\n",
    "\n",
    "Input: sequence = \"ababc\", word = \"ab\"\n",
    "\n",
    "Output: 2"
   ]
  },
  {
   "cell_type": "code",
   "execution_count": 15,
   "id": "c09117b5-362e-4209-9a4a-26650db751cb",
   "metadata": {},
   "outputs": [
    {
     "name": "stdout",
     "output_type": "stream",
     "text": [
      "aaaba aaaba 0\n",
      "aaaba |aaab 1\n",
      "aaaba aaab| 1\n",
      "aaaba aab|a 1\n",
      "aaaba ab|aa 1\n",
      "aaaba b|aaa 1\n",
      "aaaba |aaab 1\n",
      "aaaba aaaba 1\n",
      "aaaba |aaab 2\n",
      "aaaba aaaba 2\n",
      "aaaba |aaab 3\n",
      "aaaba aaaba 3\n",
      "aaaba |aaab 4\n",
      "aaaba aaaba 4\n",
      "aaaba |aaab 5\n",
      "aaaba aaaba 5\n",
      "aaaba  6\n"
     ]
    },
    {
     "data": {
      "text/plain": [
       "6"
      ]
     },
     "execution_count": 15,
     "metadata": {},
     "output_type": "execute_result"
    }
   ],
   "source": [
    "class Solution:\n",
    "    def maxRepeating(self, word: str, sequence: str) -> int:\n",
    "        i, j = 0, len(sequence)\n",
    "        count = 0\n",
    "\n",
    "        while i <= len(word):\n",
    "            print(sequence, word[i:i+j], count)\n",
    "            if sequence == word[i:i+j]:\n",
    "                count += 1\n",
    "                i += j\n",
    "            else:\n",
    "                i += 1\n",
    "                \n",
    "        return count\n",
    "\n",
    "s = Solution()\n",
    "a = \"aaaba|aaab|aaaba|aaaba|aaaba|aaaba|aaaba\"\n",
    "b = \"aaaba\"\n",
    "s.maxRepeating(a, b)"
   ]
  },
  {
   "cell_type": "code",
   "execution_count": 16,
   "id": "b8e47289-c02d-4b43-aa50-1587a854a5fe",
   "metadata": {},
   "outputs": [
    {
     "data": {
      "text/plain": [
       "5"
      ]
     },
     "execution_count": 16,
     "metadata": {},
     "output_type": "execute_result"
    }
   ],
   "source": [
    "class Solution:\n",
    "    def maxRepeating(self, sequence: str, word: str) -> int:\n",
    "        count = 0 \n",
    "\n",
    "        while True:\n",
    "            if word * count not in sequence:\n",
    "                return count - 1\n",
    "            count += 1\n",
    "\n",
    "s = Solution()\n",
    "a = \"aaabaaaabaaabaaaabaaaabaaaabaaaaba\"\n",
    "b = \"aaaba\"\n",
    "s.maxRepeating(a, b)"
   ]
  },
  {
   "cell_type": "markdown",
   "id": "5998fcd0-7be7-417f-8ed7-8e67624ff931",
   "metadata": {
    "jp-MarkdownHeadingCollapsed": true
   },
   "source": [
    "### N-th Tribonacci Number\n",
    "Input: n = 4\n",
    "\n",
    "Output: 4\n",
    "\n",
    "Explanation:\n",
    "\n",
    "T_3 = 0 + 1 + 1 = 2\n",
    "\n",
    "T_4 = 1 + 1 + 2 = 4"
   ]
  },
  {
   "cell_type": "code",
   "execution_count": 17,
   "id": "bc79a233-24d0-4c1b-bdeb-d6d2109dcd98",
   "metadata": {},
   "outputs": [],
   "source": [
    "class Solution:\n",
    "    def tribonacci(self, n: int) -> int:\n",
    "        memo = {0: 0, 1: 1, 2: 1}\n",
    "\n",
    "        def get_digit(n):\n",
    "            if n in memo:\n",
    "                return memo[n]\n",
    "            else:\n",
    "                memo[n] = get_digit(n - 1) + get_digit(n - 2) + get_digit(n - 3)\n",
    "                return memo[n]\n",
    "                \n",
    "        return get_digit(n)        "
   ]
  },
  {
   "cell_type": "markdown",
   "id": "9287da24-8761-401b-89ae-55a984e70cf5",
   "metadata": {
    "jp-MarkdownHeadingCollapsed": true
   },
   "source": [
    "### Divisor Game\n",
    "alice and bob. \n",
    "\n",
    "Input: n = 2\n",
    "\n",
    "Output: true\n",
    "\n",
    "note. alice wins i think if there is an even number"
   ]
  },
  {
   "cell_type": "code",
   "execution_count": 18,
   "id": "d4e2f50d-0b91-451d-a77f-a34cd2999dcc",
   "metadata": {},
   "outputs": [],
   "source": [
    "class Solution:\n",
    "    def divisorGame(self, n: int) -> bool:\n",
    "        return n % 2 == 0"
   ]
  },
  {
   "cell_type": "markdown",
   "id": "85e7e9c5-bac2-49be-8863-46687d4b439c",
   "metadata": {
    "jp-MarkdownHeadingCollapsed": true
   },
   "source": [
    "### Min Cost Climbing Stairs\n",
    "Input: cost = [1,100,1,1,1,100,1,1,100,1]\n",
    "\n",
    "Output: 6\n",
    "\n",
    "Input: cost = [10,15,20]\n",
    "\n",
    "Output: 15"
   ]
  },
  {
   "cell_type": "code",
   "execution_count": 19,
   "id": "2334e669-972d-45dd-92c5-8702795b832a",
   "metadata": {},
   "outputs": [
    {
     "data": {
      "text/plain": [
       "1"
      ]
     },
     "execution_count": 19,
     "metadata": {},
     "output_type": "execute_result"
    }
   ],
   "source": [
    "class Solution:\n",
    "    def minCostClimbingStairs(self, cost: List[int]) -> int:\n",
    "        i, j, h = 0, 1, 2\n",
    "        total = 0\n",
    "\n",
    "        while h <= len(cost) - 1:\n",
    "            if cost[i] == cost[h] or cost[j] == cost[h] + cost[i]:\n",
    "                if i == 0:\n",
    "                    total += cost[h] + cost[i]\n",
    "                else:\n",
    "                    total += cost[h]\n",
    "                i += 2\n",
    "                j += 2\n",
    "                h += 2\n",
    "            else:\n",
    "                if cost[i] + cost[h] > cost[j]:\n",
    "                    total += cost[j]\n",
    "                else:\n",
    "                    total += cost[h]\n",
    "                i += 1\n",
    "                j += 1\n",
    "                h += 1\n",
    "\n",
    "        return total\n",
    "\n",
    "s = Solution()\n",
    "cost = [1,100,1,1,1,100,1,1,100,1]\n",
    "cost = [0, 0, 2, 1]\n",
    "# cost = [10, 15, 20]\n",
    "s.minCostClimbingStairs(cost)"
   ]
  },
  {
   "cell_type": "code",
   "execution_count": 20,
   "id": "06b66f2e-6298-4ae4-96ad-295eb294003a",
   "metadata": {},
   "outputs": [
    {
     "name": "stdout",
     "output_type": "stream",
     "text": [
      "[1, 100, 1, 1, 1, 100, 1, 1, 100, 1, 0]\n"
     ]
    },
    {
     "data": {
      "text/plain": [
       "5"
      ]
     },
     "execution_count": 20,
     "metadata": {},
     "output_type": "execute_result"
    }
   ],
   "source": [
    "class Solution:\n",
    "    def minCostClimbingStairs(self, cost: List[int]) -> int:\n",
    "        cost = cost + [0]\n",
    "        print(cost)\n",
    "        i = 0 \n",
    "        total = 0\n",
    "\n",
    "        while i <= len(cost):\n",
    "            j = i + 1\n",
    "            h = i + 2\n",
    "            try: \n",
    "                if cost[j] >= cost[h]:\n",
    "                    total += cost[h]\n",
    "                    i += 2\n",
    "                else:\n",
    "                    if i == 0:\n",
    "                        total = cost[j] + cost[i]\n",
    "                    else:\n",
    "                        total += cost[j]\n",
    "                    i += 1\n",
    "            except:\n",
    "                return total\n",
    "\n",
    "        return total\n",
    "\n",
    "s = Solution()\n",
    "cost = [1,100,1,1,1,100,1,1,100,1]\n",
    "# cost = [0, 0, 2, 1]\n",
    "# cost = [10, 15, 20]\n",
    "s.minCostClimbingStairs(cost)"
   ]
  },
  {
   "cell_type": "code",
   "execution_count": 21,
   "id": "528bf398-342d-4c09-88c0-ccee6ca3f356",
   "metadata": {},
   "outputs": [
    {
     "data": {
      "text/plain": [
       "15"
      ]
     },
     "execution_count": 21,
     "metadata": {},
     "output_type": "execute_result"
    }
   ],
   "source": [
    "class Solution:\n",
    "    def minCostClimbingStairs(self, cost: List[int]) -> int:\n",
    "        cost = cost + [0]\n",
    "        \n",
    "        for i in range(len(cost) - 3, -1, -1):\n",
    "            cost[i] += min(cost[i + 1], cost[i + 2])\n",
    "        \n",
    "        return min(cost[0], cost[1])\n",
    "\n",
    "s = Solution()\n",
    "cost = [1,100,1,1,1,100,1,1,100,1]\n",
    "cost = [0, 0, 2, 1]\n",
    "cost = [10, 15, 20]\n",
    "s.minCostClimbingStairs(cost)"
   ]
  },
  {
   "cell_type": "markdown",
   "id": "8937a1b3-d305-4421-ab50-7519d943523e",
   "metadata": {
    "jp-MarkdownHeadingCollapsed": true
   },
   "source": [
    "### Fibonacci Number\n",
    "Input: n = 2\n",
    "\n",
    "Output: 1"
   ]
  },
  {
   "cell_type": "code",
   "execution_count": 22,
   "id": "b1e37c00-d2f4-4410-8c90-ed0a01f965c6",
   "metadata": {},
   "outputs": [],
   "source": [
    "class Solution:\n",
    "    def fib(self, n: int) -> int:\n",
    "        memo = {0: 0, 1: 1}\n",
    "\n",
    "        def get_digit(n):\n",
    "            if n in memo:\n",
    "                return memo[n]\n",
    "            else:\n",
    "                memo[n] = get_digit(n - 1) + get_digit(n - 2)\n",
    "                return memo[n]\n",
    "                \n",
    "        return get_digit(n)"
   ]
  },
  {
   "cell_type": "markdown",
   "id": "6011ab83-0690-4cf6-8322-8fa73cd2d7f4",
   "metadata": {
    "jp-MarkdownHeadingCollapsed": true
   },
   "source": [
    "### is Subsequence\n",
    "Input: s = \"abc\", t = \"ahbgdc\"\n",
    "\n",
    "Output: true"
   ]
  },
  {
   "cell_type": "code",
   "execution_count": 23,
   "id": "179edd98-70ed-4def-9eb7-f11f5cf292e6",
   "metadata": {},
   "outputs": [
    {
     "data": {
      "text/plain": [
       "True"
      ]
     },
     "execution_count": 23,
     "metadata": {},
     "output_type": "execute_result"
    }
   ],
   "source": [
    "class Solution:\n",
    "    def isSubsequence(self, s: str, t: str) -> bool:\n",
    "        s = list(s)\n",
    "        t = list(t)\n",
    "        fill = [0 for i in range(len(s))]\n",
    "\n",
    "        for i in range(len(t)):\n",
    "            for j in range(len(s)):\n",
    "                if t[i] == s[j]:\n",
    "                    fill[j] = 1\n",
    "                else:\n",
    "                    continue\n",
    "\n",
    "        return all(x == 1 for x in fill)\n",
    "        \n",
    "s = Solution()\n",
    "s.isSubsequence('abc', 'ahbgdc')\n",
    "s.isSubsequence('acb', 'ahbgdc')"
   ]
  },
  {
   "cell_type": "code",
   "execution_count": 24,
   "id": "bd699244-3978-4c3b-9fdd-6eb56533a478",
   "metadata": {},
   "outputs": [
    {
     "data": {
      "text/plain": [
       "False"
      ]
     },
     "execution_count": 24,
     "metadata": {},
     "output_type": "execute_result"
    }
   ],
   "source": [
    "class Solution:\n",
    "    def isSubsequence(self, s: str, t: str) -> bool:\n",
    "        s = list(s)\n",
    "        t = list(t)\n",
    "        now_j = 0\n",
    "        fill = [0 for i in range(len(s))]\n",
    "\n",
    "        for i in range(len(t)):\n",
    "            for j in range(len(s)):\n",
    "                if t[i] == s[j] and fill[j] == 0:\n",
    "                    fill[j] = 1\n",
    "                    now_j += 1\n",
    "                elif fill[j] == 0 and now_j > j:\n",
    "                    fill[j] = 2\n",
    "\n",
    "        return all(x == 1 for x in fill)\n",
    "        \n",
    "s = Solution()\n",
    "s.isSubsequence('acb', 'ahbgdc')"
   ]
  },
  {
   "cell_type": "code",
   "execution_count": 25,
   "id": "757a7a0e-2815-4417-bc4c-0a12d9a277d8",
   "metadata": {
    "scrolled": true
   },
   "outputs": [
    {
     "name": "stdout",
     "output_type": "stream",
     "text": [
      "c ['b', 'c'] [1, 0, 0]\n",
      "b ['c'] [1, 1, 0]\n",
      "a ['c'] [1, 1, 0]\n"
     ]
    },
    {
     "data": {
      "text/plain": [
       "False"
      ]
     },
     "execution_count": 25,
     "metadata": {},
     "output_type": "execute_result"
    }
   ],
   "source": [
    "class Solution:\n",
    "    def isSubsequence(self, s: str, t: str) -> bool:\n",
    "        s = list(s)\n",
    "        t = list(t)\n",
    "        fill = [0 for i in range(len(s))]\n",
    "        idx = 0\n",
    "\n",
    "        for char in t:\n",
    "            if char in s[idx:]:\n",
    "                fill[idx] = 1\n",
    "                idx += 1\n",
    "            print(char, s[idx:], fill)\n",
    "\n",
    "        return all(x == 1 for x in fill)\n",
    "\n",
    "s = Solution()\n",
    "s.isSubsequence('abc', 'cba')"
   ]
  },
  {
   "cell_type": "code",
   "execution_count": 26,
   "id": "87b3c2be-32e5-4d00-abf5-fce16ce91303",
   "metadata": {
    "scrolled": true
   },
   "outputs": [
    {
     "data": {
      "text/plain": [
       "False"
      ]
     },
     "execution_count": 26,
     "metadata": {},
     "output_type": "execute_result"
    }
   ],
   "source": [
    "class Solution:\n",
    "    def isSubsequence(self, s: str, t: str) -> bool:\n",
    "        i, j = 0, 0\n",
    "        fill = [0 for i in range(len(s))]\n",
    "\n",
    "        while i < len(s) and j < len(t):\n",
    "            if s[i] == t[j]:\n",
    "                fill[i] = 1\n",
    "                i += 1\n",
    "            j += 1\n",
    "            \n",
    "        return all(x == 1 for x in fill)\n",
    "\n",
    "s = Solution()\n",
    "# s.isSubsequence('abc', 'zacxbx')\n",
    "s.isSubsequence('abc', 'ahbdcg')\n",
    "s.isSubsequence('aaaaaa', 'bbaaaa')"
   ]
  },
  {
   "cell_type": "code",
   "execution_count": 27,
   "id": "0c5ccb7d-e0ff-4ac8-9abc-1dee8bb3f944",
   "metadata": {
    "scrolled": true
   },
   "outputs": [
    {
     "data": {
      "text/plain": [
       "False"
      ]
     },
     "execution_count": 27,
     "metadata": {},
     "output_type": "execute_result"
    }
   ],
   "source": [
    "class Solution:\n",
    "    def isSubsequence(self, s: str, t: str) -> bool:\n",
    "        i, j = 0, 0\n",
    "        fill = [0 for i in range(len(s))]\n",
    "\n",
    "        while i < len(s) and j < len(t):\n",
    "            if s[i] == t[j]:\n",
    "                fill[i] = 1\n",
    "                i += 1\n",
    "            j += 1\n",
    "            \n",
    "        return True if i == len(s) else False\n",
    "\n",
    "s = Solution()\n",
    "# s.isSubsequence('abc', 'zacxbx')\n",
    "s.isSubsequence('abc', 'ahbdcg')\n",
    "s.isSubsequence('aaaaaa', 'bbaaaa')"
   ]
  },
  {
   "cell_type": "markdown",
   "id": "780050c6-92cf-4d7b-beed-e707b89586f7",
   "metadata": {
    "jp-MarkdownHeadingCollapsed": true
   },
   "source": [
    "### Counting Bits\n",
    "Input: n = 2\n",
    "\n",
    "Output: [0,1,1]"
   ]
  },
  {
   "cell_type": "code",
   "execution_count": 28,
   "id": "82da4750-ec48-49ee-b1fc-7ff455e357d1",
   "metadata": {},
   "outputs": [
    {
     "data": {
      "text/plain": [
       "[0]"
      ]
     },
     "execution_count": 28,
     "metadata": {},
     "output_type": "execute_result"
    }
   ],
   "source": [
    "class Solution:\n",
    "    def countBits(self, n: int) -> List[int]:\n",
    "        memo = {0: 0}\n",
    "        \n",
    "        def get_binary(n):\n",
    "            if n in memo:\n",
    "                return list(memo.values())\n",
    "            else:\n",
    "                for i in range(n + 1):\n",
    "                    if i in memo:\n",
    "                        continue\n",
    "                    else:\n",
    "                        memo[i] = i.bit_count()\n",
    "                return list(memo.values())\n",
    "\n",
    "        return get_binary(n)  \n",
    "\n",
    "s = Solution()\n",
    "num = 0\n",
    "s.countBits(num)"
   ]
  },
  {
   "cell_type": "code",
   "execution_count": 29,
   "id": "e236cc75-41bd-4231-9c52-86e0205c558c",
   "metadata": {},
   "outputs": [
    {
     "name": "stdout",
     "output_type": "stream",
     "text": [
      "0 <class 'int'>\n",
      "1 <class 'int'>\n",
      "2 <class 'int'>\n",
      "3 <class 'int'>\n",
      "4 <class 'int'>\n"
     ]
    }
   ],
   "source": [
    "for i in range(5):\n",
    "    print(i, type(i))"
   ]
  },
  {
   "cell_type": "code",
   "execution_count": 30,
   "id": "50217816-dba4-496b-932f-8d7756871d69",
   "metadata": {},
   "outputs": [
    {
     "data": {
      "text/plain": [
       "[12, 14, 15]"
      ]
     },
     "execution_count": 30,
     "metadata": {},
     "output_type": "execute_result"
    }
   ],
   "source": [
    "abc123 = {1: 12, 2:14}\n",
    "abc123[3] = 15\n",
    "list(abc123.values())"
   ]
  },
  {
   "cell_type": "code",
   "execution_count": 31,
   "id": "e581b8e1-0e45-453a-8ba6-3935b4a70724",
   "metadata": {},
   "outputs": [
    {
     "data": {
      "text/plain": [
       "2"
      ]
     },
     "execution_count": 31,
     "metadata": {},
     "output_type": "execute_result"
    }
   ],
   "source": [
    "num = 3\n",
    "num.bit_count()"
   ]
  },
  {
   "cell_type": "markdown",
   "id": "82fcc751-bb33-44a8-8e4d-7724492e6113",
   "metadata": {
    "jp-MarkdownHeadingCollapsed": true
   },
   "source": [
    "### Best Time to Buy and Sell Stock\n",
    "input: [7,1,5,3,6,4]\n",
    "\n",
    "output: 5"
   ]
  },
  {
   "cell_type": "code",
   "execution_count": 32,
   "id": "2e6276d1-5afc-4b26-852e-b4fb660aad5a",
   "metadata": {
    "scrolled": true
   },
   "outputs": [
    {
     "data": {
      "text/plain": [
       "5"
      ]
     },
     "execution_count": 32,
     "metadata": {},
     "output_type": "execute_result"
    }
   ],
   "source": [
    "class Solution:\n",
    "    def maxProfit(self, prices: List[int]) -> int:\n",
    "        buy, sell = 0, 0\n",
    "        profit, max_profit = 0, 0\n",
    "    \n",
    "        for i in range(len(prices)):\n",
    "            buy = prices[i]\n",
    "            for j in range(i, len(prices)):\n",
    "                sell = prices[j]\n",
    "                profit = sell - buy\n",
    "                \n",
    "                if profit >= max_profit:\n",
    "                    max_profit = profit\n",
    "                else:\n",
    "                    continue\n",
    "                    \n",
    "        return max_profit\n",
    "\n",
    "prices =  [7,1,5,3,6,4]\n",
    "s = Solution()\n",
    "s.maxProfit(prices)"
   ]
  },
  {
   "cell_type": "code",
   "execution_count": 33,
   "id": "5032a4e9-e4fe-47bb-b965-d9a11c678704",
   "metadata": {
    "scrolled": true
   },
   "outputs": [
    {
     "data": {
      "text/plain": [
       "5"
      ]
     },
     "execution_count": 33,
     "metadata": {},
     "output_type": "execute_result"
    }
   ],
   "source": [
    "class Solution:\n",
    "    def maxProfit(self, prices: List[int]) -> int:\n",
    "        buy = float(\"inf\")\n",
    "        profit = 0\n",
    "        \n",
    "        for price in prices:\n",
    "            if price < buy:\n",
    "                buy = price\n",
    "            elif price - buy > profit:\n",
    "                profit = price - buy\n",
    "                    \n",
    "        return profit\n",
    "\n",
    "prices =  [7,1,5,3,6,4]\n",
    "s = Solution()\n",
    "s.maxProfit(prices)"
   ]
  },
  {
   "cell_type": "code",
   "execution_count": null,
   "id": "4f6d67fe-ad41-46fa-a0cb-102c7946eda7",
   "metadata": {},
   "outputs": [],
   "source": []
  }
 ],
 "metadata": {
  "kernelspec": {
   "display_name": "Python 3 (ipykernel)",
   "language": "python",
   "name": "python3"
  },
  "language_info": {
   "codemirror_mode": {
    "name": "ipython",
    "version": 3
   },
   "file_extension": ".py",
   "mimetype": "text/x-python",
   "name": "python",
   "nbconvert_exporter": "python",
   "pygments_lexer": "ipython3",
   "version": "3.13.6"
  }
 },
 "nbformat": 4,
 "nbformat_minor": 5
}
