{
 "cells": [
  {
   "cell_type": "markdown",
   "id": "b3d47ba3-58c3-4100-8c4b-c4792c38f493",
   "metadata": {},
   "source": [
    "This notebook was created by Donna Faith Go."
   ]
  },
  {
   "cell_type": "markdown",
   "id": "ecedef1e-e997-48e0-99f2-f19fd88496c7",
   "metadata": {},
   "source": [
    "## LeetCode"
   ]
  },
  {
   "cell_type": "markdown",
   "id": "f34358f4-dd54-4e30-97b1-bdcee77500e4",
   "metadata": {},
   "source": [
    "### is Subsequence\n",
    "Input: s = \"abc\", t = \"ahbgdc\"\n",
    "\n",
    "Output: true"
   ]
  },
  {
   "cell_type": "code",
   "execution_count": 52,
   "id": "179edd98-70ed-4def-9eb7-f11f5cf292e6",
   "metadata": {},
   "outputs": [
    {
     "data": {
      "text/plain": [
       "True"
      ]
     },
     "execution_count": 52,
     "metadata": {},
     "output_type": "execute_result"
    }
   ],
   "source": [
    "class Solution:\n",
    "    def isSubsequence(self, s: str, t: str) -> bool:\n",
    "        s = list(s)\n",
    "        t = list(t)\n",
    "        fill = [0 for i in range(len(s))]\n",
    "\n",
    "        for i in range(len(t)):\n",
    "            for j in range(len(s)):\n",
    "                if t[i] == s[j]:\n",
    "                    fill[j] = 1\n",
    "                else:\n",
    "                    continue\n",
    "\n",
    "        return all(x == 1 for x in fill)\n",
    "        \n",
    "s = Solution()\n",
    "s.isSubsequence('abc', 'ahbgdc')"
   ]
  },
  {
   "cell_type": "code",
   "execution_count": 45,
   "id": "bd699244-3978-4c3b-9fdd-6eb56533a478",
   "metadata": {},
   "outputs": [
    {
     "data": {
      "text/plain": [
       "False"
      ]
     },
     "execution_count": 45,
     "metadata": {},
     "output_type": "execute_result"
    }
   ],
   "source": [
    "class Solution:\n",
    "    def isSubsequence(self, s: str, t: str) -> bool:\n",
    "        s = list(s)\n",
    "        t = list(t)\n",
    "        now_j = 0\n",
    "        fill = [0 for i in range(len(s))]\n",
    "\n",
    "        for i in range(len(t)):\n",
    "            for j in range(len(s)):\n",
    "                if t[i] == s[j] and fill[j] == 0:\n",
    "                    fill[j] = 1\n",
    "                    now_j += 1\n",
    "                elif fill[j] == 0 and now_j > j:\n",
    "                    fill[j] = 2\n",
    "\n",
    "        return all(x == 1 for x in fill)\n",
    "        \n",
    "s = Solution()\n",
    "s.isSubsequence('acb', 'ahbgdc')"
   ]
  },
  {
   "cell_type": "code",
   "execution_count": 72,
   "id": "757a7a0e-2815-4417-bc4c-0a12d9a277d8",
   "metadata": {
    "scrolled": true
   },
   "outputs": [
    {
     "name": "stdout",
     "output_type": "stream",
     "text": [
      "c ['b', 'c'] [1, 0, 0]\n",
      "b ['c'] [1, 1, 0]\n",
      "a ['c'] [1, 1, 0]\n"
     ]
    },
    {
     "data": {
      "text/plain": [
       "False"
      ]
     },
     "execution_count": 72,
     "metadata": {},
     "output_type": "execute_result"
    }
   ],
   "source": [
    "class Solution:\n",
    "    def isSubsequence(self, s: str, t: str) -> bool:\n",
    "        s = list(s)\n",
    "        t = list(t)\n",
    "        fill = [0 for i in range(len(s))]\n",
    "        idx = 0\n",
    "\n",
    "        for char in t:\n",
    "            if char in s[idx:]:\n",
    "                fill[idx] = 1\n",
    "                idx += 1\n",
    "            print(char, s[idx:], fill)\n",
    "\n",
    "        return all(x == 1 for x in fill)\n",
    "\n",
    "s = Solution()\n",
    "s.isSubsequence('abc', 'cba')"
   ]
  },
  {
   "cell_type": "code",
   "execution_count": 80,
   "id": "29da5d2d-6903-441f-9c66-d32ead80fbd2",
   "metadata": {
    "scrolled": true
   },
   "outputs": [
    {
     "name": "stdout",
     "output_type": "stream",
     "text": [
      "a h [1, 0, 0]\n",
      "b b [1, 0, 0]\n",
      "c d [1, 0, 0]\n"
     ]
    },
    {
     "data": {
      "text/plain": [
       "False"
      ]
     },
     "execution_count": 80,
     "metadata": {},
     "output_type": "execute_result"
    }
   ],
   "source": [
    "class Solution:\n",
    "    def isSubsequence(self, s: str, t: str) -> bool:\n",
    "        s = list(s)\n",
    "        t = list(t)\n",
    "        fill = [0 for i in range(len(s))]\n",
    "        idx, idx2 = 0, 0\n",
    "\n",
    "        for char in s:\n",
    "            if char in t[idx2]:\n",
    "                fill[idx] = 1\n",
    "            idx2 += 1\n",
    "            print(char, t[idx2], fill)\n",
    "\n",
    "        return all(x == 1 for x in fill)\n",
    "\n",
    "s = Solution()\n",
    "# s.isSubsequence('abc', 'zacxbx')\n",
    "s.isSubsequence('abc', 'ahbdcg')"
   ]
  },
  {
   "cell_type": "markdown",
   "id": "780050c6-92cf-4d7b-beed-e707b89586f7",
   "metadata": {
    "jp-MarkdownHeadingCollapsed": true
   },
   "source": [
    "### Counting Bits\n",
    "Input: n = 2\n",
    "\n",
    "Output: [0,1,1]"
   ]
  },
  {
   "cell_type": "code",
   "execution_count": 98,
   "id": "82da4750-ec48-49ee-b1fc-7ff455e357d1",
   "metadata": {},
   "outputs": [
    {
     "data": {
      "text/plain": [
       "[0]"
      ]
     },
     "execution_count": 98,
     "metadata": {},
     "output_type": "execute_result"
    }
   ],
   "source": [
    "class Solution:\n",
    "    def countBits(self, n: int) -> List[int]:\n",
    "        memo = {0: 0}\n",
    "        \n",
    "        def get_binary(n):\n",
    "            if n in memo:\n",
    "                return list(memo.values())\n",
    "            else:\n",
    "                for i in range(n + 1):\n",
    "                    if i in memo:\n",
    "                        continue\n",
    "                    else:\n",
    "                        memo[i] = i.bit_count()\n",
    "                return list(memo.values())\n",
    "\n",
    "        return get_binary(n)  \n",
    "\n",
    "s = Solution()\n",
    "num = 0\n",
    "s.countBits(num)"
   ]
  },
  {
   "cell_type": "code",
   "execution_count": 86,
   "id": "e236cc75-41bd-4231-9c52-86e0205c558c",
   "metadata": {},
   "outputs": [
    {
     "name": "stdout",
     "output_type": "stream",
     "text": [
      "0 <class 'int'>\n",
      "1 <class 'int'>\n",
      "2 <class 'int'>\n",
      "3 <class 'int'>\n",
      "4 <class 'int'>\n"
     ]
    }
   ],
   "source": [
    "for i in range(5):\n",
    "    print(i, type(i))"
   ]
  },
  {
   "cell_type": "code",
   "execution_count": 90,
   "id": "50217816-dba4-496b-932f-8d7756871d69",
   "metadata": {},
   "outputs": [
    {
     "data": {
      "text/plain": [
       "[12, 14, 15]"
      ]
     },
     "execution_count": 90,
     "metadata": {},
     "output_type": "execute_result"
    }
   ],
   "source": [
    "abc123 = {1: 12, 2:14}\n",
    "abc123[3] = 15\n",
    "list(abc123.values())"
   ]
  },
  {
   "cell_type": "code",
   "execution_count": 72,
   "id": "e581b8e1-0e45-453a-8ba6-3935b4a70724",
   "metadata": {},
   "outputs": [
    {
     "data": {
      "text/plain": [
       "2"
      ]
     },
     "execution_count": 72,
     "metadata": {},
     "output_type": "execute_result"
    }
   ],
   "source": [
    "num = 3\n",
    "num.bit_count()"
   ]
  },
  {
   "cell_type": "markdown",
   "id": "82fcc751-bb33-44a8-8e4d-7724492e6113",
   "metadata": {
    "jp-MarkdownHeadingCollapsed": true
   },
   "source": [
    "### Best Time to Buy and Sell Stock\n",
    "input: [7,1,5,3,6,4]\n",
    "\n",
    "output: 5"
   ]
  },
  {
   "cell_type": "code",
   "execution_count": 3,
   "id": "2e6276d1-5afc-4b26-852e-b4fb660aad5a",
   "metadata": {
    "scrolled": true
   },
   "outputs": [
    {
     "data": {
      "text/plain": [
       "5"
      ]
     },
     "execution_count": 3,
     "metadata": {},
     "output_type": "execute_result"
    }
   ],
   "source": [
    "from typing import List\n",
    "\n",
    "class Solution:\n",
    "    def maxProfit(self, prices: List[int]) -> int:\n",
    "        buy, sell = 0, 0\n",
    "        profit, max_profit = 0, 0\n",
    "    \n",
    "        for i in range(len(prices)):\n",
    "            buy = prices[i]\n",
    "            for j in range(i, len(prices)):\n",
    "                sell = prices[j]\n",
    "                profit = sell - buy\n",
    "                \n",
    "                if profit >= max_profit:\n",
    "                    max_profit = profit\n",
    "                else:\n",
    "                    continue\n",
    "                    \n",
    "        return max_profit\n",
    "\n",
    "prices =  [7,1,5,3,6,4]\n",
    "s = Solution()\n",
    "s.maxProfit(prices)"
   ]
  },
  {
   "cell_type": "code",
   "execution_count": 59,
   "id": "5032a4e9-e4fe-47bb-b965-d9a11c678704",
   "metadata": {
    "scrolled": true
   },
   "outputs": [
    {
     "data": {
      "text/plain": [
       "5"
      ]
     },
     "execution_count": 59,
     "metadata": {},
     "output_type": "execute_result"
    }
   ],
   "source": [
    "from typing import List\n",
    "\n",
    "class Solution:\n",
    "    def maxProfit(self, prices: List[int]) -> int:\n",
    "        buy = float(\"inf\")\n",
    "        profit = 0\n",
    "        \n",
    "        for price in prices:\n",
    "            if price < buy:\n",
    "                buy = price\n",
    "            elif price - buy > profit:\n",
    "                profit = price - buy\n",
    "                    \n",
    "        return profit\n",
    "\n",
    "prices =  [7,1,5,3,6,4]\n",
    "s = Solution()\n",
    "s.maxProfit(prices)"
   ]
  },
  {
   "cell_type": "code",
   "execution_count": null,
   "id": "4f6d67fe-ad41-46fa-a0cb-102c7946eda7",
   "metadata": {},
   "outputs": [],
   "source": []
  }
 ],
 "metadata": {
  "kernelspec": {
   "display_name": "Python 3 (ipykernel)",
   "language": "python",
   "name": "python3"
  },
  "language_info": {
   "codemirror_mode": {
    "name": "ipython",
    "version": 3
   },
   "file_extension": ".py",
   "mimetype": "text/x-python",
   "name": "python",
   "nbconvert_exporter": "python",
   "pygments_lexer": "ipython3",
   "version": "3.13.6"
  }
 },
 "nbformat": 4,
 "nbformat_minor": 5
}
