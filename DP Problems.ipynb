{
 "cells": [
  {
   "cell_type": "markdown",
   "id": "b3d47ba3-58c3-4100-8c4b-c4792c38f493",
   "metadata": {},
   "source": [
    "This notebook was created by Donna Faith Go."
   ]
  },
  {
   "cell_type": "markdown",
   "id": "ecedef1e-e997-48e0-99f2-f19fd88496c7",
   "metadata": {},
   "source": [
    "## LeetCode"
   ]
  },
  {
   "cell_type": "markdown",
   "id": "f34358f4-dd54-4e30-97b1-bdcee77500e4",
   "metadata": {},
   "source": [
    "### Counting Bits\n",
    "Input: n = 2\n",
    "\n",
    "Output: [0,1,1]"
   ]
  },
  {
   "cell_type": "code",
   "execution_count": 98,
   "id": "82da4750-ec48-49ee-b1fc-7ff455e357d1",
   "metadata": {},
   "outputs": [
    {
     "data": {
      "text/plain": [
       "[0]"
      ]
     },
     "execution_count": 98,
     "metadata": {},
     "output_type": "execute_result"
    }
   ],
   "source": [
    "class Solution:\n",
    "    def countBits(self, n: int) -> List[int]:\n",
    "        memo = {0: 0}\n",
    "        \n",
    "        def get_binary(n):\n",
    "            if n in memo:\n",
    "                return list(memo.values())\n",
    "            else:\n",
    "                for i in range(n + 1):\n",
    "                    if i in memo:\n",
    "                        continue\n",
    "                    else:\n",
    "                        memo[i] = i.bit_count()\n",
    "                return list(memo.values())\n",
    "\n",
    "        return get_binary(n)  \n",
    "\n",
    "s = Solution()\n",
    "num = 0\n",
    "s.countBits(num)"
   ]
  },
  {
   "cell_type": "code",
   "execution_count": 86,
   "id": "e236cc75-41bd-4231-9c52-86e0205c558c",
   "metadata": {},
   "outputs": [
    {
     "name": "stdout",
     "output_type": "stream",
     "text": [
      "0 <class 'int'>\n",
      "1 <class 'int'>\n",
      "2 <class 'int'>\n",
      "3 <class 'int'>\n",
      "4 <class 'int'>\n"
     ]
    }
   ],
   "source": [
    "for i in range(5):\n",
    "    print(i, type(i))"
   ]
  },
  {
   "cell_type": "code",
   "execution_count": 90,
   "id": "50217816-dba4-496b-932f-8d7756871d69",
   "metadata": {},
   "outputs": [
    {
     "data": {
      "text/plain": [
       "[12, 14, 15]"
      ]
     },
     "execution_count": 90,
     "metadata": {},
     "output_type": "execute_result"
    }
   ],
   "source": [
    "abc123 = {1: 12, 2:14}\n",
    "abc123[3] = 15\n",
    "list(abc123.values())"
   ]
  },
  {
   "cell_type": "code",
   "execution_count": 72,
   "id": "e581b8e1-0e45-453a-8ba6-3935b4a70724",
   "metadata": {},
   "outputs": [
    {
     "data": {
      "text/plain": [
       "2"
      ]
     },
     "execution_count": 72,
     "metadata": {},
     "output_type": "execute_result"
    }
   ],
   "source": [
    "num = 3\n",
    "num.bit_count()"
   ]
  },
  {
   "cell_type": "markdown",
   "id": "82fcc751-bb33-44a8-8e4d-7724492e6113",
   "metadata": {
    "jp-MarkdownHeadingCollapsed": true
   },
   "source": [
    "### Best Time to Buy and Sell Stock\n",
    "input: [7,1,5,3,6,4]\n",
    "\n",
    "output: 5"
   ]
  },
  {
   "cell_type": "code",
   "execution_count": 3,
   "id": "2e6276d1-5afc-4b26-852e-b4fb660aad5a",
   "metadata": {
    "scrolled": true
   },
   "outputs": [
    {
     "data": {
      "text/plain": [
       "5"
      ]
     },
     "execution_count": 3,
     "metadata": {},
     "output_type": "execute_result"
    }
   ],
   "source": [
    "from typing import List\n",
    "\n",
    "class Solution:\n",
    "    def maxProfit(self, prices: List[int]) -> int:\n",
    "        buy, sell = 0, 0\n",
    "        profit, max_profit = 0, 0\n",
    "    \n",
    "        for i in range(len(prices)):\n",
    "            buy = prices[i]\n",
    "            for j in range(i, len(prices)):\n",
    "                sell = prices[j]\n",
    "                profit = sell - buy\n",
    "                \n",
    "                if profit >= max_profit:\n",
    "                    max_profit = profit\n",
    "                else:\n",
    "                    continue\n",
    "                    \n",
    "        return max_profit\n",
    "\n",
    "prices =  [7,1,5,3,6,4]\n",
    "s = Solution()\n",
    "s.maxProfit(prices)"
   ]
  },
  {
   "cell_type": "code",
   "execution_count": 59,
   "id": "5032a4e9-e4fe-47bb-b965-d9a11c678704",
   "metadata": {
    "scrolled": true
   },
   "outputs": [
    {
     "data": {
      "text/plain": [
       "5"
      ]
     },
     "execution_count": 59,
     "metadata": {},
     "output_type": "execute_result"
    }
   ],
   "source": [
    "from typing import List\n",
    "\n",
    "class Solution:\n",
    "    def maxProfit(self, prices: List[int]) -> int:\n",
    "        buy = float(\"inf\")\n",
    "        profit = 0\n",
    "        \n",
    "        for price in prices:\n",
    "            if price < buy:\n",
    "                buy = price\n",
    "            elif price - buy > profit:\n",
    "                profit = price - buy\n",
    "                    \n",
    "        return profit\n",
    "\n",
    "prices =  [7,1,5,3,6,4]\n",
    "s = Solution()\n",
    "s.maxProfit(prices)"
   ]
  },
  {
   "cell_type": "code",
   "execution_count": null,
   "id": "4f6d67fe-ad41-46fa-a0cb-102c7946eda7",
   "metadata": {},
   "outputs": [],
   "source": []
  }
 ],
 "metadata": {
  "kernelspec": {
   "display_name": "Python 3 (ipykernel)",
   "language": "python",
   "name": "python3"
  },
  "language_info": {
   "codemirror_mode": {
    "name": "ipython",
    "version": 3
   },
   "file_extension": ".py",
   "mimetype": "text/x-python",
   "name": "python",
   "nbconvert_exporter": "python",
   "pygments_lexer": "ipython3",
   "version": "3.13.6"
  }
 },
 "nbformat": 4,
 "nbformat_minor": 5
}
