{
 "cells": [
  {
   "cell_type": "markdown",
   "id": "b3d47ba3-58c3-4100-8c4b-c4792c38f493",
   "metadata": {},
   "source": [
    "This notebook was created by Donna Faith Go."
   ]
  },
  {
   "cell_type": "markdown",
   "id": "ecedef1e-e997-48e0-99f2-f19fd88496c7",
   "metadata": {},
   "source": [
    "## Imports"
   ]
  },
  {
   "cell_type": "code",
   "execution_count": 24,
   "id": "97963d34-988a-4579-bb29-2e03221cb7cf",
   "metadata": {},
   "outputs": [],
   "source": [
    "from typing import List, Optional\n",
    "import math"
   ]
  },
  {
   "cell_type": "markdown",
   "id": "6b88e1c7-671b-477d-b760-6a2aa5c41f7f",
   "metadata": {},
   "source": [
    "## Medium LeetCode"
   ]
  },
  {
   "cell_type": "markdown",
   "id": "f34358f4-dd54-4e30-97b1-bdcee77500e4",
   "metadata": {},
   "source": [
    "### All Possible Full Binary Trees\n",
    "Input: 7\n",
    "\n",
    "Output: [[0,0,0,null,null,0,0,null,null,0,0],[0,0,0,null,null,0,0,0,0],[0,0,0,0,0,0,0],[0,0,0,0,0,null,null,null,null,0,0],[0,0,0,0,0,null,null,0,0]]\n"
   ]
  },
  {
   "cell_type": "code",
   "execution_count": 35,
   "id": "0d9b85bc-da57-4f1a-8053-9d0a20fd226a",
   "metadata": {},
   "outputs": [
    {
     "name": "stdout",
     "output_type": "stream",
     "text": [
      "[[0, 0, 0]]\n"
     ]
    }
   ],
   "source": [
    "class Solution:\n",
    "    def allPossibleFBT(self, n: int) -> List[List[Optional[int]]]:\n",
    "        memo = {3: [[0, 0, 0]]}\n",
    "        i_prev = 1\n",
    "        possible_combinations = []\n",
    "        \n",
    "        def add_nodes(n):\n",
    "            for i in range(1, n+1):\n",
    "                if i % 2 != 0 and i > 1:\n",
    "                    if i in memo:\n",
    "                        return memo[i]\n",
    "                    else: \n",
    "                        \n",
    "        \n",
    "        return add_nodes(n)\n",
    "\n",
    "s = Solution()\n",
    "print(s.allPossibleFBT(3))"
   ]
  },
  {
   "cell_type": "code",
   "execution_count": 38,
   "id": "7dd22722-b6a6-464c-ab0d-3792ffa9909c",
   "metadata": {
    "scrolled": true
   },
   "outputs": [
    {
     "data": {
      "text/plain": [
       "[<__main__.TreeNode at 0x1b48e085810>]"
      ]
     },
     "execution_count": 38,
     "metadata": {},
     "output_type": "execute_result"
    }
   ],
   "source": [
    "class TreeNode:\n",
    "    def __init__(self, val=0, left=None, right=None):\n",
    "        self.val = val\n",
    "        self.left = left\n",
    "        self.right = right\n",
    "\n",
    "class Solution:\n",
    "    def allPossibleFBT(self, n: int) -> List[List[Optional[int]]]:\n",
    "        if n % 2 == 0:\n",
    "            return []\n",
    "        \n",
    "        memo = {}\n",
    "\n",
    "        def generateFBT(n):\n",
    "            if n == 1:\n",
    "                return [TreeNode(0)]\n",
    "            if n in memo:\n",
    "                return memo [n]\n",
    "\n",
    "            trees = []\n",
    "            for left in range(1, n, 2):\n",
    "                left_subtrees = generateFBT(left)\n",
    "                right_subtrees = generateFBT(n - left - 1)\n",
    "\n",
    "                for l in left_subtrees:\n",
    "                    for r in right_subtrees:\n",
    "                        root = TreeNode(0, l, r)\n",
    "                        trees.append(root)\n",
    "            memo[n] = trees\n",
    "            return trees\n",
    "        \n",
    "        return generateFBT(n)\n",
    "\n",
    "s = Solution()\n",
    "s.allPossibleFBT(3)"
   ]
  },
  {
   "cell_type": "markdown",
   "id": "1f99c345-698d-46c2-84be-e86eadd0d367",
   "metadata": {
    "jp-MarkdownHeadingCollapsed": true
   },
   "source": [
    "## Easy LeetCode"
   ]
  },
  {
   "cell_type": "markdown",
   "id": "c25f8d89-d068-4bbb-b62f-9366c5fd4300",
   "metadata": {
    "jp-MarkdownHeadingCollapsed": true
   },
   "source": [
    "### Longest Unequal Adjacent Groups Subsequence I\n",
    "Example 1:\n",
    "\n",
    "Input: words = [\"e\",\"a\",\"b\"], groups = [0,0,1]\n",
    "\n",
    "Output: [\"e\",\"b\"]"
   ]
  },
  {
   "cell_type": "code",
   "execution_count": 2,
   "id": "a08507aa-9dec-46c8-9579-303b527bfa17",
   "metadata": {},
   "outputs": [
    {
     "data": {
      "text/plain": [
       "['e', 'b', 'c']"
      ]
     },
     "execution_count": 2,
     "metadata": {},
     "output_type": "execute_result"
    }
   ],
   "source": [
    "class Solution:\n",
    "    def getLongestSubsequence(self, words: List[str], groups: List[int]) -> List[str]:\n",
    "        lst = [words[0]]\n",
    "        old_num = groups[0]\n",
    "\n",
    "        for i in range(len(groups)):\n",
    "            if groups[i] != old_num:\n",
    "                lst.append(words[i])\n",
    "            old_num = groups[i] \n",
    "                \n",
    "        return lst\n",
    "\n",
    "s = Solution()\n",
    "words = ['e', 'a', 'b', 'c']\n",
    "groups = [0, 0, 1, 0]\n",
    "s.getLongestSubsequence(words, groups)"
   ]
  },
  {
   "cell_type": "markdown",
   "id": "f0e3be69-9cfb-4ff9-b344-4a6c91dbff52",
   "metadata": {
    "jp-MarkdownHeadingCollapsed": true
   },
   "source": [
    "### Maximum Repeating Substring\n",
    "Example 1:\n",
    "\n",
    "Input: sequence = \"ababc\", word = \"ab\"\n",
    "\n",
    "Output: 2"
   ]
  },
  {
   "cell_type": "code",
   "execution_count": 3,
   "id": "c09117b5-362e-4209-9a4a-26650db751cb",
   "metadata": {},
   "outputs": [
    {
     "name": "stdout",
     "output_type": "stream",
     "text": [
      "aaaba aaaba 0\n",
      "aaaba |aaab 1\n",
      "aaaba aaab| 1\n",
      "aaaba aab|a 1\n",
      "aaaba ab|aa 1\n",
      "aaaba b|aaa 1\n",
      "aaaba |aaab 1\n",
      "aaaba aaaba 1\n",
      "aaaba |aaab 2\n",
      "aaaba aaaba 2\n",
      "aaaba |aaab 3\n",
      "aaaba aaaba 3\n",
      "aaaba |aaab 4\n",
      "aaaba aaaba 4\n",
      "aaaba |aaab 5\n",
      "aaaba aaaba 5\n",
      "aaaba  6\n"
     ]
    },
    {
     "data": {
      "text/plain": [
       "6"
      ]
     },
     "execution_count": 3,
     "metadata": {},
     "output_type": "execute_result"
    }
   ],
   "source": [
    "class Solution:\n",
    "    def maxRepeating(self, word: str, sequence: str) -> int:\n",
    "        i, j = 0, len(sequence)\n",
    "        count = 0\n",
    "\n",
    "        while i <= len(word):\n",
    "            print(sequence, word[i:i+j], count)\n",
    "            if sequence == word[i:i+j]:\n",
    "                count += 1\n",
    "                i += j\n",
    "            else:\n",
    "                i += 1\n",
    "                \n",
    "        return count\n",
    "\n",
    "s = Solution()\n",
    "a = \"aaaba|aaab|aaaba|aaaba|aaaba|aaaba|aaaba\"\n",
    "b = \"aaaba\"\n",
    "s.maxRepeating(a, b)"
   ]
  },
  {
   "cell_type": "code",
   "execution_count": 4,
   "id": "b8e47289-c02d-4b43-aa50-1587a854a5fe",
   "metadata": {},
   "outputs": [
    {
     "data": {
      "text/plain": [
       "5"
      ]
     },
     "execution_count": 4,
     "metadata": {},
     "output_type": "execute_result"
    }
   ],
   "source": [
    "class Solution:\n",
    "    def maxRepeating(self, sequence: str, word: str) -> int:\n",
    "        count = 0 \n",
    "\n",
    "        while True:\n",
    "            if word * count not in sequence:\n",
    "                return count - 1\n",
    "            count += 1\n",
    "\n",
    "s = Solution()\n",
    "a = \"aaabaaaabaaabaaaabaaaabaaaabaaaaba\"\n",
    "b = \"aaaba\"\n",
    "s.maxRepeating(a, b)"
   ]
  },
  {
   "cell_type": "markdown",
   "id": "5998fcd0-7be7-417f-8ed7-8e67624ff931",
   "metadata": {
    "jp-MarkdownHeadingCollapsed": true
   },
   "source": [
    "### N-th Tribonacci Number\n",
    "Input: n = 4\n",
    "\n",
    "Output: 4\n",
    "\n",
    "Explanation:\n",
    "\n",
    "T_3 = 0 + 1 + 1 = 2\n",
    "\n",
    "T_4 = 1 + 1 + 2 = 4"
   ]
  },
  {
   "cell_type": "code",
   "execution_count": 5,
   "id": "bc79a233-24d0-4c1b-bdeb-d6d2109dcd98",
   "metadata": {},
   "outputs": [],
   "source": [
    "class Solution:\n",
    "    def tribonacci(self, n: int) -> int:\n",
    "        memo = {0: 0, 1: 1, 2: 1}\n",
    "\n",
    "        def get_digit(n):\n",
    "            if n in memo:\n",
    "                return memo[n]\n",
    "            else:\n",
    "                memo[n] = get_digit(n - 1) + get_digit(n - 2) + get_digit(n - 3)\n",
    "                return memo[n]\n",
    "                \n",
    "        return get_digit(n)        "
   ]
  },
  {
   "cell_type": "markdown",
   "id": "9287da24-8761-401b-89ae-55a984e70cf5",
   "metadata": {
    "jp-MarkdownHeadingCollapsed": true
   },
   "source": [
    "### Divisor Game\n",
    "alice and bob. \n",
    "\n",
    "Input: n = 2\n",
    "\n",
    "Output: true\n",
    "\n",
    "note. alice wins i think if there is an even number"
   ]
  },
  {
   "cell_type": "code",
   "execution_count": 6,
   "id": "d4e2f50d-0b91-451d-a77f-a34cd2999dcc",
   "metadata": {},
   "outputs": [],
   "source": [
    "class Solution:\n",
    "    def divisorGame(self, n: int) -> bool:\n",
    "        return n % 2 == 0"
   ]
  },
  {
   "cell_type": "markdown",
   "id": "85e7e9c5-bac2-49be-8863-46687d4b439c",
   "metadata": {
    "jp-MarkdownHeadingCollapsed": true
   },
   "source": [
    "### Min Cost Climbing Stairs\n",
    "Input: cost = [1,100,1,1,1,100,1,1,100,1]\n",
    "\n",
    "Output: 6\n",
    "\n",
    "Input: cost = [10,15,20]\n",
    "\n",
    "Output: 15"
   ]
  },
  {
   "cell_type": "code",
   "execution_count": 7,
   "id": "2334e669-972d-45dd-92c5-8702795b832a",
   "metadata": {},
   "outputs": [
    {
     "data": {
      "text/plain": [
       "1"
      ]
     },
     "execution_count": 7,
     "metadata": {},
     "output_type": "execute_result"
    }
   ],
   "source": [
    "class Solution:\n",
    "    def minCostClimbingStairs(self, cost: List[int]) -> int:\n",
    "        i, j, h = 0, 1, 2\n",
    "        total = 0\n",
    "\n",
    "        while h <= len(cost) - 1:\n",
    "            if cost[i] == cost[h] or cost[j] == cost[h] + cost[i]:\n",
    "                if i == 0:\n",
    "                    total += cost[h] + cost[i]\n",
    "                else:\n",
    "                    total += cost[h]\n",
    "                i += 2\n",
    "                j += 2\n",
    "                h += 2\n",
    "            else:\n",
    "                if cost[i] + cost[h] > cost[j]:\n",
    "                    total += cost[j]\n",
    "                else:\n",
    "                    total += cost[h]\n",
    "                i += 1\n",
    "                j += 1\n",
    "                h += 1\n",
    "\n",
    "        return total\n",
    "\n",
    "s = Solution()\n",
    "cost = [1,100,1,1,1,100,1,1,100,1]\n",
    "cost = [0, 0, 2, 1]\n",
    "# cost = [10, 15, 20]\n",
    "s.minCostClimbingStairs(cost)"
   ]
  },
  {
   "cell_type": "code",
   "execution_count": 8,
   "id": "06b66f2e-6298-4ae4-96ad-295eb294003a",
   "metadata": {},
   "outputs": [
    {
     "name": "stdout",
     "output_type": "stream",
     "text": [
      "[1, 100, 1, 1, 1, 100, 1, 1, 100, 1, 0]\n"
     ]
    },
    {
     "data": {
      "text/plain": [
       "5"
      ]
     },
     "execution_count": 8,
     "metadata": {},
     "output_type": "execute_result"
    }
   ],
   "source": [
    "class Solution:\n",
    "    def minCostClimbingStairs(self, cost: List[int]) -> int:\n",
    "        cost = cost + [0]\n",
    "        print(cost)\n",
    "        i = 0 \n",
    "        total = 0\n",
    "\n",
    "        while i <= len(cost):\n",
    "            j = i + 1\n",
    "            h = i + 2\n",
    "            try: \n",
    "                if cost[j] >= cost[h]:\n",
    "                    total += cost[h]\n",
    "                    i += 2\n",
    "                else:\n",
    "                    if i == 0:\n",
    "                        total = cost[j] + cost[i]\n",
    "                    else:\n",
    "                        total += cost[j]\n",
    "                    i += 1\n",
    "            except:\n",
    "                return total\n",
    "\n",
    "        return total\n",
    "\n",
    "s = Solution()\n",
    "cost = [1,100,1,1,1,100,1,1,100,1]\n",
    "# cost = [0, 0, 2, 1]\n",
    "# cost = [10, 15, 20]\n",
    "s.minCostClimbingStairs(cost)"
   ]
  },
  {
   "cell_type": "code",
   "execution_count": 9,
   "id": "528bf398-342d-4c09-88c0-ccee6ca3f356",
   "metadata": {},
   "outputs": [
    {
     "data": {
      "text/plain": [
       "15"
      ]
     },
     "execution_count": 9,
     "metadata": {},
     "output_type": "execute_result"
    }
   ],
   "source": [
    "class Solution:\n",
    "    def minCostClimbingStairs(self, cost: List[int]) -> int:\n",
    "        cost = cost + [0]\n",
    "        \n",
    "        for i in range(len(cost) - 3, -1, -1):\n",
    "            cost[i] += min(cost[i + 1], cost[i + 2])\n",
    "        \n",
    "        return min(cost[0], cost[1])\n",
    "\n",
    "s = Solution()\n",
    "cost = [1,100,1,1,1,100,1,1,100,1]\n",
    "cost = [0, 0, 2, 1]\n",
    "cost = [10, 15, 20]\n",
    "s.minCostClimbingStairs(cost)"
   ]
  },
  {
   "cell_type": "markdown",
   "id": "8937a1b3-d305-4421-ab50-7519d943523e",
   "metadata": {
    "jp-MarkdownHeadingCollapsed": true
   },
   "source": [
    "### Fibonacci Number\n",
    "Input: n = 2\n",
    "\n",
    "Output: 1"
   ]
  },
  {
   "cell_type": "code",
   "execution_count": 10,
   "id": "b1e37c00-d2f4-4410-8c90-ed0a01f965c6",
   "metadata": {},
   "outputs": [],
   "source": [
    "class Solution:\n",
    "    def fib(self, n: int) -> int:\n",
    "        memo = {0: 0, 1: 1}\n",
    "\n",
    "        def get_digit(n):\n",
    "            if n in memo:\n",
    "                return memo[n]\n",
    "            else:\n",
    "                memo[n] = get_digit(n - 1) + get_digit(n - 2)\n",
    "                return memo[n]\n",
    "                \n",
    "        return get_digit(n)"
   ]
  },
  {
   "cell_type": "markdown",
   "id": "6011ab83-0690-4cf6-8322-8fa73cd2d7f4",
   "metadata": {
    "jp-MarkdownHeadingCollapsed": true
   },
   "source": [
    "### is Subsequence\n",
    "Input: s = \"abc\", t = \"ahbgdc\"\n",
    "\n",
    "Output: true"
   ]
  },
  {
   "cell_type": "code",
   "execution_count": 11,
   "id": "179edd98-70ed-4def-9eb7-f11f5cf292e6",
   "metadata": {},
   "outputs": [
    {
     "data": {
      "text/plain": [
       "True"
      ]
     },
     "execution_count": 11,
     "metadata": {},
     "output_type": "execute_result"
    }
   ],
   "source": [
    "class Solution:\n",
    "    def isSubsequence(self, s: str, t: str) -> bool:\n",
    "        s = list(s)\n",
    "        t = list(t)\n",
    "        fill = [0 for i in range(len(s))]\n",
    "\n",
    "        for i in range(len(t)):\n",
    "            for j in range(len(s)):\n",
    "                if t[i] == s[j]:\n",
    "                    fill[j] = 1\n",
    "                else:\n",
    "                    continue\n",
    "\n",
    "        return all(x == 1 for x in fill)\n",
    "        \n",
    "s = Solution()\n",
    "s.isSubsequence('abc', 'ahbgdc')\n",
    "s.isSubsequence('acb', 'ahbgdc')"
   ]
  },
  {
   "cell_type": "code",
   "execution_count": 12,
   "id": "bd699244-3978-4c3b-9fdd-6eb56533a478",
   "metadata": {},
   "outputs": [
    {
     "data": {
      "text/plain": [
       "False"
      ]
     },
     "execution_count": 12,
     "metadata": {},
     "output_type": "execute_result"
    }
   ],
   "source": [
    "class Solution:\n",
    "    def isSubsequence(self, s: str, t: str) -> bool:\n",
    "        s = list(s)\n",
    "        t = list(t)\n",
    "        now_j = 0\n",
    "        fill = [0 for i in range(len(s))]\n",
    "\n",
    "        for i in range(len(t)):\n",
    "            for j in range(len(s)):\n",
    "                if t[i] == s[j] and fill[j] == 0:\n",
    "                    fill[j] = 1\n",
    "                    now_j += 1\n",
    "                elif fill[j] == 0 and now_j > j:\n",
    "                    fill[j] = 2\n",
    "\n",
    "        return all(x == 1 for x in fill)\n",
    "        \n",
    "s = Solution()\n",
    "s.isSubsequence('acb', 'ahbgdc')"
   ]
  },
  {
   "cell_type": "code",
   "execution_count": 13,
   "id": "757a7a0e-2815-4417-bc4c-0a12d9a277d8",
   "metadata": {
    "scrolled": true
   },
   "outputs": [
    {
     "name": "stdout",
     "output_type": "stream",
     "text": [
      "c ['b', 'c'] [1, 0, 0]\n",
      "b ['c'] [1, 1, 0]\n",
      "a ['c'] [1, 1, 0]\n"
     ]
    },
    {
     "data": {
      "text/plain": [
       "False"
      ]
     },
     "execution_count": 13,
     "metadata": {},
     "output_type": "execute_result"
    }
   ],
   "source": [
    "class Solution:\n",
    "    def isSubsequence(self, s: str, t: str) -> bool:\n",
    "        s = list(s)\n",
    "        t = list(t)\n",
    "        fill = [0 for i in range(len(s))]\n",
    "        idx = 0\n",
    "\n",
    "        for char in t:\n",
    "            if char in s[idx:]:\n",
    "                fill[idx] = 1\n",
    "                idx += 1\n",
    "            print(char, s[idx:], fill)\n",
    "\n",
    "        return all(x == 1 for x in fill)\n",
    "\n",
    "s = Solution()\n",
    "s.isSubsequence('abc', 'cba')"
   ]
  },
  {
   "cell_type": "code",
   "execution_count": 14,
   "id": "87b3c2be-32e5-4d00-abf5-fce16ce91303",
   "metadata": {
    "scrolled": true
   },
   "outputs": [
    {
     "data": {
      "text/plain": [
       "False"
      ]
     },
     "execution_count": 14,
     "metadata": {},
     "output_type": "execute_result"
    }
   ],
   "source": [
    "class Solution:\n",
    "    def isSubsequence(self, s: str, t: str) -> bool:\n",
    "        i, j = 0, 0\n",
    "        fill = [0 for i in range(len(s))]\n",
    "\n",
    "        while i < len(s) and j < len(t):\n",
    "            if s[i] == t[j]:\n",
    "                fill[i] = 1\n",
    "                i += 1\n",
    "            j += 1\n",
    "            \n",
    "        return all(x == 1 for x in fill)\n",
    "\n",
    "s = Solution()\n",
    "# s.isSubsequence('abc', 'zacxbx')\n",
    "s.isSubsequence('abc', 'ahbdcg')\n",
    "s.isSubsequence('aaaaaa', 'bbaaaa')"
   ]
  },
  {
   "cell_type": "code",
   "execution_count": 15,
   "id": "0c5ccb7d-e0ff-4ac8-9abc-1dee8bb3f944",
   "metadata": {
    "scrolled": true
   },
   "outputs": [
    {
     "data": {
      "text/plain": [
       "False"
      ]
     },
     "execution_count": 15,
     "metadata": {},
     "output_type": "execute_result"
    }
   ],
   "source": [
    "class Solution:\n",
    "    def isSubsequence(self, s: str, t: str) -> bool:\n",
    "        i, j = 0, 0\n",
    "        fill = [0 for i in range(len(s))]\n",
    "\n",
    "        while i < len(s) and j < len(t):\n",
    "            if s[i] == t[j]:\n",
    "                fill[i] = 1\n",
    "                i += 1\n",
    "            j += 1\n",
    "            \n",
    "        return True if i == len(s) else False\n",
    "\n",
    "s = Solution()\n",
    "# s.isSubsequence('abc', 'zacxbx')\n",
    "s.isSubsequence('abc', 'ahbdcg')\n",
    "s.isSubsequence('aaaaaa', 'bbaaaa')"
   ]
  },
  {
   "cell_type": "markdown",
   "id": "780050c6-92cf-4d7b-beed-e707b89586f7",
   "metadata": {
    "jp-MarkdownHeadingCollapsed": true
   },
   "source": [
    "### Counting Bits\n",
    "Input: n = 2\n",
    "\n",
    "Output: [0,1,1]"
   ]
  },
  {
   "cell_type": "code",
   "execution_count": 16,
   "id": "82da4750-ec48-49ee-b1fc-7ff455e357d1",
   "metadata": {},
   "outputs": [
    {
     "data": {
      "text/plain": [
       "[0]"
      ]
     },
     "execution_count": 16,
     "metadata": {},
     "output_type": "execute_result"
    }
   ],
   "source": [
    "class Solution:\n",
    "    def countBits(self, n: int) -> List[int]:\n",
    "        memo = {0: 0}\n",
    "        \n",
    "        def get_binary(n):\n",
    "            if n in memo:\n",
    "                return list(memo.values())\n",
    "            else:\n",
    "                for i in range(n + 1):\n",
    "                    if i in memo:\n",
    "                        continue\n",
    "                    else:\n",
    "                        memo[i] = i.bit_count()\n",
    "                return list(memo.values())\n",
    "\n",
    "        return get_binary(n)  \n",
    "\n",
    "s = Solution()\n",
    "num = 0\n",
    "s.countBits(num)"
   ]
  },
  {
   "cell_type": "code",
   "execution_count": 17,
   "id": "e236cc75-41bd-4231-9c52-86e0205c558c",
   "metadata": {},
   "outputs": [
    {
     "name": "stdout",
     "output_type": "stream",
     "text": [
      "0 <class 'int'>\n",
      "1 <class 'int'>\n",
      "2 <class 'int'>\n",
      "3 <class 'int'>\n",
      "4 <class 'int'>\n"
     ]
    }
   ],
   "source": [
    "for i in range(5):\n",
    "    print(i, type(i))"
   ]
  },
  {
   "cell_type": "code",
   "execution_count": 18,
   "id": "50217816-dba4-496b-932f-8d7756871d69",
   "metadata": {},
   "outputs": [
    {
     "data": {
      "text/plain": [
       "[12, 14, 15]"
      ]
     },
     "execution_count": 18,
     "metadata": {},
     "output_type": "execute_result"
    }
   ],
   "source": [
    "abc123 = {1: 12, 2:14}\n",
    "abc123[3] = 15\n",
    "list(abc123.values())"
   ]
  },
  {
   "cell_type": "code",
   "execution_count": 19,
   "id": "e581b8e1-0e45-453a-8ba6-3935b4a70724",
   "metadata": {},
   "outputs": [
    {
     "data": {
      "text/plain": [
       "2"
      ]
     },
     "execution_count": 19,
     "metadata": {},
     "output_type": "execute_result"
    }
   ],
   "source": [
    "num = 3\n",
    "num.bit_count()"
   ]
  },
  {
   "cell_type": "markdown",
   "id": "82fcc751-bb33-44a8-8e4d-7724492e6113",
   "metadata": {
    "jp-MarkdownHeadingCollapsed": true
   },
   "source": [
    "### Best Time to Buy and Sell Stock\n",
    "input: [7,1,5,3,6,4]\n",
    "\n",
    "output: 5"
   ]
  },
  {
   "cell_type": "code",
   "execution_count": 20,
   "id": "2e6276d1-5afc-4b26-852e-b4fb660aad5a",
   "metadata": {
    "scrolled": true
   },
   "outputs": [
    {
     "data": {
      "text/plain": [
       "5"
      ]
     },
     "execution_count": 20,
     "metadata": {},
     "output_type": "execute_result"
    }
   ],
   "source": [
    "class Solution:\n",
    "    def maxProfit(self, prices: List[int]) -> int:\n",
    "        buy, sell = 0, 0\n",
    "        profit, max_profit = 0, 0\n",
    "    \n",
    "        for i in range(len(prices)):\n",
    "            buy = prices[i]\n",
    "            for j in range(i, len(prices)):\n",
    "                sell = prices[j]\n",
    "                profit = sell - buy\n",
    "                \n",
    "                if profit >= max_profit:\n",
    "                    max_profit = profit\n",
    "                else:\n",
    "                    continue\n",
    "                    \n",
    "        return max_profit\n",
    "\n",
    "prices =  [7,1,5,3,6,4]\n",
    "s = Solution()\n",
    "s.maxProfit(prices)"
   ]
  },
  {
   "cell_type": "code",
   "execution_count": 21,
   "id": "5032a4e9-e4fe-47bb-b965-d9a11c678704",
   "metadata": {
    "scrolled": true
   },
   "outputs": [
    {
     "data": {
      "text/plain": [
       "5"
      ]
     },
     "execution_count": 21,
     "metadata": {},
     "output_type": "execute_result"
    }
   ],
   "source": [
    "class Solution:\n",
    "    def maxProfit(self, prices: List[int]) -> int:\n",
    "        buy = float(\"inf\")\n",
    "        profit = 0\n",
    "        \n",
    "        for price in prices:\n",
    "            if price < buy:\n",
    "                buy = price\n",
    "            elif price - buy > profit:\n",
    "                profit = price - buy\n",
    "                    \n",
    "        return profit\n",
    "\n",
    "prices =  [7,1,5,3,6,4]\n",
    "s = Solution()\n",
    "s.maxProfit(prices)"
   ]
  },
  {
   "cell_type": "code",
   "execution_count": null,
   "id": "4f6d67fe-ad41-46fa-a0cb-102c7946eda7",
   "metadata": {},
   "outputs": [],
   "source": []
  }
 ],
 "metadata": {
  "kernelspec": {
   "display_name": "Python 3 (ipykernel)",
   "language": "python",
   "name": "python3"
  },
  "language_info": {
   "codemirror_mode": {
    "name": "ipython",
    "version": 3
   },
   "file_extension": ".py",
   "mimetype": "text/x-python",
   "name": "python",
   "nbconvert_exporter": "python",
   "pygments_lexer": "ipython3",
   "version": "3.13.6"
  }
 },
 "nbformat": 4,
 "nbformat_minor": 5
}
