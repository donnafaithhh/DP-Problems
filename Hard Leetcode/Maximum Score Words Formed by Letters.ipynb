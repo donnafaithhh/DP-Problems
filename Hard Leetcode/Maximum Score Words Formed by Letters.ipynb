{
 "cells": [
  {
   "cell_type": "markdown",
   "id": "b3d47ba3-58c3-4100-8c4b-c4792c38f493",
   "metadata": {},
   "source": [
    "This notebook was created by Donna Faith Go."
   ]
  },
  {
   "cell_type": "markdown",
   "id": "ecedef1e-e997-48e0-99f2-f19fd88496c7",
   "metadata": {},
   "source": [
    "## Imports"
   ]
  },
  {
   "cell_type": "code",
   "execution_count": 1,
   "id": "97963d34-988a-4579-bb29-2e03221cb7cf",
   "metadata": {},
   "outputs": [],
   "source": [
    "from typing import List, Optional\n",
    "import math\n",
    "from collections import deque"
   ]
  },
  {
   "cell_type": "markdown",
   "id": "52f82248-596e-4ecb-b88e-153cdd420ca5",
   "metadata": {},
   "source": [
    "### Maximum Score Words Formed by Letters\n",
    "**Description**\n",
    "\n",
    "Given a list of words, list of  single letters (might be repeating) and score of every character.\n",
    "\n",
    "Return the maximum score of any valid set of words formed by using the given letters (words[i] cannot be used two or more times).\n",
    "\n",
    "It is not necessary to use all characters in letters and each letter can only be used once. Score of letters 'a', 'b', 'c', ... ,'z' is given by score[0], score[1], ... , score[25] respectively.\n",
    "\n",
    "**Example 1**\n",
    "\n",
    "Input: words = [\"dog\",\"cat\",\"dad\",\"good\"], letters = [\"a\",\"a\",\"c\",\"d\",\"d\",\"d\",\"g\",\"o\",\"o\"], score = [1,0,9,5,0,0,3,0,0,0,0,0,0,0,2,0,0,0,0,0,0,0,0,0,0,0]\n",
    "\n",
    "Output: 23\n",
    "\n",
    "Explanation:\n",
    "\n",
    "Score  a=1, c=9, d=5, g=3, o=2\n",
    "\n",
    "Given letters, we can form the words \"dad\" (5+1+5) and \"good\" (3+2+2+5) with a score of 23.\n",
    "\n",
    "Words \"dad\" and \"dog\" only get a score of 21.\n",
    "\n",
    "**Example 2**\n",
    "\n",
    "Input: words = [\"xxxz\",\"ax\",\"bx\",\"cx\"], letters = [\"z\",\"a\",\"b\",\"c\",\"x\",\"x\",\"x\"], score = [4,4,4,0,0,0,0,0,0,0,0,0,0,0,0,0,0,0,0,0,0,0,0,5,0,10]\n",
    "\n",
    "Output: 27\n",
    "\n",
    "**Example 3**\n",
    "\n",
    "Input: words = [\"leetcode\"], letters = [\"l\",\"e\",\"t\",\"c\",\"o\",\"d\"], score = [0,0,1,1,1,0,0,0,0,0,0,1,0,0,1,0,0,0,0,1,0,0,0,0,0,0]\n",
    "\n",
    "Output: 0"
   ]
  },
  {
   "cell_type": "markdown",
   "id": "1801e2ad-c5f5-4de7-a46c-14651348b619",
   "metadata": {},
   "source": [
    "Upon understanding the problem, I see that the `score` list pertains to the score per letter in the alphabet."
   ]
  },
  {
   "cell_type": "code",
   "execution_count": 2,
   "id": "4d2f238b-a587-4212-931f-d7f6f338c3be",
   "metadata": {},
   "outputs": [
    {
     "data": {
      "text/plain": [
       "26"
      ]
     },
     "execution_count": 2,
     "metadata": {},
     "output_type": "execute_result"
    }
   ],
   "source": [
    "score = [4,4,4,0,0,0,0,0,0,0,0,0,0,0,0,0,0,0,0,0,0,0,0,5,0,10]\n",
    "len(score)"
   ]
  },
  {
   "cell_type": "code",
   "execution_count": 19,
   "id": "bff2b825-3032-4e20-bb7f-d08420b44535",
   "metadata": {},
   "outputs": [
    {
     "name": "stdout",
     "output_type": "stream",
     "text": [
      "23\n"
     ]
    }
   ],
   "source": [
    "from collections import Counter\n",
    "from typing import List\n",
    "\n",
    "class Solution:\n",
    "    def maxScoreWords(self, words: List[str], letters: List[str], score: List[int]) -> int:\n",
    "        alphabet = list('abcdefghijklmnopqrstuvwxyz')\n",
    "        score_dict = {}\n",
    "\n",
    "        # mapping the scores to the letters\n",
    "        for a in range(len(alphabet)):\n",
    "            if score[a] != 0:\n",
    "                score_dict[alphabet[a]] = score[a]\n",
    "\n",
    "        # list of possible combinations based on words and letters\n",
    "        def find_combinations(letters, words):\n",
    "            result = []\n",
    "            letter_count = Counter(letters)\n",
    "\n",
    "            def can_make(word, count):\n",
    "                need = Counter(word)\n",
    "                for c in need:\n",
    "                    if need[c] > count.get(c, 0):\n",
    "                        return None\n",
    "                return count - need\n",
    "\n",
    "            def backtrack(i, count, path):\n",
    "                if i == len(words):\n",
    "                    result.append(path[:])\n",
    "                    return\n",
    "\n",
    "                # skip current word\n",
    "                backtrack(i + 1, count, path)\n",
    "\n",
    "                # include current word if possible\n",
    "                new_count = can_make(words[i], count)\n",
    "                if new_count is not None:\n",
    "                    path.append(words[i])\n",
    "                    backtrack(i + 1, new_count, path)\n",
    "                    path.pop()\n",
    "\n",
    "            backtrack(0, letter_count, [])\n",
    "            return result\n",
    "\n",
    "        lst = find_combinations(letters, words)\n",
    "\n",
    "        # calculate score for each combination\n",
    "        def calc_score(comb):\n",
    "            total = 0\n",
    "            for word in comb:\n",
    "                for ch in word:\n",
    "                    total += score_dict.get(ch, 0)\n",
    "            return total\n",
    "\n",
    "        output = 0\n",
    "        for comb in lst:\n",
    "            output = max(output, calc_score(comb))\n",
    "\n",
    "        return output\n",
    "\n",
    "s = Solution()\n",
    "w = [\"dog\",\"cat\",\"dad\",\"good\"]\n",
    "l = [\"a\",\"a\",\"c\",\"d\",\"d\",\"d\",\"g\",\"o\",\"o\"]\n",
    "ss = [1,0,9,5,0,0,3,0,0,0,0,0,0,0,2,0,0,0,0,0,0,0,0,0,0,0]\n",
    "print(s.maxScoreWords(w, l, ss))\n"
   ]
  },
  {
   "cell_type": "code",
   "execution_count": 18,
   "id": "42464cb3-759a-4687-8aa7-a6c413c54c1b",
   "metadata": {
    "scrolled": true
   },
   "outputs": [
    {
     "data": {
      "text/plain": [
       "(0, [[], ['good'], ['dad'], ['dad', 'good'], ['dog'], ['dog', 'dad']])"
      ]
     },
     "execution_count": 18,
     "metadata": {},
     "output_type": "execute_result"
    }
   ],
   "source": [
    "class Solution:\n",
    "    def maxScoreWords(self, words: List[str], letters: List[str], score: List[int]) -> int:\n",
    "        output = 0\n",
    "        alphabet = list('abcdefghijklmnopqrstuvwxyz')\n",
    "        score_dict = {}\n",
    "        \n",
    "        # mapping the scores to the letters\n",
    "        for a in range(len(alphabet)):\n",
    "            if score[a] != 0:\n",
    "                score_dict[alphabet[a]] = score[a]\n",
    "        \n",
    "        # list of possible combinations based on words and letters\n",
    "        def find_combinations(letters, words):\n",
    "            result = []\n",
    "            letter_count = Counter(letters)\n",
    "        \n",
    "            def can_make(word, count):\n",
    "                need = Counter(word)\n",
    "                for c in need:\n",
    "                    if need[c] > count.get(c, 0):\n",
    "                        return None\n",
    "                return count - need\n",
    "        \n",
    "            def backtrack(i, count, path):\n",
    "                if i == len(words):\n",
    "                    result.append(path[:])\n",
    "                    return\n",
    "        \n",
    "                backtrack(i + 1, count, path)\n",
    "        \n",
    "                new_count = can_make(words[i], count)\n",
    "                if new_count is not None:\n",
    "                    path.append(words[i])\n",
    "                    backtrack(i + 1, new_count, path)\n",
    "                    path.pop()\n",
    "        \n",
    "            backtrack(0, letter_count, [])\n",
    "            return result\n",
    "            \n",
    "        lst = find_combinations(letters, words)\n",
    "        \n",
    "        return output, lst\n",
    "\n",
    "s = Solution()\n",
    "w = [\"dog\",\"cat\",\"dad\",\"good\"]\n",
    "l = [\"a\",\"a\",\"c\",\"d\",\"d\",\"d\",\"g\",\"o\",\"o\"]\n",
    "ss = [1,0,9,5,0,0,3,0,0,0,0,0,0,0,2,0,0,0,0,0,0,0,0,0,0,0]\n",
    "s.maxScoreWords(w, l, ss)"
   ]
  },
  {
   "cell_type": "code",
   "execution_count": null,
   "id": "c81382f9-698a-4b74-9aef-793f46265e1d",
   "metadata": {},
   "outputs": [],
   "source": [
    "def find_combinations(letters, words):\n",
    "    result = []\n",
    "    letter_count = Counter(letters)\n",
    "\n",
    "    def can_make(word, letter_count):\n",
    "        for letter in list(word):\n",
    "            if letter_count[letter] > 0:\n",
    "                letter_count -= 1\n",
    "\n",
    "    def backtrack(i, count, path):\n",
    "        if i == len(words):\n",
    "            result.append(path[:])\n",
    "            return\n",
    "\n",
    "        backtrack(i+1, count, path)\n",
    "\n",
    "        if can_make(words[i], count):\n",
    "            path.append(words[i])\n",
    "            backtrack(i+1, count, path)\n",
    "            path.pop()\n",
    "\n",
    "\n",
    "    backtrack(0, letter_count, [])\n",
    "    return result"
   ]
  },
  {
   "cell_type": "code",
   "execution_count": 16,
   "id": "405c4342-4c3f-4054-8fa5-d4979775aae0",
   "metadata": {},
   "outputs": [
    {
     "name": "stdout",
     "output_type": "stream",
     "text": [
      "[[], ['good'], ['dad'], ['dad', 'good'], ['dog'], ['dog', 'dad']]\n"
     ]
    }
   ],
   "source": [
    "from collections import Counter\n",
    "\n",
    "def find_combinations(letters, words):\n",
    "    result = []\n",
    "    letter_count = Counter(letters)\n",
    "\n",
    "    def can_make(word, count):\n",
    "        need = Counter(word)\n",
    "        for c in need:\n",
    "            if need[c] > count.get(c, 0):\n",
    "                return None\n",
    "        return count - need\n",
    "\n",
    "    def backtrack(i, count, path):\n",
    "        if i == len(words):\n",
    "            result.append(path[:])\n",
    "            return\n",
    "\n",
    "        backtrack(i + 1, count, path)\n",
    "\n",
    "        new_count = can_make(words[i], count)\n",
    "        if new_count is not None:\n",
    "            path.append(words[i])\n",
    "            backtrack(i + 1, new_count, path)\n",
    "            path.pop()\n",
    "\n",
    "    backtrack(0, letter_count, [])\n",
    "    return result\n",
    "\n",
    "\n",
    "w = [\"dog\",\"cat\",\"dad\",\"good\"]\n",
    "l = [\"a\",\"a\",\"c\",\"d\",\"d\",\"d\",\"g\",\"o\",\"o\"]\n",
    "\n",
    "print(find_combinations(l, w))\n"
   ]
  },
  {
   "cell_type": "code",
   "execution_count": null,
   "id": "59042f19-397e-4fb6-90be-a79c67bbdb60",
   "metadata": {},
   "outputs": [],
   "source": []
  }
 ],
 "metadata": {
  "kernelspec": {
   "display_name": "Python 3 (ipykernel)",
   "language": "python",
   "name": "python3"
  },
  "language_info": {
   "codemirror_mode": {
    "name": "ipython",
    "version": 3
   },
   "file_extension": ".py",
   "mimetype": "text/x-python",
   "name": "python",
   "nbconvert_exporter": "python",
   "pygments_lexer": "ipython3",
   "version": "3.13.6"
  }
 },
 "nbformat": 4,
 "nbformat_minor": 5
}
